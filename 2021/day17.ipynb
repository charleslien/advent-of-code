{
  "cells": [
    {
      "cell_type": "code",
      "source": [
        "!git clone https://github.com/charleslien/advent-of-code aoc\n",
        "from aoc.lib import *"
      ],
      "metadata": {
        "id": "Sx5R3ybxCdii",
        "colab": {
          "base_uri": "https://localhost:8080/"
        },
        "outputId": "c7236ed0-d4bb-44ce-a50a-ac3e54fcac22"
      },
      "execution_count": 1,
      "outputs": [
        {
          "output_type": "stream",
          "name": "stdout",
          "text": [
            "Cloning into 'aoc'...\n",
            "remote: Enumerating objects: 311, done.\u001b[K\n",
            "remote: Counting objects:   0% (1/115)\u001b[K\rremote: Counting objects:   1% (2/115)\u001b[K\rremote: Counting objects:   2% (3/115)\u001b[K\rremote: Counting objects:   3% (4/115)\u001b[K\rremote: Counting objects:   4% (5/115)\u001b[K\rremote: Counting objects:   5% (6/115)\u001b[K\rremote: Counting objects:   6% (7/115)\u001b[K\rremote: Counting objects:   7% (9/115)\u001b[K\rremote: Counting objects:   8% (10/115)\u001b[K\rremote: Counting objects:   9% (11/115)\u001b[K\rremote: Counting objects:  10% (12/115)\u001b[K\rremote: Counting objects:  11% (13/115)\u001b[K\rremote: Counting objects:  12% (14/115)\u001b[K\rremote: Counting objects:  13% (15/115)\u001b[K\rremote: Counting objects:  14% (17/115)\u001b[K\rremote: Counting objects:  15% (18/115)\u001b[K\rremote: Counting objects:  16% (19/115)\u001b[K\rremote: Counting objects:  17% (20/115)\u001b[K\rremote: Counting objects:  18% (21/115)\u001b[K\rremote: Counting objects:  19% (22/115)\u001b[K\rremote: Counting objects:  20% (23/115)\u001b[K\rremote: Counting objects:  21% (25/115)\u001b[K\rremote: Counting objects:  22% (26/115)\u001b[K\rremote: Counting objects:  23% (27/115)\u001b[K\rremote: Counting objects:  24% (28/115)\u001b[K\rremote: Counting objects:  25% (29/115)\u001b[K\rremote: Counting objects:  26% (30/115)\u001b[K\rremote: Counting objects:  27% (32/115)\u001b[K\rremote: Counting objects:  28% (33/115)\u001b[K\rremote: Counting objects:  29% (34/115)\u001b[K\rremote: Counting objects:  30% (35/115)\u001b[K\rremote: Counting objects:  31% (36/115)\u001b[K\rremote: Counting objects:  32% (37/115)\u001b[K\rremote: Counting objects:  33% (38/115)\u001b[K\rremote: Counting objects:  34% (40/115)\u001b[K\rremote: Counting objects:  35% (41/115)\u001b[K\rremote: Counting objects:  36% (42/115)\u001b[K\rremote: Counting objects:  37% (43/115)\u001b[K\rremote: Counting objects:  38% (44/115)\u001b[K\rremote: Counting objects:  39% (45/115)\u001b[K\rremote: Counting objects:  40% (46/115)\u001b[K\rremote: Counting objects:  41% (48/115)\u001b[K\rremote: Counting objects:  42% (49/115)\u001b[K\rremote: Counting objects:  43% (50/115)\u001b[K\rremote: Counting objects:  44% (51/115)\u001b[K\rremote: Counting objects:  45% (52/115)\u001b[K\rremote: Counting objects:  46% (53/115)\u001b[K\rremote: Counting objects:  47% (55/115)\u001b[K\rremote: Counting objects:  48% (56/115)\u001b[K\rremote: Counting objects:  49% (57/115)\u001b[K\rremote: Counting objects:  50% (58/115)\u001b[K\rremote: Counting objects:  51% (59/115)\u001b[K\rremote: Counting objects:  52% (60/115)\u001b[K\rremote: Counting objects:  53% (61/115)\u001b[K\rremote: Counting objects:  54% (63/115)\u001b[K\rremote: Counting objects:  55% (64/115)\u001b[K\rremote: Counting objects:  56% (65/115)\u001b[K\rremote: Counting objects:  57% (66/115)\u001b[K\rremote: Counting objects:  58% (67/115)\u001b[K\rremote: Counting objects:  59% (68/115)\u001b[K\rremote: Counting objects:  60% (69/115)\u001b[K\rremote: Counting objects:  61% (71/115)\u001b[K\rremote: Counting objects:  62% (72/115)\u001b[K\rremote: Counting objects:  63% (73/115)\u001b[K\rremote: Counting objects:  64% (74/115)\u001b[K\rremote: Counting objects:  65% (75/115)\u001b[K\rremote: Counting objects:  66% (76/115)\u001b[K\rremote: Counting objects:  67% (78/115)\u001b[K\rremote: Counting objects:  68% (79/115)\u001b[K\rremote: Counting objects:  69% (80/115)\u001b[K\rremote: Counting objects:  70% (81/115)\u001b[K\rremote: Counting objects:  71% (82/115)\u001b[K\rremote: Counting objects:  72% (83/115)\u001b[K\rremote: Counting objects:  73% (84/115)\u001b[K\rremote: Counting objects:  74% (86/115)\u001b[K\rremote: Counting objects:  75% (87/115)\u001b[K\rremote: Counting objects:  76% (88/115)\u001b[K\rremote: Counting objects:  77% (89/115)\u001b[K\rremote: Counting objects:  78% (90/115)\u001b[K\rremote: Counting objects:  79% (91/115)\u001b[K\rremote: Counting objects:  80% (92/115)\u001b[K\rremote: Counting objects:  81% (94/115)\u001b[K\rremote: Counting objects:  82% (95/115)\u001b[K\rremote: Counting objects:  83% (96/115)\u001b[K\rremote: Counting objects:  84% (97/115)\u001b[K\rremote: Counting objects:  85% (98/115)\u001b[K\rremote: Counting objects:  86% (99/115)\u001b[K\rremote: Counting objects:  87% (101/115)\u001b[K\rremote: Counting objects:  88% (102/115)\u001b[K\rremote: Counting objects:  89% (103/115)\u001b[K\rremote: Counting objects:  90% (104/115)\u001b[K\rremote: Counting objects:  91% (105/115)\u001b[K\rremote: Counting objects:  92% (106/115)\u001b[K\rremote: Counting objects:  93% (107/115)\u001b[K\rremote: Counting objects:  94% (109/115)\u001b[K\rremote: Counting objects:  95% (110/115)\u001b[K\rremote: Counting objects:  96% (111/115)\u001b[K\rremote: Counting objects:  97% (112/115)\u001b[K\rremote: Counting objects:  98% (113/115)\u001b[K\rremote: Counting objects:  99% (114/115)\u001b[K\rremote: Counting objects: 100% (115/115)\u001b[K\rremote: Counting objects: 100% (115/115), done.\u001b[K\n",
            "remote: Compressing objects:   0% (1/112)\u001b[K\rremote: Compressing objects:   1% (2/112)\u001b[K\rremote: Compressing objects:   2% (3/112)\u001b[K\rremote: Compressing objects:   3% (4/112)\u001b[K\rremote: Compressing objects:   4% (5/112)\u001b[K\rremote: Compressing objects:   5% (6/112)\u001b[K\rremote: Compressing objects:   6% (7/112)\u001b[K\rremote: Compressing objects:   7% (8/112)\u001b[K\rremote: Compressing objects:   8% (9/112)\u001b[K\rremote: Compressing objects:   9% (11/112)\u001b[K\rremote: Compressing objects:  10% (12/112)\u001b[K\rremote: Compressing objects:  11% (13/112)\u001b[K\rremote: Compressing objects:  12% (14/112)\u001b[K\rremote: Compressing objects:  13% (15/112)\u001b[K\rremote: Compressing objects:  14% (16/112)\u001b[K\rremote: Compressing objects:  15% (17/112)\u001b[K\rremote: Compressing objects:  16% (18/112)\u001b[K\rremote: Compressing objects:  17% (20/112)\u001b[K\rremote: Compressing objects:  18% (21/112)\u001b[K\rremote: Compressing objects:  19% (22/112)\u001b[K\rremote: Compressing objects:  20% (23/112)\u001b[K\rremote: Compressing objects:  21% (24/112)\u001b[K\rremote: Compressing objects:  22% (25/112)\u001b[K\rremote: Compressing objects:  23% (26/112)\u001b[K\rremote: Compressing objects:  24% (27/112)\u001b[K\rremote: Compressing objects:  25% (28/112)\u001b[K\rremote: Compressing objects:  26% (30/112)\u001b[K\rremote: Compressing objects:  27% (31/112)\u001b[K\rremote: Compressing objects:  28% (32/112)\u001b[K\rremote: Compressing objects:  29% (33/112)\u001b[K\rremote: Compressing objects:  30% (34/112)\u001b[K\rremote: Compressing objects:  31% (35/112)\u001b[K\rremote: Compressing objects:  32% (36/112)\u001b[K\rremote: Compressing objects:  33% (37/112)\u001b[K\rremote: Compressing objects:  34% (39/112)\u001b[K\rremote: Compressing objects:  35% (40/112)\u001b[K\rremote: Compressing objects:  36% (41/112)\u001b[K\rremote: Compressing objects:  37% (42/112)\u001b[K\rremote: Compressing objects:  38% (43/112)\u001b[K\rremote: Compressing objects:  39% (44/112)\u001b[K\rremote: Compressing objects:  40% (45/112)\u001b[K\rremote: Compressing objects:  41% (46/112)\u001b[K\rremote: Compressing objects:  42% (48/112)\u001b[K\rremote: Compressing objects:  43% (49/112)\u001b[K\rremote: Compressing objects:  44% (50/112)\u001b[K\rremote: Compressing objects:  45% (51/112)\u001b[K\rremote: Compressing objects:  46% (52/112)\u001b[K\rremote: Compressing objects:  47% (53/112)\u001b[K\rremote: Compressing objects:  48% (54/112)\u001b[K\rremote: Compressing objects:  49% (55/112)\u001b[K\rremote: Compressing objects:  50% (56/112)\u001b[K\rremote: Compressing objects:  51% (58/112)\u001b[K\rremote: Compressing objects:  52% (59/112)\u001b[K\rremote: Compressing objects:  53% (60/112)\u001b[K\rremote: Compressing objects:  54% (61/112)\u001b[K\rremote: Compressing objects:  55% (62/112)\u001b[K\rremote: Compressing objects:  56% (63/112)\u001b[K\rremote: Compressing objects:  57% (64/112)\u001b[K\rremote: Compressing objects:  58% (65/112)\u001b[K\rremote: Compressing objects:  59% (67/112)\u001b[K\rremote: Compressing objects:  60% (68/112)\u001b[K\rremote: Compressing objects:  61% (69/112)\u001b[K\rremote: Compressing objects:  62% (70/112)\u001b[K\rremote: Compressing objects:  63% (71/112)\u001b[K\rremote: Compressing objects:  64% (72/112)\u001b[K\rremote: Compressing objects:  65% (73/112)\u001b[K\rremote: Compressing objects:  66% (74/112)\u001b[K\rremote: Compressing objects:  67% (76/112)\u001b[K\rremote: Compressing objects:  68% (77/112)\u001b[K\rremote: Compressing objects:  69% (78/112)\u001b[K\rremote: Compressing objects:  70% (79/112)\u001b[K\rremote: Compressing objects:  71% (80/112)\u001b[K\rremote: Compressing objects:  72% (81/112)\u001b[K\rremote: Compressing objects:  73% (82/112)\u001b[K\rremote: Compressing objects:  74% (83/112)\u001b[K\rremote: Compressing objects:  75% (84/112)\u001b[K\rremote: Compressing objects:  76% (86/112)\u001b[K\rremote: Compressing objects:  77% (87/112)\u001b[K\rremote: Compressing objects:  78% (88/112)\u001b[K\rremote: Compressing objects:  79% (89/112)\u001b[K\rremote: Compressing objects:  80% (90/112)\u001b[K\rremote: Compressing objects:  81% (91/112)\u001b[K\rremote: Compressing objects:  82% (92/112)\u001b[K\rremote: Compressing objects:  83% (93/112)\u001b[K\rremote: Compressing objects:  84% (95/112)\u001b[K\rremote: Compressing objects:  85% (96/112)\u001b[K\rremote: Compressing objects:  86% (97/112)\u001b[K\rremote: Compressing objects:  87% (98/112)\u001b[K\rremote: Compressing objects:  88% (99/112)\u001b[K\rremote: Compressing objects:  89% (100/112)\u001b[K\rremote: Compressing objects:  90% (101/112)\u001b[K\rremote: Compressing objects:  91% (102/112)\u001b[K\rremote: Compressing objects:  92% (104/112)\u001b[K\rremote: Compressing objects:  93% (105/112)\u001b[K\rremote: Compressing objects:  94% (106/112)\u001b[K\rremote: Compressing objects:  95% (107/112)\u001b[K\rremote: Compressing objects:  96% (108/112)\u001b[K\rremote: Compressing objects:  97% (109/112)\u001b[K\rremote: Compressing objects:  98% (110/112)\u001b[K\rremote: Compressing objects:  99% (111/112)\u001b[K\rremote: Compressing objects: 100% (112/112)\u001b[K\rremote: Compressing objects: 100% (112/112), done.\u001b[K\n",
            "remote: Total 311 (delta 54), reused 3 (delta 3), pack-reused 196\u001b[K\n",
            "Receiving objects: 100% (311/311), 405.38 KiB | 9.65 MiB/s, done.\n",
            "Resolving deltas: 100% (99/99), done.\n"
          ]
        }
      ]
    },
    {
      "cell_type": "code",
      "source": [
        "raw = 'target area: x=29..73, y=-248..-194'"
      ],
      "metadata": {
        "id": "mWdqxSjhABiD"
      },
      "execution_count": 2,
      "outputs": []
    },
    {
      "cell_type": "code",
      "source": [
        "xr = [29, 73]\n",
        "yr = [-248, -194]"
      ],
      "metadata": {
        "id": "_wUBti62n2TT"
      },
      "execution_count": 3,
      "outputs": []
    },
    {
      "cell_type": "code",
      "source": [
        "abs(yr[0]) * (abs(yr[0]) - 1) // 2"
      ],
      "metadata": {
        "colab": {
          "base_uri": "https://localhost:8080/"
        },
        "id": "OQSr1Ww5_BeM",
        "outputId": "6bd2e0ce-46e4-4845-b57d-480a05a5f2be"
      },
      "execution_count": 4,
      "outputs": [
        {
          "output_type": "execute_result",
          "data": {
            "text/plain": [
              "30628"
            ]
          },
          "metadata": {},
          "execution_count": 4
        }
      ]
    },
    {
      "cell_type": "code",
      "source": [
        "xr = np.array(xr)\n",
        "yr = np.array(yr)"
      ],
      "metadata": {
        "id": "UiVOq0ZYBDnr"
      },
      "execution_count": 5,
      "outputs": []
    },
    {
      "cell_type": "code",
      "source": [
        "def y_vals(steps):\n",
        "  # result = y + y-1 + y-2 + ... + y-(steps-1)\n",
        "  r = (yr + steps * (steps - 1) // 2) / steps\n",
        "  return list(range(int_round(np.ceil(r[0])), int_round(np.floor(r[1])) + 1))"
      ],
      "metadata": {
        "id": "Jd2wDZSo_ud6"
      },
      "execution_count": 6,
      "outputs": []
    },
    {
      "cell_type": "code",
      "source": [
        "def x_vals(steps):\n",
        "  # result = max(\n",
        "  #     x + x-1 + x-2 + ... + x-(steps-1),\n",
        "  #     x + x-1 + x-2 + ... + 0,\n",
        "  # )\n",
        "  # result = max(x * steps + steps * (steps - 1) // 2, x*(x+1) // 2)\n",
        "  vals = []\n",
        "  x = 0\n",
        "  steps_offset = steps * (steps - 1) // 2\n",
        "  def get_result(xstart):\n",
        "    if steps < xstart:\n",
        "      return xstart * steps - steps_offset\n",
        "    return xstart * (xstart + 1) // 2\n",
        "  result = get_result(x)\n",
        "  while result <= xr[1]:\n",
        "    if result >= xr[0]:\n",
        "      vals.append(x)\n",
        "    result = get_result(x)\n",
        "    x += 1\n",
        "  return vals"
      ],
      "metadata": {
        "id": "IaRM-ViyBtyJ"
      },
      "execution_count": 7,
      "outputs": []
    },
    {
      "cell_type": "code",
      "source": [
        "starts = set()\n",
        "for s in range(1, 2 * abs(yr[0]) + 10):\n",
        "  for x in x_vals(s):\n",
        "    for y in y_vals(s):\n",
        "      starts.add((x, y))\n",
        "len(starts)"
      ],
      "metadata": {
        "colab": {
          "base_uri": "https://localhost:8080/"
        },
        "id": "_S7EBB0oBRHD",
        "outputId": "39935304-1a5b-4c05-914c-576613e4293e"
      },
      "execution_count": 8,
      "outputs": [
        {
          "output_type": "execute_result",
          "data": {
            "text/plain": [
              "4433"
            ]
          },
          "metadata": {},
          "execution_count": 8
        }
      ]
    }
  ],
  "metadata": {
    "colab": {
      "provenance": []
    },
    "kernelspec": {
      "display_name": "Python 3",
      "name": "python3"
    },
    "language_info": {
      "name": "python"
    }
  },
  "nbformat": 4,
  "nbformat_minor": 0
}