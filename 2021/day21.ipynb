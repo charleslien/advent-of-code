{
  "cells": [
    {
      "cell_type": "code",
      "source": [
        "!git clone https://github.com/charleslien/advent-of-code aoc\n",
        "from aoc.lib import *"
      ],
      "metadata": {
        "id": "Sx5R3ybxCdii",
        "colab": {
          "base_uri": "https://localhost:8080/"
        },
        "outputId": "780dffa3-ba23-40c2-bea9-aefaf60bd4dd"
      },
      "execution_count": 1,
      "outputs": [
        {
          "output_type": "stream",
          "name": "stdout",
          "text": [
            "Cloning into 'aoc'...\n",
            "remote: Enumerating objects: 339, done.\u001b[K\n",
            "remote: Counting objects: 100% (143/143), done.\u001b[K\n",
            "remote: Compressing objects: 100% (140/140), done.\u001b[K\n",
            "remote: Total 339 (delta 72), reused 3 (delta 3), pack-reused 196\u001b[K\n",
            "Receiving objects: 100% (339/339), 424.28 KiB | 9.22 MiB/s, done.\n",
            "Resolving deltas: 100% (117/117), done.\n"
          ]
        }
      ]
    },
    {
      "cell_type": "code",
      "source": [
        "raw = '''Player 1 starting position: 10\n",
        "Player 2 starting position: 8'''"
      ],
      "metadata": {
        "id": "kI7OtmmSQIC5"
      },
      "execution_count": 2,
      "outputs": []
    },
    {
      "cell_type": "code",
      "source": [
        "p1 = 10\n",
        "p2 = 8"
      ],
      "metadata": {
        "id": "_wUBti62n2TT"
      },
      "execution_count": 3,
      "outputs": []
    },
    {
      "cell_type": "code",
      "source": [
        "s1 = 0\n",
        "s2 = 0\n",
        "die = 1\n",
        "while s2 < 1000:\n",
        "  for _ in range(3):\n",
        "    p1 += die\n",
        "    die += 1\n",
        "  p1 %= 10\n",
        "  if p1 == 0:\n",
        "    p1 = 10\n",
        "  s1 += p1\n",
        "  p1, p2, s1, s2 = p2, p1, s2, s1\n",
        "(die - 1) * s1"
      ],
      "metadata": {
        "colab": {
          "base_uri": "https://localhost:8080/"
        },
        "id": "Ni0QLxqUb4KT",
        "outputId": "186f44b3-be8f-4ed5-c2ab-9480da052142"
      },
      "execution_count": 4,
      "outputs": [
        {
          "output_type": "execute_result",
          "data": {
            "text/plain": [
              "752247"
            ]
          },
          "metadata": {},
          "execution_count": 4
        }
      ]
    },
    {
      "cell_type": "code",
      "source": [
        "dist = defaultdict(lambda: 0)\n",
        "for a in range(3):\n",
        "  for b in range(3):\n",
        "    for c in range(3):\n",
        "      dist[a+b+c+3] += 1\n",
        "dist = list(dist.items())"
      ],
      "metadata": {
        "id": "8IDti3Oceawg"
      },
      "execution_count": 5,
      "outputs": []
    },
    {
      "cell_type": "code",
      "source": [
        "states = {(10, 0, 8, 0): 1}\n",
        "wins1 = 0\n",
        "wins2 = 0\n",
        "while len(states) > 0:\n",
        "  new_states = defaultdict(lambda: 0)\n",
        "  for (p1, s1, p2, s2), count in states.items():\n",
        "    for die1, c in dist:\n",
        "      np1 = p1 + die1\n",
        "      np1 %= 10\n",
        "      if np1 == 0:\n",
        "        np1 = 10\n",
        "      ns1 = s1 + np1\n",
        "      if ns1 >= 21:\n",
        "        wins1 += count * c\n",
        "        continue\n",
        "      for die2, c2 in dist:\n",
        "        np2 = p2 + die2\n",
        "        np2 %= 10\n",
        "        if np2 == 0:\n",
        "          np2 = 10\n",
        "        ns2 = s2 + np2\n",
        "        if ns2 >= 21:\n",
        "          wins2 += count * c * c2\n",
        "          continue\n",
        "        new_states[(np1, ns1, np2, ns2)] += count * c * c2\n",
        "  states = new_states\n",
        "max(wins1, wins2)"
      ],
      "metadata": {
        "colab": {
          "base_uri": "https://localhost:8080/"
        },
        "id": "ToPxSAhUctZW",
        "outputId": "6a08f92e-a991-4827-8427-c89d75f030cb"
      },
      "execution_count": 6,
      "outputs": [
        {
          "output_type": "execute_result",
          "data": {
            "text/plain": [
              "221109915584112"
            ]
          },
          "metadata": {},
          "execution_count": 6
        }
      ]
    }
  ],
  "metadata": {
    "colab": {
      "provenance": []
    },
    "kernelspec": {
      "display_name": "Python 3",
      "name": "python3"
    },
    "language_info": {
      "name": "python"
    }
  },
  "nbformat": 4,
  "nbformat_minor": 0
}