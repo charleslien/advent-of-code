{
  "cells": [
    {
      "cell_type": "code",
      "source": [
        "!git clone https://github.com/charleslien/advent-of-code aoc\n",
        "from aoc.lib import *"
      ],
      "metadata": {
        "id": "Sx5R3ybxCdii",
        "colab": {
          "base_uri": "https://localhost:8080/"
        },
        "outputId": "ccb3319a-b76a-40e5-9f4f-a94ab8b1978d"
      },
      "execution_count": 1,
      "outputs": [
        {
          "output_type": "stream",
          "name": "stdout",
          "text": [
            "Cloning into 'aoc'...\n",
            "remote: Enumerating objects: 275, done.\u001b[K\n",
            "remote: Counting objects: 100% (79/79), done.\u001b[K\n",
            "remote: Compressing objects: 100% (76/76), done.\u001b[K\n",
            "remote: Total 275 (delta 33), reused 3 (delta 3), pack-reused 196\u001b[K\n",
            "Receiving objects: 100% (275/275), 380.04 KiB | 2.28 MiB/s, done.\n",
            "Resolving deltas: 100% (78/78), done.\n"
          ]
        }
      ]
    },
    {
      "cell_type": "code",
      "source": [
        "raw = '''8448854321\n",
        "4447645251\n",
        "6542573645\n",
        "4725275268\n",
        "6442514153\n",
        "4515734868\n",
        "5513676158\n",
        "3257376185\n",
        "2172424467\n",
        "6775163586'''"
      ],
      "metadata": {
        "id": "mWdqxSjhABiD"
      },
      "execution_count": 2,
      "outputs": []
    },
    {
      "cell_type": "code",
      "source": [
        "lines = process_raw(raw)"
      ],
      "metadata": {
        "colab": {
          "base_uri": "https://localhost:8080/"
        },
        "id": "aBp9KgKJADXe",
        "outputId": "37aafff9-46f3-48d7-eed9-399aa075b342"
      },
      "execution_count": 3,
      "outputs": [
        {
          "output_type": "stream",
          "name": "stdout",
          "text": [
            "Splitting into lines...\n",
            "10 lines found.\n"
          ]
        }
      ]
    },
    {
      "cell_type": "code",
      "source": [
        "grid = np.array([[int(x) for x in line] for line in lines])"
      ],
      "metadata": {
        "id": "74MDaYCYVnI_"
      },
      "execution_count": 4,
      "outputs": []
    },
    {
      "cell_type": "code",
      "source": [
        "count = 0\n",
        "for _ in range(100):\n",
        "  grid += 1\n",
        "  locs = set(zip(*np.where(grid > 9)))\n",
        "  count += len(locs)\n",
        "  flashed = set(locs)\n",
        "  for loc in locs:\n",
        "    stack = [loc]\n",
        "    while stack:\n",
        "      curr = stack.pop()\n",
        "      for d in ADJ_DIRS:\n",
        "        nl = tuple(curr + d)\n",
        "        if min(nl) < 0 or max(nl) > 9:\n",
        "          continue\n",
        "        grid[nl] += 1\n",
        "        if grid[nl] <= 9:\n",
        "          continue\n",
        "        if nl in flashed:\n",
        "          continue\n",
        "        count += 1\n",
        "        flashed.add(nl)\n",
        "        stack.append(nl)\n",
        "  for loc in flashed:\n",
        "    grid[loc] = 0\n",
        "count"
      ],
      "metadata": {
        "colab": {
          "base_uri": "https://localhost:8080/"
        },
        "id": "98f8uqAt84pc",
        "outputId": "7c2531f7-c54c-43ea-bd50-813fe57da657"
      },
      "execution_count": 5,
      "outputs": [
        {
          "output_type": "execute_result",
          "data": {
            "text/plain": [
              "1546"
            ]
          },
          "metadata": {},
          "execution_count": 5
        }
      ]
    },
    {
      "cell_type": "code",
      "source": [
        "grid = np.array([[int(x) for x in line] for line in lines])"
      ],
      "metadata": {
        "id": "BHZNFkGwBaAl"
      },
      "execution_count": 6,
      "outputs": []
    },
    {
      "cell_type": "code",
      "source": [
        "round = 0\n",
        "while True:\n",
        "  round += 1\n",
        "  grid += 1\n",
        "  locs = set(zip(*np.where(grid > 9)))\n",
        "  count = len(locs)\n",
        "  flashed = set(locs)\n",
        "  for loc in locs:\n",
        "    stack = [loc]\n",
        "    while stack:\n",
        "      curr = stack.pop()\n",
        "      for d in ADJ_DIRS:\n",
        "        nl = tuple(curr + d)\n",
        "        if min(nl) < 0 or max(nl) > 9:\n",
        "          continue\n",
        "        grid[nl] += 1\n",
        "        if grid[nl] <= 9:\n",
        "          continue\n",
        "        if nl in flashed:\n",
        "          continue\n",
        "        count += 1\n",
        "        flashed.add(nl)\n",
        "        stack.append(nl)\n",
        "  if count == 100:\n",
        "    break\n",
        "  for loc in flashed:\n",
        "    grid[loc] = 0\n",
        "round"
      ],
      "metadata": {
        "colab": {
          "base_uri": "https://localhost:8080/"
        },
        "id": "bSYKqguAA5CD",
        "outputId": "651499f2-b80b-402e-b9f1-67bb8a7dffee"
      },
      "execution_count": 7,
      "outputs": [
        {
          "output_type": "execute_result",
          "data": {
            "text/plain": [
              "471"
            ]
          },
          "metadata": {},
          "execution_count": 7
        }
      ]
    }
  ],
  "metadata": {
    "colab": {
      "provenance": []
    },
    "kernelspec": {
      "display_name": "Python 3",
      "name": "python3"
    },
    "language_info": {
      "name": "python"
    }
  },
  "nbformat": 4,
  "nbformat_minor": 0
}