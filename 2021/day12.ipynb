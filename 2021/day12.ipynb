{
  "cells": [
    {
      "cell_type": "code",
      "source": [
        "!git clone https://github.com/charleslien/advent-of-code aoc\n",
        "from aoc.lib import *"
      ],
      "metadata": {
        "id": "Sx5R3ybxCdii",
        "colab": {
          "base_uri": "https://localhost:8080/"
        },
        "outputId": "dfd85986-6812-4b2f-f912-9c1d9e4925fa"
      },
      "execution_count": 1,
      "outputs": [
        {
          "output_type": "stream",
          "name": "stdout",
          "text": [
            "Cloning into 'aoc'...\n",
            "remote: Enumerating objects: 282, done.\u001b[K\n",
            "remote: Counting objects: 100% (86/86), done.\u001b[K\n",
            "remote: Compressing objects: 100% (83/83), done.\u001b[K\n",
            "remote: Total 282 (delta 38), reused 3 (delta 3), pack-reused 196\u001b[K\n",
            "Receiving objects: 100% (282/282), 381.80 KiB | 9.09 MiB/s, done.\n",
            "Resolving deltas: 100% (83/83), done.\n"
          ]
        }
      ]
    },
    {
      "cell_type": "code",
      "source": [
        "raw = '''start-co\n",
        "ip-WE\n",
        "end-WE\n",
        "le-ls\n",
        "wt-zi\n",
        "end-sz\n",
        "wt-RI\n",
        "wt-sz\n",
        "zi-start\n",
        "wt-ip\n",
        "YT-sz\n",
        "RI-start\n",
        "le-end\n",
        "ip-sz\n",
        "WE-sz\n",
        "le-WE\n",
        "le-wt\n",
        "zi-ip\n",
        "RI-zi\n",
        "co-zi\n",
        "co-le\n",
        "WB-zi\n",
        "wt-WE\n",
        "co-RI\n",
        "RI-ip'''"
      ],
      "metadata": {
        "id": "mWdqxSjhABiD"
      },
      "execution_count": 2,
      "outputs": []
    },
    {
      "cell_type": "code",
      "source": [
        "lines = process_raw(raw)"
      ],
      "metadata": {
        "colab": {
          "base_uri": "https://localhost:8080/"
        },
        "id": "aBp9KgKJADXe",
        "outputId": "c68e4f99-4e08-48fd-a5e2-67d325aafa37"
      },
      "execution_count": 3,
      "outputs": [
        {
          "output_type": "stream",
          "name": "stdout",
          "text": [
            "Splitting into lines...\n",
            "25 lines found.\n"
          ]
        }
      ]
    },
    {
      "cell_type": "code",
      "source": [
        "def small(u):\n",
        "  return u.lower() == u"
      ],
      "metadata": {
        "id": "w0nuNqVr0Hmq"
      },
      "execution_count": 4,
      "outputs": []
    },
    {
      "cell_type": "code",
      "source": [
        "p = re.compile(r'(\\w+)-(\\w+)')\n",
        "edges = {}\n",
        "for line in lines:\n",
        "  u, v = p.match(line).groups()\n",
        "  if u not in edges:\n",
        "    edges[u] = set()\n",
        "  edges[u].add(v)\n",
        "  if v not in edges:\n",
        "    edges[v] = set()\n",
        "  edges[v].add(u)"
      ],
      "metadata": {
        "id": "74MDaYCYVnI_"
      },
      "execution_count": 5,
      "outputs": []
    },
    {
      "cell_type": "code",
      "source": [
        "stack = [('start', set())]\n",
        "count = 0\n",
        "while stack:\n",
        "  curr, visited = stack.pop()\n",
        "  if curr == 'end':\n",
        "    count += 1\n",
        "    continue\n",
        "  if small(curr):\n",
        "    visited = visited | {curr}\n",
        "  for n in edges[curr]:\n",
        "    if small(n) and n in visited:\n",
        "      continue\n",
        "    stack.append((n, visited))\n",
        "count"
      ],
      "metadata": {
        "colab": {
          "base_uri": "https://localhost:8080/"
        },
        "id": "nC4jo1Ww0UIt",
        "outputId": "4bbd7a54-3790-477e-f899-264100ed35c1"
      },
      "execution_count": 6,
      "outputs": [
        {
          "output_type": "execute_result",
          "data": {
            "text/plain": [
              "5756"
            ]
          },
          "metadata": {},
          "execution_count": 6
        }
      ]
    },
    {
      "cell_type": "code",
      "source": [
        "total = 0\n",
        "paths = {('start', (), ()): 1}\n",
        "while True:\n",
        "  old_paths = paths\n",
        "  paths = {}\n",
        "  stack = [(a, b, c, d) for (a, b, c), d in old_paths.items()]\n",
        "  if not stack:\n",
        "    break\n",
        "  while stack:\n",
        "    curr, visited1, visited2, nsrc = stack.pop()\n",
        "    for n in edges[curr]:\n",
        "      if n == 'end':\n",
        "        total += nsrc\n",
        "        continue\n",
        "      if n == 'start':\n",
        "        continue\n",
        "      if n in visited2:\n",
        "        continue\n",
        "      if small(n):\n",
        "        if n not in visited1:\n",
        "          v1 = list(visited1)\n",
        "          v1.append(n)\n",
        "          v1.sort()\n",
        "          v1 = tuple(v1)\n",
        "          v2 = visited2\n",
        "        elif visited2:\n",
        "          continue\n",
        "        else:\n",
        "          v1 = visited1\n",
        "          v2 = (n,)\n",
        "        paths[n, v1, v2] = paths.get((n, v1, v2), 0) + nsrc\n",
        "        continue\n",
        "      stack.append((n, visited1, visited2, nsrc))\n",
        "total"
      ],
      "metadata": {
        "colab": {
          "base_uri": "https://localhost:8080/"
        },
        "id": "k4KENw5g2Fak",
        "outputId": "9dac305f-df2b-49a2-8f37-f6321a16c4cc"
      },
      "execution_count": 7,
      "outputs": [
        {
          "output_type": "execute_result",
          "data": {
            "text/plain": [
              "144603"
            ]
          },
          "metadata": {},
          "execution_count": 7
        }
      ]
    }
  ],
  "metadata": {
    "colab": {
      "provenance": []
    },
    "kernelspec": {
      "display_name": "Python 3",
      "name": "python3"
    },
    "language_info": {
      "name": "python"
    }
  },
  "nbformat": 4,
  "nbformat_minor": 0
}