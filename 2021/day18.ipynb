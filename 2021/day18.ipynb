{
  "cells": [
    {
      "cell_type": "code",
      "source": [
        "!git clone https://github.com/charleslien/advent-of-code aoc\n",
        "from aoc.lib import *"
      ],
      "metadata": {
        "id": "Sx5R3ybxCdii",
        "colab": {
          "base_uri": "https://localhost:8080/"
        },
        "outputId": "b483af9a-2523-4a35-f2f5-ac41d407ff86"
      },
      "execution_count": 1,
      "outputs": [
        {
          "output_type": "stream",
          "name": "stdout",
          "text": [
            "Cloning into 'aoc'...\n",
            "remote: Enumerating objects: 321, done.\u001b[K\n",
            "remote: Counting objects: 100% (125/125), done.\u001b[K\n",
            "remote: Compressing objects: 100% (122/122), done.\u001b[K\n",
            "remote: Total 321 (delta 62), reused 3 (delta 3), pack-reused 196\u001b[K\n",
            "Receiving objects: 100% (321/321), 408.36 KiB | 4.80 MiB/s, done.\n",
            "Resolving deltas: 100% (107/107), done.\n"
          ]
        }
      ]
    },
    {
      "cell_type": "code",
      "source": [
        "raw = '''[[[6,[0,5]],2],3]\n",
        "[[3,9],[[4,[5,5]],[9,4]]]\n",
        "[[3,[2,[0,7]]],[[1,[0,1]],[8,[2,4]]]]\n",
        "[[[[3,0],[8,1]],[[5,6],[3,5]]],[5,[[7,9],[5,1]]]]\n",
        "[[[9,5],1],[[2,6],[4,[4,6]]]]\n",
        "[2,[5,[3,0]]]\n",
        "[[[[3,8],9],[[9,2],[7,7]]],5]\n",
        "[[[[8,5],3],[0,[0,8]]],[9,[6,[8,1]]]]\n",
        "[[[[9,6],[9,1]],[[3,4],3]],[2,2]]\n",
        "[[3,[[7,7],2]],[[[9,9],[8,6]],2]]\n",
        "[[[[3,5],8],[4,[9,4]]],7]\n",
        "[[1,[6,[2,6]]],[[7,0],[[3,1],9]]]\n",
        "[[[[0,5],0],[0,[2,4]]],[7,[6,[1,6]]]]\n",
        "[0,[6,[3,1]]]\n",
        "[4,[[[1,2],0],[[6,3],6]]]\n",
        "[[[[4,3],[8,5]],[9,[0,5]]],[[[8,1],3],[8,8]]]\n",
        "[[3,[6,7]],[[[1,4],[2,1]],[9,[2,8]]]]\n",
        "[[[[3,0],[4,5]],4],[[3,[5,7]],6]]\n",
        "[[8,[5,[3,9]]],[[[1,9],[8,7]],7]]\n",
        "[[[0,[3,4]],[[0,1],6]],[1,5]]\n",
        "[6,[[9,4],[9,0]]]\n",
        "[[4,9],[[[0,9],9],8]]\n",
        "[5,[0,[3,6]]]\n",
        "[[[[3,9],[1,1]],[4,0]],[4,[[5,7],6]]]\n",
        "[[[6,[2,1]],[4,[3,3]]],[[6,[5,6]],[7,[5,0]]]]\n",
        "[[[8,4],[[1,2],[2,0]]],[[6,[5,6]],[6,4]]]\n",
        "[[[5,9],7],[[[3,4],[2,1]],2]]\n",
        "[[[8,8],5],[6,[[9,1],1]]]\n",
        "[[[[3,4],1],[1,[4,2]]],[[[9,1],[2,0]],3]]\n",
        "[[[5,[1,7]],[3,[9,7]]],[[2,0],[[7,7],5]]]\n",
        "[[[6,9],6],[6,[[4,2],[5,3]]]]\n",
        "[[[[6,5],[5,0]],[[6,9],7]],6]\n",
        "[[[[2,8],[3,2]],[8,8]],[[[4,6],7],[2,[2,3]]]]\n",
        "[[[3,4],1],5]\n",
        "[[6,[[7,4],8]],[[6,[9,2]],9]]\n",
        "[[[[0,4],0],[[3,1],[3,6]]],[0,[[2,8],[5,5]]]]\n",
        "[[5,[[1,2],6]],[[[1,9],[2,2]],[9,[1,0]]]]\n",
        "[[[[7,7],5],[[0,0],[0,5]]],[[5,4],[5,[8,1]]]]\n",
        "[[[[8,7],6],[0,[0,3]]],[2,[[9,8],0]]]\n",
        "[6,7]\n",
        "[[[[5,2],[2,2]],[[8,1],[2,7]]],2]\n",
        "[[[1,0],[[9,8],[2,1]]],4]\n",
        "[[[[5,2],[2,0]],7],[[2,[4,4]],[3,3]]]\n",
        "[[8,3],[[7,2],[[1,5],9]]]\n",
        "[[[[9,4],[7,5]],[[4,9],1]],[[[0,6],[1,6]],[[4,2],3]]]\n",
        "[4,[5,[5,3]]]\n",
        "[[1,[[0,1],6]],[[[8,8],6],0]]\n",
        "[[[0,3],[1,2]],[[6,8],[7,[4,7]]]]\n",
        "[3,[[[5,8],[6,9]],[8,[5,4]]]]\n",
        "[[1,1],[[8,[7,0]],9]]\n",
        "[2,2]\n",
        "[[3,[[0,4],1]],[[7,[2,3]],[8,4]]]\n",
        "[[[0,2],[5,[5,6]]],[[[8,1],[5,2]],8]]\n",
        "[[[[9,5],6],[[7,2],[2,1]]],[[[0,0],0],[[7,9],[9,1]]]]\n",
        "[[1,7],[1,[[6,3],8]]]\n",
        "[4,[[[7,4],1],[[1,9],6]]]\n",
        "[[[[7,8],9],3],[[[5,0],9],8]]\n",
        "[[[1,3],[[8,3],[1,9]]],[[[6,2],5],5]]\n",
        "[[8,[[6,6],[1,4]]],[[2,[9,0]],[9,[2,2]]]]\n",
        "[[0,[[1,6],8]],[[[3,7],[9,2]],[3,[3,6]]]]\n",
        "[[0,[5,6]],[[[6,5],1],8]]\n",
        "[[[[9,0],[1,1]],[[1,0],1]],[[[2,5],7],[5,[0,3]]]]\n",
        "[2,[2,[[3,8],[5,5]]]]\n",
        "[[[[4,0],2],[4,2]],[[5,[8,1]],[[2,7],6]]]\n",
        "[[[1,[3,5]],6],0]\n",
        "[[[3,3],[1,[2,1]]],[[3,[1,1]],[7,0]]]\n",
        "[[[[8,5],3],[2,[3,0]]],[[[4,8],[8,8]],[9,[2,0]]]]\n",
        "[[[[8,3],[9,8]],[[8,3],2]],[5,[5,8]]]\n",
        "[[[1,9],8],[[[0,3],[9,1]],[[9,1],[4,2]]]]\n",
        "[[[4,1],6],[[5,2],[4,2]]]\n",
        "[[7,[5,[3,0]]],[[0,[0,1]],[1,[9,6]]]]\n",
        "[[[[0,3],[8,9]],1],[6,2]]\n",
        "[[5,[7,8]],[[5,3],[[9,8],[6,2]]]]\n",
        "[[[[3,6],8],9],[[3,[6,2]],[0,1]]]\n",
        "[[[5,3],[6,[0,3]]],6]\n",
        "[[[2,9],7],[[[4,2],9],8]]\n",
        "[[[7,[3,5]],[6,[5,9]]],[[[3,2],[5,6]],1]]\n",
        "[[0,[[9,1],6]],8]\n",
        "[[[[3,5],[2,2]],[[9,8],9]],[8,8]]\n",
        "[[[[6,9],[2,0]],[6,1]],[1,5]]\n",
        "[[[0,[9,9]],[[3,1],9]],[[[4,8],2],[3,[4,8]]]]\n",
        "[[[5,3],[6,3]],[6,[[2,7],[3,2]]]]\n",
        "[[[5,[7,3]],8],[[2,[0,0]],[9,5]]]\n",
        "[[[7,[4,3]],[[9,6],[5,7]]],[[[1,8],[3,0]],[[2,4],[7,3]]]]\n",
        "[[[3,[2,1]],[1,2]],[7,[[5,4],8]]]\n",
        "[[4,[[2,6],[7,9]]],[[[1,8],3],[[0,1],[5,4]]]]\n",
        "[[[4,0],4],[3,7]]\n",
        "[[[4,[7,7]],5],[2,3]]\n",
        "[[[[7,7],[9,3]],8],[[[3,8],6],[[1,2],[9,6]]]]\n",
        "[[7,[[7,5],[7,8]]],[2,[[4,3],[6,3]]]]\n",
        "[[[7,3],[[8,2],[6,5]]],1]\n",
        "[[8,[7,[9,6]]],[5,[[2,2],2]]]\n",
        "[[[3,[8,9]],[[3,8],[3,3]]],[4,[7,[5,0]]]]\n",
        "[[[[2,0],[1,0]],3],[6,[[1,3],[5,4]]]]\n",
        "[[1,8],[8,[[6,7],3]]]\n",
        "[4,[[[3,4],[7,8]],[7,[7,1]]]]\n",
        "[[[4,8],[9,[7,4]]],6]\n",
        "[[[7,3],[[2,9],7]],[[[2,5],8],[2,5]]]\n",
        "[7,[[[8,7],0],[[3,1],6]]]\n",
        "[[6,[2,[3,2]]],[[[5,4],2],[[2,6],[8,4]]]]'''"
      ],
      "metadata": {
        "id": "mWdqxSjhABiD"
      },
      "execution_count": 2,
      "outputs": []
    },
    {
      "cell_type": "code",
      "source": [
        "lines = process_raw(raw)"
      ],
      "metadata": {
        "id": "_wUBti62n2TT",
        "colab": {
          "base_uri": "https://localhost:8080/"
        },
        "outputId": "8fd3cc57-081a-4f92-8446-81d76215f02d"
      },
      "execution_count": 3,
      "outputs": [
        {
          "output_type": "stream",
          "name": "stdout",
          "text": [
            "Splitting into lines...\n",
            "100 lines found.\n"
          ]
        }
      ]
    },
    {
      "cell_type": "code",
      "source": [
        "lines = [eval(x) for x in lines]"
      ],
      "metadata": {
        "id": "OQSr1Ww5_BeM"
      },
      "execution_count": 4,
      "outputs": []
    },
    {
      "cell_type": "code",
      "source": [
        "from __future__ import annotations\n",
        "\n",
        "@dataclass\n",
        "class P:\n",
        "  left: P | V | None = None\n",
        "  right: P | V | None = None\n",
        "  parent: P | V | None = None\n",
        "\n",
        "  def reduce(self):\n",
        "    while True:\n",
        "      while self.explode():\n",
        "        pass\n",
        "      if not self.split():\n",
        "        break\n",
        "\n",
        "  def explode(self, depth=0):\n",
        "    if depth < 4:\n",
        "      return self.left.explode(depth=depth+1) or self.right.explode(depth=depth+1)\n",
        "    e = False\n",
        "    leaf = True\n",
        "    if isinstance(self.left, P):\n",
        "      leaf = False\n",
        "      e = self.left.explode(depth+1)\n",
        "    if e:\n",
        "      return e\n",
        "    if isinstance(self.right, P):\n",
        "      leaf = False\n",
        "      e = self.right.explode(depth+1)\n",
        "    if not leaf:\n",
        "      return e\n",
        "    new_v = V(left=self.left.left, right=self.right.right, parent=self.parent, value=0)\n",
        "    self.left.left.value += self.left.value\n",
        "    self.left.left.right = new_v\n",
        "    self.right.right.value += self.right.value\n",
        "    self.right.right.left = new_v\n",
        "    if self.parent.left is self:\n",
        "      self.parent.left = new_v\n",
        "    else:\n",
        "      self.parent.right = new_v\n",
        "    return True\n",
        "\n",
        "  def split(self):\n",
        "    return self.left.split() or self.right.split()\n",
        "\n",
        "  def magnitude(self):\n",
        "    return 3 * self.left.magnitude() + 2 * self.right.magnitude()\n",
        "\n",
        "  def to_list(self):\n",
        "    return [self.left.to_list(), self.right.to_list()]\n",
        "\n",
        "@dataclass\n",
        "class V:\n",
        "  value: int\n",
        "  parent: P | V | None = None\n",
        "  left: V | None = None\n",
        "  right: V | None = None\n",
        "\n",
        "  def explode(self, depth=0):\n",
        "    return False\n",
        "\n",
        "  def split(self):\n",
        "    if self.value < 10:\n",
        "      return False\n",
        "    new_p = P(parent=self.parent)\n",
        "    new_p.left = V(value=self.value // 2, parent=new_p)\n",
        "    new_p.right = V(value=self.value - self.value // 2, parent=new_p)\n",
        "    self.left.right = new_p.left\n",
        "    self.right.left = new_p.right\n",
        "    new_p.left.right = new_p.right\n",
        "    new_p.right.left = new_p.left\n",
        "    new_p.left.left = self.left\n",
        "    new_p.right.right = self.right\n",
        "    if self.parent is not None:\n",
        "      if self is self.parent.left:\n",
        "        self.parent.left = new_p\n",
        "      else:\n",
        "        self.parent.right = new_p\n",
        "    return True\n",
        "\n",
        "  def magnitude(self):\n",
        "    return self.value\n",
        "\n",
        "  def to_list(self):\n",
        "    return self.value\n",
        "\n",
        "R = P | V\n",
        "\n",
        "def get_vs(r, curr=None):\n",
        "  if curr is None:\n",
        "    curr = []\n",
        "  if isinstance(r, V):\n",
        "    curr.append(r)\n",
        "    return curr\n",
        "  curr.extend(get_vs(r.left))\n",
        "  curr.extend(get_vs(r.right))\n",
        "  return curr\n",
        "\n",
        "def get_r(p, parent=None):\n",
        "  if isinstance(p, int):\n",
        "    return V(value=p, parent=parent)\n",
        "  r = P(parent=parent)\n",
        "  r.left = get_r(p[0], parent=r)\n",
        "  r.right = get_r(p[1], parent=r)\n",
        "  return r\n",
        "\n",
        "def link(r):\n",
        "  vs = get_vs(r, [])\n",
        "  for i, v in enumerate(vs[:-1]):\n",
        "    v.right = vs[i+1]\n",
        "    vs[i+1].left = v\n",
        "  head = V(value=0, right=vs[0])\n",
        "  tail = V(value=0, left=vs[-1])\n",
        "  vs[0].left = head\n",
        "  vs[-1].right = tail"
      ],
      "metadata": {
        "id": "DxN9dTmNIiz6"
      },
      "execution_count": 5,
      "outputs": []
    },
    {
      "cell_type": "code",
      "source": [
        "curr = None\n",
        "for line in lines:\n",
        "  if curr is None:\n",
        "    curr = get_r(line)\n",
        "  else:\n",
        "    curr = get_r([curr.to_list(), line])\n",
        "  link(curr)\n",
        "  curr.reduce()\n",
        "curr.magnitude()"
      ],
      "metadata": {
        "colab": {
          "base_uri": "https://localhost:8080/"
        },
        "id": "EeCU7rAcKoRa",
        "outputId": "fcc515b7-55ed-49a2-88bc-57ef84b65a91"
      },
      "execution_count": 6,
      "outputs": [
        {
          "output_type": "execute_result",
          "data": {
            "text/plain": [
              "4480"
            ]
          },
          "metadata": {},
          "execution_count": 6
        }
      ]
    },
    {
      "cell_type": "code",
      "source": [
        "mmag = 0\n",
        "for i, a in enumerate(lines):\n",
        "  for j, b in enumerate(lines):\n",
        "    if i == j:\n",
        "      continue\n",
        "    r = get_r([a, b])\n",
        "    link(r)\n",
        "    r.reduce()\n",
        "    mmag = max(mmag, r.magnitude())\n",
        "mmag"
      ],
      "metadata": {
        "colab": {
          "base_uri": "https://localhost:8080/"
        },
        "id": "9Fqs7AKJGjMn",
        "outputId": "0e31eae8-4a0b-42d7-e265-8532b4b1b1fb"
      },
      "execution_count": 7,
      "outputs": [
        {
          "output_type": "execute_result",
          "data": {
            "text/plain": [
              "4676"
            ]
          },
          "metadata": {},
          "execution_count": 7
        }
      ]
    }
  ],
  "metadata": {
    "colab": {
      "provenance": []
    },
    "kernelspec": {
      "display_name": "Python 3",
      "name": "python3"
    },
    "language_info": {
      "name": "python"
    }
  },
  "nbformat": 4,
  "nbformat_minor": 0
}