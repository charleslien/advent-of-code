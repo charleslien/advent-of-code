{
  "cells": [
    {
      "cell_type": "code",
      "source": [
        "!git clone https://github.com/charleslien/advent-of-code aoc\n",
        "from aoc.lib import *"
      ],
      "metadata": {
        "id": "Sx5R3ybxCdii",
        "colab": {
          "base_uri": "https://localhost:8080/"
        },
        "outputId": "3adb4fd2-6a2a-4144-b5a4-583971a089f6"
      },
      "execution_count": 1,
      "outputs": [
        {
          "output_type": "stream",
          "name": "stdout",
          "text": [
            "Cloning into 'aoc'...\n",
            "remote: Enumerating objects: 290, done.\u001b[K\n",
            "remote: Counting objects:   1% (1/94)\u001b[K\rremote: Counting objects:   2% (2/94)\u001b[K\rremote: Counting objects:   3% (3/94)\u001b[K\rremote: Counting objects:   4% (4/94)\u001b[K\rremote: Counting objects:   5% (5/94)\u001b[K\rremote: Counting objects:   6% (6/94)\u001b[K\rremote: Counting objects:   7% (7/94)\u001b[K\rremote: Counting objects:   8% (8/94)\u001b[K\rremote: Counting objects:   9% (9/94)\u001b[K\rremote: Counting objects:  10% (10/94)\u001b[K\rremote: Counting objects:  11% (11/94)\u001b[K\rremote: Counting objects:  12% (12/94)\u001b[K\rremote: Counting objects:  13% (13/94)\u001b[K\rremote: Counting objects:  14% (14/94)\u001b[K\rremote: Counting objects:  15% (15/94)\u001b[K\rremote: Counting objects:  17% (16/94)\u001b[K\rremote: Counting objects:  18% (17/94)\u001b[K\rremote: Counting objects:  19% (18/94)\u001b[K\rremote: Counting objects:  20% (19/94)\u001b[K\rremote: Counting objects:  21% (20/94)\u001b[K\rremote: Counting objects:  22% (21/94)\u001b[K\rremote: Counting objects:  23% (22/94)\u001b[K\rremote: Counting objects:  24% (23/94)\u001b[K\rremote: Counting objects:  25% (24/94)\u001b[K\rremote: Counting objects:  26% (25/94)\u001b[K\rremote: Counting objects:  27% (26/94)\u001b[K\rremote: Counting objects:  28% (27/94)\u001b[K\rremote: Counting objects:  29% (28/94)\u001b[K\rremote: Counting objects:  30% (29/94)\u001b[K\rremote: Counting objects:  31% (30/94)\u001b[K\rremote: Counting objects:  32% (31/94)\u001b[K\rremote: Counting objects:  34% (32/94)\u001b[K\rremote: Counting objects:  35% (33/94)\u001b[K\rremote: Counting objects:  36% (34/94)\u001b[K\rremote: Counting objects:  37% (35/94)\u001b[K\rremote: Counting objects:  38% (36/94)\u001b[K\rremote: Counting objects:  39% (37/94)\u001b[K\rremote: Counting objects:  40% (38/94)\u001b[K\rremote: Counting objects:  41% (39/94)\u001b[K\rremote: Counting objects:  42% (40/94)\u001b[K\rremote: Counting objects:  43% (41/94)\u001b[K\rremote: Counting objects:  44% (42/94)\u001b[K\rremote: Counting objects:  45% (43/94)\u001b[K\rremote: Counting objects:  46% (44/94)\u001b[K\rremote: Counting objects:  47% (45/94)\u001b[K\rremote: Counting objects:  48% (46/94)\u001b[K\rremote: Counting objects:  50% (47/94)\u001b[K\rremote: Counting objects:  51% (48/94)\u001b[K\rremote: Counting objects:  52% (49/94)\u001b[K\rremote: Counting objects:  53% (50/94)\u001b[K\rremote: Counting objects:  54% (51/94)\u001b[K\rremote: Counting objects:  55% (52/94)\u001b[K\rremote: Counting objects:  56% (53/94)\u001b[K\rremote: Counting objects:  57% (54/94)\u001b[K\rremote: Counting objects:  58% (55/94)\u001b[K\rremote: Counting objects:  59% (56/94)\u001b[K\rremote: Counting objects:  60% (57/94)\u001b[K\rremote: Counting objects:  61% (58/94)\u001b[K\rremote: Counting objects:  62% (59/94)\u001b[K\rremote: Counting objects:  63% (60/94)\u001b[K\rremote: Counting objects:  64% (61/94)\u001b[K\rremote: Counting objects:  65% (62/94)\u001b[K\rremote: Counting objects:  67% (63/94)\u001b[K\rremote: Counting objects:  68% (64/94)\u001b[K\rremote: Counting objects:  69% (65/94)\u001b[K\rremote: Counting objects:  70% (66/94)\u001b[K\rremote: Counting objects:  71% (67/94)\u001b[K\rremote: Counting objects:  72% (68/94)\u001b[K\rremote: Counting objects:  73% (69/94)\u001b[K\rremote: Counting objects:  74% (70/94)\u001b[K\rremote: Counting objects:  75% (71/94)\u001b[K\rremote: Counting objects:  76% (72/94)\u001b[K\rremote: Counting objects:  77% (73/94)\u001b[K\rremote: Counting objects:  78% (74/94)\u001b[K\rremote: Counting objects:  79% (75/94)\u001b[K\rremote: Counting objects:  80% (76/94)\u001b[K\rremote: Counting objects:  81% (77/94)\u001b[K\rremote: Counting objects:  82% (78/94)\u001b[K\rremote: Counting objects:  84% (79/94)\u001b[K\rremote: Counting objects:  85% (80/94)\u001b[K\rremote: Counting objects:  86% (81/94)\u001b[K\rremote: Counting objects:  87% (82/94)\u001b[K\rremote: Counting objects:  88% (83/94)\u001b[K\rremote: Counting objects:  89% (84/94)\u001b[K\rremote: Counting objects:  90% (85/94)\u001b[K\rremote: Counting objects:  91% (86/94)\u001b[K\rremote: Counting objects:  92% (87/94)\u001b[K\rremote: Counting objects:  93% (88/94)\u001b[K\rremote: Counting objects:  94% (89/94)\u001b[K\rremote: Counting objects:  95% (90/94)\u001b[K\rremote: Counting objects:  96% (91/94)\u001b[K\rremote: Counting objects:  97% (92/94)\u001b[K\rremote: Counting objects:  98% (93/94)\u001b[K\rremote: Counting objects: 100% (94/94)\u001b[K\rremote: Counting objects: 100% (94/94), done.\u001b[K\n",
            "remote: Compressing objects:   1% (1/91)\u001b[K\rremote: Compressing objects:   2% (2/91)\u001b[K\rremote: Compressing objects:   3% (3/91)\u001b[K\rremote: Compressing objects:   4% (4/91)\u001b[K\rremote: Compressing objects:   5% (5/91)\u001b[K\rremote: Compressing objects:   6% (6/91)\u001b[K\rremote: Compressing objects:   7% (7/91)\u001b[K\rremote: Compressing objects:   8% (8/91)\u001b[K\rremote: Compressing objects:   9% (9/91)\u001b[K\rremote: Compressing objects:  10% (10/91)\u001b[K\rremote: Compressing objects:  12% (11/91)\u001b[K\rremote: Compressing objects:  13% (12/91)\u001b[K\rremote: Compressing objects:  14% (13/91)\u001b[K\rremote: Compressing objects:  15% (14/91)\u001b[K\rremote: Compressing objects:  16% (15/91)\u001b[K\rremote: Compressing objects:  17% (16/91)\u001b[K\rremote: Compressing objects:  18% (17/91)\u001b[K\rremote: Compressing objects:  19% (18/91)\u001b[K\rremote: Compressing objects:  20% (19/91)\u001b[K\rremote: Compressing objects:  21% (20/91)\u001b[K\rremote: Compressing objects:  23% (21/91)\u001b[K\rremote: Compressing objects:  24% (22/91)\u001b[K\rremote: Compressing objects:  25% (23/91)\u001b[K\rremote: Compressing objects:  26% (24/91)\u001b[K\rremote: Compressing objects:  27% (25/91)\u001b[K\rremote: Compressing objects:  28% (26/91)\u001b[K\rremote: Compressing objects:  29% (27/91)\u001b[K\rremote: Compressing objects:  30% (28/91)\u001b[K\rremote: Compressing objects:  31% (29/91)\u001b[K\rremote: Compressing objects:  32% (30/91)\u001b[K\rremote: Compressing objects:  34% (31/91)\u001b[K\rremote: Compressing objects:  35% (32/91)\u001b[K\rremote: Compressing objects:  36% (33/91)\u001b[K\rremote: Compressing objects:  37% (34/91)\u001b[K\rremote: Compressing objects:  38% (35/91)\u001b[K\rremote: Compressing objects:  39% (36/91)\u001b[K\rremote: Compressing objects:  40% (37/91)\u001b[K\rremote: Compressing objects:  41% (38/91)\u001b[K\rremote: Compressing objects:  42% (39/91)\u001b[K\rremote: Compressing objects:  43% (40/91)\u001b[K\rremote: Compressing objects:  45% (41/91)\u001b[K\rremote: Compressing objects:  46% (42/91)\u001b[K\rremote: Compressing objects:  47% (43/91)\u001b[K\rremote: Compressing objects:  48% (44/91)\u001b[K\rremote: Compressing objects:  49% (45/91)\u001b[K\rremote: Compressing objects:  50% (46/91)\u001b[K\rremote: Compressing objects:  51% (47/91)\u001b[K\rremote: Compressing objects:  52% (48/91)\u001b[K\rremote: Compressing objects:  53% (49/91)\u001b[K\rremote: Compressing objects:  54% (50/91)\u001b[K\rremote: Compressing objects:  56% (51/91)\u001b[K\rremote: Compressing objects:  57% (52/91)\u001b[K\rremote: Compressing objects:  58% (53/91)\u001b[K\rremote: Compressing objects:  59% (54/91)\u001b[K\rremote: Compressing objects:  60% (55/91)\u001b[K\rremote: Compressing objects:  61% (56/91)\u001b[K\rremote: Compressing objects:  62% (57/91)\u001b[K\rremote: Compressing objects:  63% (58/91)\u001b[K\rremote: Compressing objects:  64% (59/91)\u001b[K\rremote: Compressing objects:  65% (60/91)\u001b[K\rremote: Compressing objects:  67% (61/91)\u001b[K\rremote: Compressing objects:  68% (62/91)\u001b[K\rremote: Compressing objects:  69% (63/91)\u001b[K\rremote: Compressing objects:  70% (64/91)\u001b[K\rremote: Compressing objects:  71% (65/91)\u001b[K\rremote: Compressing objects:  72% (66/91)\u001b[K\rremote: Compressing objects:  73% (67/91)\u001b[K\rremote: Compressing objects:  74% (68/91)\u001b[K\rremote: Compressing objects:  75% (69/91)\u001b[K\rremote: Compressing objects:  76% (70/91)\u001b[K\rremote: Compressing objects:  78% (71/91)\u001b[K\rremote: Compressing objects:  79% (72/91)\u001b[K\rremote: Compressing objects:  80% (73/91)\u001b[K\rremote: Compressing objects:  81% (74/91)\u001b[K\rremote: Compressing objects:  82% (75/91)\u001b[K\rremote: Compressing objects:  83% (76/91)\u001b[K\rremote: Compressing objects:  84% (77/91)\u001b[K\rremote: Compressing objects:  85% (78/91)\u001b[K\rremote: Compressing objects:  86% (79/91)\u001b[K\rremote: Compressing objects:  87% (80/91)\u001b[K\rremote: Compressing objects:  89% (81/91)\u001b[K\rremote: Compressing objects:  90% (82/91)\u001b[K\rremote: Compressing objects:  91% (83/91)\u001b[K\rremote: Compressing objects:  92% (84/91)\u001b[K\rremote: Compressing objects:  93% (85/91)\u001b[K\rremote: Compressing objects:  94% (86/91)\u001b[K\rremote: Compressing objects:  95% (87/91)\u001b[K\rremote: Compressing objects:  96% (88/91)\u001b[K\rremote: Compressing objects:  97% (89/91)\u001b[K\rremote: Compressing objects:  98% (90/91)\u001b[K\rremote: Compressing objects: 100% (91/91)\u001b[K\rremote: Compressing objects: 100% (91/91), done.\u001b[K\n",
            "Receiving objects:   0% (1/290)\rReceiving objects:   1% (3/290)\rReceiving objects:   2% (6/290)\rReceiving objects:   3% (9/290)\rReceiving objects:   4% (12/290)\rReceiving objects:   5% (15/290)\rReceiving objects:   6% (18/290)\rReceiving objects:   7% (21/290)\rReceiving objects:   8% (24/290)\rReceiving objects:   9% (27/290)\rReceiving objects:  10% (29/290)\rReceiving objects:  11% (32/290)\rReceiving objects:  12% (35/290)\rReceiving objects:  13% (38/290)\rReceiving objects:  14% (41/290)\rReceiving objects:  15% (44/290)\rReceiving objects:  16% (47/290)\rReceiving objects:  17% (50/290)\rReceiving objects:  18% (53/290)\rReceiving objects:  19% (56/290)\rReceiving objects:  20% (58/290)\rReceiving objects:  21% (61/290)\rReceiving objects:  22% (64/290)\rReceiving objects:  23% (67/290)\rReceiving objects:  24% (70/290)\rReceiving objects:  25% (73/290)\rReceiving objects:  26% (76/290)\rReceiving objects:  27% (79/290)\rReceiving objects:  28% (82/290)\rReceiving objects:  29% (85/290)\rReceiving objects:  30% (87/290)\rReceiving objects:  31% (90/290)\rReceiving objects:  32% (93/290)\rReceiving objects:  33% (96/290)\rReceiving objects:  34% (99/290)\rReceiving objects:  35% (102/290)\rReceiving objects:  36% (105/290)\rReceiving objects:  37% (108/290)\rReceiving objects:  38% (111/290)\rReceiving objects:  39% (114/290)\rReceiving objects:  40% (116/290)\rReceiving objects:  41% (119/290)\rReceiving objects:  42% (122/290)\rReceiving objects:  43% (125/290)\rReceiving objects:  44% (128/290)\rReceiving objects:  45% (131/290)\rReceiving objects:  46% (134/290)\rReceiving objects:  47% (137/290)\rReceiving objects:  48% (140/290)\rReceiving objects:  49% (143/290)\rReceiving objects:  50% (145/290)\rReceiving objects:  51% (148/290)\rReceiving objects:  52% (151/290)\rReceiving objects:  53% (154/290)\rReceiving objects:  54% (157/290)\rReceiving objects:  55% (160/290)\rReceiving objects:  56% (163/290)\rReceiving objects:  57% (166/290)\rReceiving objects:  58% (169/290)\rReceiving objects:  59% (172/290)\rReceiving objects:  60% (174/290)\rReceiving objects:  61% (177/290)\rReceiving objects:  62% (180/290)\rReceiving objects:  63% (183/290)\rReceiving objects:  64% (186/290)\rReceiving objects:  65% (189/290)\rReceiving objects:  66% (192/290)\rReceiving objects:  67% (195/290)\rReceiving objects:  68% (198/290)\rReceiving objects:  69% (201/290)\rReceiving objects:  70% (203/290)\rReceiving objects:  71% (206/290)\rReceiving objects:  72% (209/290)\rReceiving objects:  73% (212/290)\rReceiving objects:  74% (215/290)\rReceiving objects:  75% (218/290)\rReceiving objects:  76% (221/290)\rReceiving objects:  77% (224/290)\rReceiving objects:  78% (227/290)\rReceiving objects:  79% (230/290)\rReceiving objects:  80% (232/290)\rReceiving objects:  81% (235/290)\rremote: Total 290 (delta 43), reused 3 (delta 3), pack-reused 196\u001b[K\n",
            "Receiving objects:  82% (238/290)\rReceiving objects:  83% (241/290)\rReceiving objects:  84% (244/290)\rReceiving objects:  85% (247/290)\rReceiving objects:  86% (250/290)\rReceiving objects:  87% (253/290)\rReceiving objects:  88% (256/290)\rReceiving objects:  89% (259/290)\rReceiving objects:  90% (261/290)\rReceiving objects:  91% (264/290)\rReceiving objects:  92% (267/290)\rReceiving objects:  93% (270/290)\rReceiving objects:  94% (273/290)\rReceiving objects:  95% (276/290)\rReceiving objects:  96% (279/290)\rReceiving objects:  97% (282/290)\rReceiving objects:  98% (285/290)\rReceiving objects:  99% (288/290)\rReceiving objects: 100% (290/290)\rReceiving objects: 100% (290/290), 389.24 KiB | 9.98 MiB/s, done.\n",
            "Resolving deltas:   0% (0/88)\rResolving deltas:   1% (1/88)\rResolving deltas:   2% (2/88)\rResolving deltas:   3% (3/88)\rResolving deltas:   4% (4/88)\rResolving deltas:   5% (5/88)\rResolving deltas:   6% (6/88)\rResolving deltas:   7% (7/88)\rResolving deltas:   9% (8/88)\rResolving deltas:  10% (9/88)\rResolving deltas:  11% (10/88)\rResolving deltas:  12% (11/88)\rResolving deltas:  13% (12/88)\rResolving deltas:  14% (13/88)\rResolving deltas:  15% (14/88)\rResolving deltas:  17% (15/88)\rResolving deltas:  18% (16/88)\rResolving deltas:  19% (17/88)\rResolving deltas:  20% (18/88)\rResolving deltas:  21% (19/88)\rResolving deltas:  22% (20/88)\rResolving deltas:  23% (21/88)\rResolving deltas:  25% (22/88)\rResolving deltas:  26% (23/88)\rResolving deltas:  27% (24/88)\rResolving deltas:  28% (25/88)\rResolving deltas:  29% (26/88)\rResolving deltas:  30% (27/88)\rResolving deltas:  31% (28/88)\rResolving deltas:  32% (29/88)\rResolving deltas:  34% (30/88)\rResolving deltas:  35% (31/88)\rResolving deltas:  36% (32/88)\rResolving deltas:  37% (33/88)\rResolving deltas:  38% (34/88)\rResolving deltas:  39% (35/88)\rResolving deltas:  40% (36/88)\rResolving deltas:  42% (37/88)\rResolving deltas:  43% (38/88)\rResolving deltas:  44% (39/88)\rResolving deltas:  45% (40/88)\rResolving deltas:  46% (41/88)\rResolving deltas:  47% (42/88)\rResolving deltas:  48% (43/88)\rResolving deltas:  50% (44/88)\rResolving deltas:  51% (45/88)\rResolving deltas:  52% (46/88)\rResolving deltas:  53% (47/88)\rResolving deltas:  54% (48/88)\rResolving deltas:  55% (49/88)\rResolving deltas:  56% (50/88)\rResolving deltas:  57% (51/88)\rResolving deltas:  59% (52/88)\rResolving deltas:  60% (53/88)\rResolving deltas:  61% (54/88)\rResolving deltas:  62% (55/88)\rResolving deltas:  63% (56/88)\rResolving deltas:  64% (57/88)\rResolving deltas:  65% (58/88)\rResolving deltas:  67% (59/88)\rResolving deltas:  68% (60/88)\rResolving deltas:  69% (61/88)\rResolving deltas:  70% (62/88)\rResolving deltas:  71% (63/88)\rResolving deltas:  72% (64/88)\rResolving deltas:  73% (65/88)\rResolving deltas:  75% (66/88)\rResolving deltas:  76% (67/88)\rResolving deltas:  77% (68/88)\rResolving deltas:  78% (69/88)\rResolving deltas:  79% (70/88)\rResolving deltas:  80% (71/88)\rResolving deltas:  81% (72/88)\rResolving deltas:  82% (73/88)\rResolving deltas:  84% (74/88)\rResolving deltas:  85% (75/88)\rResolving deltas:  86% (76/88)\rResolving deltas:  87% (77/88)\rResolving deltas:  88% (78/88)\rResolving deltas:  89% (79/88)\rResolving deltas:  90% (80/88)\rResolving deltas:  92% (81/88)\rResolving deltas:  93% (82/88)\rResolving deltas:  94% (83/88)\rResolving deltas:  95% (84/88)\rResolving deltas:  96% (85/88)\rResolving deltas:  97% (86/88)\rResolving deltas:  98% (87/88)\rResolving deltas: 100% (88/88)\rResolving deltas: 100% (88/88), done.\n"
          ]
        }
      ]
    },
    {
      "cell_type": "code",
      "source": [
        "raw = '''PBVHVOCOCFFNBCNCCBHK\n",
        "\n",
        "FV -> C\n",
        "SS -> B\n",
        "SC -> B\n",
        "BP -> K\n",
        "VP -> S\n",
        "HK -> K\n",
        "FS -> F\n",
        "CC -> V\n",
        "VB -> P\n",
        "OP -> B\n",
        "FO -> N\n",
        "FH -> O\n",
        "VK -> N\n",
        "PV -> S\n",
        "HV -> O\n",
        "PF -> F\n",
        "HH -> F\n",
        "NK -> S\n",
        "NC -> S\n",
        "FC -> H\n",
        "FK -> K\n",
        "OO -> N\n",
        "HP -> C\n",
        "NN -> H\n",
        "BB -> H\n",
        "CN -> P\n",
        "PS -> N\n",
        "VF -> S\n",
        "CB -> B\n",
        "OH -> S\n",
        "CF -> C\n",
        "OK -> P\n",
        "CV -> V\n",
        "CS -> H\n",
        "KN -> B\n",
        "OV -> S\n",
        "HB -> C\n",
        "OS -> V\n",
        "PC -> B\n",
        "CK -> S\n",
        "PP -> K\n",
        "SN -> O\n",
        "VV -> C\n",
        "NS -> F\n",
        "PN -> K\n",
        "HS -> P\n",
        "VO -> B\n",
        "VC -> B\n",
        "NV -> P\n",
        "VS -> N\n",
        "FP -> F\n",
        "HO -> S\n",
        "KS -> O\n",
        "BN -> F\n",
        "VN -> P\n",
        "OC -> K\n",
        "SF -> P\n",
        "PO -> P\n",
        "SB -> O\n",
        "FN -> F\n",
        "OF -> F\n",
        "CP -> C\n",
        "HC -> O\n",
        "PH -> O\n",
        "BC -> O\n",
        "NO -> C\n",
        "BH -> C\n",
        "VH -> S\n",
        "KK -> O\n",
        "SV -> K\n",
        "KB -> K\n",
        "BS -> S\n",
        "HF -> B\n",
        "NH -> S\n",
        "PB -> N\n",
        "HN -> K\n",
        "SK -> B\n",
        "FB -> F\n",
        "KV -> S\n",
        "BF -> S\n",
        "ON -> S\n",
        "BV -> P\n",
        "KC -> S\n",
        "NB -> S\n",
        "NP -> B\n",
        "BK -> K\n",
        "NF -> C\n",
        "BO -> K\n",
        "KF -> B\n",
        "KH -> N\n",
        "SP -> O\n",
        "CO -> S\n",
        "KO -> V\n",
        "SO -> B\n",
        "CH -> C\n",
        "KP -> C\n",
        "FF -> K\n",
        "PK -> F\n",
        "OB -> H\n",
        "SH -> C'''"
      ],
      "metadata": {
        "id": "mWdqxSjhABiD"
      },
      "execution_count": 2,
      "outputs": []
    },
    {
      "cell_type": "code",
      "source": [
        "blocks = process_raw(raw)"
      ],
      "metadata": {
        "colab": {
          "base_uri": "https://localhost:8080/"
        },
        "id": "aBp9KgKJADXe",
        "outputId": "96476379-fbfe-4576-ec19-8319843a5fed"
      },
      "execution_count": 3,
      "outputs": [
        {
          "output_type": "stream",
          "name": "stdout",
          "text": [
            "Splitting into blocks...\n",
            "2 blocks found.\n",
            "The blocks have the following number of lines:\n",
            "  1\n",
            "  100\n"
          ]
        }
      ]
    },
    {
      "cell_type": "code",
      "source": [
        "template = blocks[0][0]\n",
        "steps = [line.split(' -> ') for line in blocks[1]]\n",
        "steps = dict(steps)"
      ],
      "metadata": {
        "id": "w0nuNqVr0Hmq"
      },
      "execution_count": 4,
      "outputs": []
    },
    {
      "cell_type": "code",
      "source": [
        "bigrams = []\n",
        "t = '^' + template + '$'\n",
        "for i, c in enumerate(t[:-1]):\n",
        "  bigrams.append(c + t[i+1])\n",
        "bigrams = multiset(bigrams)"
      ],
      "metadata": {
        "id": "v_DB1yAcEq-T"
      },
      "execution_count": 5,
      "outputs": []
    },
    {
      "cell_type": "code",
      "source": [
        "for _ in range(10):\n",
        "  nb = defaultdict(lambda: 0)\n",
        "  for b, c in bigrams.items():\n",
        "    if b not in steps:\n",
        "      nb[b] += c\n",
        "      continue\n",
        "    m = steps[b]\n",
        "    nb[b[0] + m] += c\n",
        "    nb[m + b[1]] += c\n",
        "  bigrams = nb"
      ],
      "metadata": {
        "id": "fj3pKvsOFSBX"
      },
      "execution_count": 6,
      "outputs": []
    },
    {
      "cell_type": "code",
      "source": [
        "counts = defaultdict(lambda: 0)\n",
        "for b, c in bigrams.items():\n",
        "  counts[b[0]] += c\n",
        "del counts['^']\n",
        "max(counts.values()) - min(counts.values())"
      ],
      "metadata": {
        "colab": {
          "base_uri": "https://localhost:8080/"
        },
        "id": "lEJcVN2zFAN6",
        "outputId": "db52c44b-3928-4d3e-a9cc-3d9a3cd25d53"
      },
      "execution_count": 7,
      "outputs": [
        {
          "output_type": "execute_result",
          "data": {
            "text/plain": [
              "3587"
            ]
          },
          "metadata": {},
          "execution_count": 7
        }
      ]
    },
    {
      "cell_type": "code",
      "source": [
        "for _ in range(30):\n",
        "  nb = defaultdict(lambda: 0)\n",
        "  for b, c in bigrams.items():\n",
        "    if b not in steps:\n",
        "      nb[b] += c\n",
        "      continue\n",
        "    m = steps[b]\n",
        "    nb[b[0] + m] += c\n",
        "    nb[m + b[1]] += c\n",
        "  bigrams = nb\n",
        "counts = defaultdict(lambda: 0)\n",
        "for b, c in bigrams.items():\n",
        "  counts[b[0]] += c\n",
        "del counts['^']\n",
        "max(counts.values()) - min(counts.values())"
      ],
      "metadata": {
        "colab": {
          "base_uri": "https://localhost:8080/"
        },
        "id": "tic_60RSG_R-",
        "outputId": "c244b268-76e8-445d-c472-98d7619f86f3"
      },
      "execution_count": 8,
      "outputs": [
        {
          "output_type": "execute_result",
          "data": {
            "text/plain": [
              "3906445077999"
            ]
          },
          "metadata": {},
          "execution_count": 8
        }
      ]
    }
  ],
  "metadata": {
    "colab": {
      "provenance": []
    },
    "kernelspec": {
      "display_name": "Python 3",
      "name": "python3"
    },
    "language_info": {
      "name": "python"
    }
  },
  "nbformat": 4,
  "nbformat_minor": 0
}