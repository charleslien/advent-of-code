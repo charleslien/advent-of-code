{
  "cells": [
    {
      "cell_type": "markdown",
      "metadata": {
        "id": "view-in-github",
        "colab_type": "text"
      },
      "source": [
        "<a href=\"https://colab.research.google.com/github/charleslien/advent-of-code/blob/main/2024/day17.ipynb\" target=\"_parent\"><img src=\"https://colab.research.google.com/assets/colab-badge.svg\" alt=\"Open In Colab\"/></a>"
      ]
    },
    {
      "cell_type": "code",
      "source": [
        "!git clone https://github.com/charleslien/advent-of-code aoc\n",
        "from aoc.lib import *"
      ],
      "metadata": {
        "id": "Sx5R3ybxCdii",
        "colab": {
          "base_uri": "https://localhost:8080/"
        },
        "outputId": "3bc88a7e-d53a-4b9f-86de-9f05c95abf70"
      },
      "execution_count": 1,
      "outputs": [
        {
          "output_type": "stream",
          "name": "stdout",
          "text": [
            "Cloning into 'aoc'...\n",
            "remote: Enumerating objects: 440, done.\u001b[K\n",
            "remote: Counting objects: 100% (244/244), done.\u001b[K\n",
            "remote: Compressing objects: 100% (145/145), done.\u001b[K\n",
            "remote: Total 440 (delta 127), reused 187 (delta 97), pack-reused 196 (from 1)\u001b[K\n",
            "Receiving objects: 100% (440/440), 560.41 KiB | 1.86 MiB/s, done.\n",
            "Resolving deltas: 100% (172/172), done.\n"
          ]
        }
      ]
    },
    {
      "cell_type": "code",
      "source": [
        "raw = '''Register A: 64012472\n",
        "Register B: 0\n",
        "Register C: 0\n",
        "\n",
        "Program: 2,4,1,7,7,5,0,3,1,7,4,1,5,5,3,0'''"
      ],
      "metadata": {
        "id": "M54myFwwfHEO"
      },
      "execution_count": 2,
      "outputs": []
    },
    {
      "cell_type": "code",
      "source": [
        "blocks = process_raw(raw)"
      ],
      "metadata": {
        "colab": {
          "base_uri": "https://localhost:8080/"
        },
        "id": "bIoxV4B1-ILn",
        "outputId": "97745379-77c8-46f3-bf2e-d78c1b7b15a6"
      },
      "execution_count": 3,
      "outputs": [
        {
          "output_type": "stream",
          "name": "stdout",
          "text": [
            "Splitting into blocks...\n",
            "2 blocks found.\n",
            "The blocks have the following number of lines:\n",
            "  3\n",
            "  1\n"
          ]
        }
      ]
    },
    {
      "cell_type": "code",
      "source": [
        "p = re.compile(r'Register [ABC]: (\\d+)')\n",
        "regs = list(map(int, (p.fullmatch(line).group(1) for line in blocks[0])))\n",
        "prog = list(map(int, blocks[1][0].split()[1].split(',')))\n",
        "ip = 0\n",
        "\n",
        "def combo(operand):\n",
        "  if operand > 3:\n",
        "    return regs[operand - 4]\n",
        "  return operand\n",
        "def operation(opcode, operand):\n",
        "  global regs, ip\n",
        "  if opcode == 0:\n",
        "    regs[0] = int(regs[0] / (1 << combo(operand)))\n",
        "  elif opcode == 1:\n",
        "    regs[1] ^= operand\n",
        "  elif opcode == 2:\n",
        "    regs[1] = combo(operand) % 8\n",
        "  elif opcode == 3:\n",
        "    if regs[0] != 0:\n",
        "      ip = operand - 2\n",
        "  elif opcode == 4:\n",
        "    regs[1] ^= regs[2]\n",
        "  elif opcode == 5:\n",
        "    return combo(operand) % 8\n",
        "  elif opcode == 6:\n",
        "    regs[1] = regs[0] // (1 << combo(operand))\n",
        "  elif opcode == 7:\n",
        "    regs[2] = regs[0] // (1 << combo(operand))\n",
        "\n",
        "def run(prog):\n",
        "  global ip\n",
        "  output = []\n",
        "  ip = 0\n",
        "  while ip < len(prog):\n",
        "    if (val := operation(prog[ip], prog[ip + 1])) is not None:\n",
        "      output.append(val)\n",
        "    ip += 2\n",
        "  return output\n",
        "','.join(map(str, run(prog)))"
      ],
      "metadata": {
        "colab": {
          "base_uri": "https://localhost:8080/",
          "height": 35
        },
        "id": "dJvCIgyl_O2p",
        "outputId": "92d756ef-17d5-47b3-d6ad-bc5ef15f6307"
      },
      "execution_count": 4,
      "outputs": [
        {
          "output_type": "execute_result",
          "data": {
            "text/plain": [
              "'1,0,2,0,5,7,2,1,3'"
            ],
            "application/vnd.google.colaboratory.intrinsic+json": {
              "type": "string"
            }
          },
          "metadata": {},
          "execution_count": 4
        }
      ]
    },
    {
      "cell_type": "code",
      "source": [
        "def combo_d(operand):\n",
        "  if operand == 7:\n",
        "    return ''\n",
        "  if operand > 3:\n",
        "    return regs[operand - 4]\n",
        "  return str(operand)\n",
        "def operation_d(opcode, operand):\n",
        "  global regs, ip\n",
        "  c = combo_d(operand)\n",
        "  if opcode == 0:\n",
        "    regs[0] = f'({regs[0]} >> {c})'\n",
        "  elif opcode == 1:\n",
        "    regs[1] = f'({regs[1]} ^ {operand})'\n",
        "  elif opcode == 2:\n",
        "    regs[1] = f'({c} % 8)'\n",
        "  elif opcode == 3:\n",
        "    return f'jnz, ip={operand}, {regs[0]} != 0'\n",
        "  elif opcode == 4:\n",
        "    regs[1] = f'({regs[1]} ^ {regs[2]})'\n",
        "  elif opcode == 5:\n",
        "    return f'{c} % 8'\n",
        "  elif opcode == 6:\n",
        "    regs[1] = f'({regs[0]} >> {c})'\n",
        "  elif opcode == 7:\n",
        "    regs[2] = f'({regs[0]} >> {c})'\n",
        "\n",
        "def print_description(prog):\n",
        "  global regs\n",
        "  regs = ['a', '0', '0']\n",
        "  ip = 0\n",
        "  while ip < len(prog):\n",
        "    if (val := operation_d(prog[ip], prog[ip + 1])) is not None:\n",
        "      print(val)\n",
        "    ip += 2\n",
        "print_description(prog)\n",
        "print(regs)"
      ],
      "metadata": {
        "colab": {
          "base_uri": "https://localhost:8080/"
        },
        "id": "s01JqJr-Oux6",
        "outputId": "f228baec-9cdd-4cba-a928-ca493cea3f8f"
      },
      "execution_count": 5,
      "outputs": [
        {
          "output_type": "stream",
          "name": "stdout",
          "text": [
            "((((a % 8) ^ 7) ^ 7) ^ (a >> ((a % 8) ^ 7))) % 8\n",
            "jnz, ip=0, (a >> 3) != 0\n",
            "['(a >> 3)', '((((a % 8) ^ 7) ^ 7) ^ (a >> ((a % 8) ^ 7)))', '(a >> ((a % 8) ^ 7))']\n"
          ]
        }
      ]
    },
    {
      "cell_type": "code",
      "source": [
        "# Note: always checks 3 bits at a time\n",
        "stack = [0]\n",
        "while stack:\n",
        "  a = stack.pop()\n",
        "  for d in range(8):\n",
        "    if not (a + d):\n",
        "      continue\n",
        "    regs = [a * 8 + d, 0, 0]\n",
        "    result = run(prog)\n",
        "    if result[0] == prog[-len(result)]:\n",
        "      if len(result) == len(prog):\n",
        "        print(a * 8 + d)\n",
        "        break\n",
        "      stack.append(a * 8 + d)"
      ],
      "metadata": {
        "id": "K6QlZqS_USBX",
        "colab": {
          "base_uri": "https://localhost:8080/"
        },
        "outputId": "24d8db97-340e-4008-fd4b-79bb43ae9bae"
      },
      "execution_count": 6,
      "outputs": [
        {
          "output_type": "stream",
          "name": "stdout",
          "text": [
            "265652340990875\n"
          ]
        }
      ]
    }
  ],
  "metadata": {
    "colab": {
      "provenance": [],
      "include_colab_link": true
    },
    "kernelspec": {
      "display_name": "Python 3",
      "name": "python3"
    },
    "language_info": {
      "name": "python"
    }
  },
  "nbformat": 4,
  "nbformat_minor": 0
}