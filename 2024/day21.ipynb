{
  "cells": [
    {
      "cell_type": "markdown",
      "metadata": {
        "id": "view-in-github",
        "colab_type": "text"
      },
      "source": [
        "<a href=\"https://colab.research.google.com/github/charleslien/advent-of-code/blob/main/2024/day21.ipynb\" target=\"_parent\"><img src=\"https://colab.research.google.com/assets/colab-badge.svg\" alt=\"Open In Colab\"/></a>"
      ]
    },
    {
      "cell_type": "code",
      "source": [
        "!git clone https://github.com/charleslien/advent-of-code aoc\n",
        "from aoc.lib import *"
      ],
      "metadata": {
        "id": "Sx5R3ybxCdii",
        "colab": {
          "base_uri": "https://localhost:8080/"
        },
        "outputId": "9fdc2447-fa2f-455c-8ad5-ed98ed516f0c"
      },
      "execution_count": 1,
      "outputs": [
        {
          "output_type": "stream",
          "name": "stdout",
          "text": [
            "Cloning into 'aoc'...\n",
            "remote: Enumerating objects: 456, done.\u001b[K\n",
            "remote: Counting objects: 100% (74/74), done.\u001b[K\n",
            "remote: Compressing objects: 100% (71/71), done.\u001b[K\n",
            "remote: Total 456 (delta 39), reused 3 (delta 3), pack-reused 382 (from 2)\u001b[K\n",
            "Receiving objects: 100% (456/456), 599.05 KiB | 6.73 MiB/s, done.\n",
            "Resolving deltas: 100% (178/178), done.\n"
          ]
        }
      ]
    },
    {
      "cell_type": "code",
      "source": [
        "raw = '''340A\n",
        "586A\n",
        "839A\n",
        "413A\n",
        "968A'''"
      ],
      "metadata": {
        "id": "M54myFwwfHEO"
      },
      "execution_count": 2,
      "outputs": []
    },
    {
      "cell_type": "code",
      "source": [
        "lines = process_raw(raw)"
      ],
      "metadata": {
        "colab": {
          "base_uri": "https://localhost:8080/"
        },
        "id": "bIoxV4B1-ILn",
        "outputId": "0ba55d9a-3aae-493b-de39-28536518f7a0"
      },
      "execution_count": 3,
      "outputs": [
        {
          "output_type": "stream",
          "name": "stdout",
          "text": [
            "Splitting into lines...\n",
            "5 lines found.\n",
            "4 characters in the shortest line.\n",
            "4 characters in the longest line.\n"
          ]
        }
      ]
    },
    {
      "cell_type": "code",
      "source": [
        "keypad = [list('789'), list('456'), list('123'), list(' 0A')]\n",
        "keypad_dict = {}\n",
        "for i, row in enumerate(keypad):\n",
        "  for j, c in enumerate(row):\n",
        "    keypad_dict[c] = (i, j)\n",
        "arrows = [list(' ^A'), list('<v>')]\n",
        "arrows_dict = {}\n",
        "for i, row in enumerate(arrows):\n",
        "  for j, c in enumerate(row):\n",
        "    arrows_dict[c] = (i, j)\n",
        "@cache\n",
        "def get_num_keystrokes(code):\n",
        "  curr = arrows_dict['A']\n",
        "  total = 0\n",
        "  for x in code:\n",
        "    coords = arrows_dict[x]\n",
        "    total += abs(coords[0] - curr[0]) + abs(coords[1] - curr[1]) + 1\n",
        "    curr = coords\n",
        "  return total\n",
        "\n",
        "@cache\n",
        "def get_nnum_keystrokes(code, recurse):\n",
        "  if recurse == 0:\n",
        "    return get_num_keystrokes(code)\n",
        "  curr = arrows_dict['A']\n",
        "  avoid = arrows_dict[' ']\n",
        "  total = 0\n",
        "  for x in code:\n",
        "    coords = arrows_dict[x]\n",
        "    dy = coords[0] - curr[0]\n",
        "    dx = coords[1] - curr[1]\n",
        "    s = 'v' * dy if dy > 0 else '^' * (-dy)\n",
        "    s += '>' * dx if dx > 0 else '<' * (-dx)\n",
        "    min_keystrokes = float('inf')\n",
        "    for p in permutations(s):\n",
        "      n = curr\n",
        "      for c in p:\n",
        "        if c == 'v':\n",
        "          n = (n[0] + 1, n[1])\n",
        "        elif c == '^':\n",
        "          n = (n[0] - 1, n[1])\n",
        "        elif c == '>':\n",
        "          n = (n[0], n[1] + 1)\n",
        "        elif c == '<':\n",
        "          n = (n[0], n[1] - 1)\n",
        "        if n == avoid:\n",
        "          break\n",
        "      if n == avoid:\n",
        "        continue\n",
        "      min_keystrokes = min(get_nnum_keystrokes(''.join(p) + 'A', recurse-1), min_keystrokes)\n",
        "    curr = coords\n",
        "    total += min_keystrokes\n",
        "  return total\n",
        "\n",
        "@cache\n",
        "def get_nnnum_keystrokes(code):\n",
        "  curr = keypad_dict['A']\n",
        "  avoid = keypad_dict[' ']\n",
        "  total = 0\n",
        "  for x in code:\n",
        "    coords = keypad_dict[x]\n",
        "    dy = coords[0] - curr[0]\n",
        "    dx = coords[1] - curr[1]\n",
        "    s = 'v' * dy if dy > 0 else '^' * (-dy)\n",
        "    s += '>' * dx if dx > 0 else '<' * (-dx)\n",
        "    min_keystrokes = float('inf')\n",
        "    for p in permutations(s):\n",
        "      n = curr\n",
        "      for c in p:\n",
        "        if c == 'v':\n",
        "          n = (n[0] + 1, n[1])\n",
        "        elif c == '^':\n",
        "          n = (n[0] - 1, n[1])\n",
        "        elif c == '>':\n",
        "          n = (n[0], n[1] + 1)\n",
        "        elif c == '<':\n",
        "          n = (n[0], n[1] - 1)\n",
        "        if n == avoid:\n",
        "          break\n",
        "      if n == avoid:\n",
        "        continue\n",
        "      min_keystrokes = min(get_nnum_keystrokes(''.join(p) + 'A', 1), min_keystrokes)\n",
        "    curr = coords\n",
        "    total += min_keystrokes\n",
        "  return total"
      ],
      "metadata": {
        "id": "2N_C1b9GmaF0"
      },
      "execution_count": 4,
      "outputs": []
    },
    {
      "cell_type": "code",
      "source": [
        "sum(get_nnnum_keystrokes(line) * int(line[:-1]) for line in lines)"
      ],
      "metadata": {
        "colab": {
          "base_uri": "https://localhost:8080/"
        },
        "id": "zOAsn4yeufpN",
        "outputId": "428eccb6-6722-4dd8-a035-c552d39cfca9"
      },
      "execution_count": 5,
      "outputs": [
        {
          "output_type": "execute_result",
          "data": {
            "text/plain": [
              "219366"
            ]
          },
          "metadata": {},
          "execution_count": 5
        }
      ]
    },
    {
      "cell_type": "code",
      "source": [
        "@cache\n",
        "def get_n25um_keystrokes(code):\n",
        "  curr = keypad_dict['A']\n",
        "  avoid = keypad_dict[' ']\n",
        "  total = 0\n",
        "  for x in code:\n",
        "    coords = keypad_dict[x]\n",
        "    dy = coords[0] - curr[0]\n",
        "    dx = coords[1] - curr[1]\n",
        "    s = 'v' * dy if dy > 0 else '^' * (-dy)\n",
        "    s += '>' * dx if dx > 0 else '<' * (-dx)\n",
        "    min_keystrokes = float('inf')\n",
        "    for p in permutations(s):\n",
        "      n = curr\n",
        "      for c in p:\n",
        "        if c == 'v':\n",
        "          n = (n[0] + 1, n[1])\n",
        "        elif c == '^':\n",
        "          n = (n[0] - 1, n[1])\n",
        "        elif c == '>':\n",
        "          n = (n[0], n[1] + 1)\n",
        "        elif c == '<':\n",
        "          n = (n[0], n[1] - 1)\n",
        "        if n == avoid:\n",
        "          break\n",
        "      if n == avoid:\n",
        "        continue\n",
        "      min_keystrokes = min(get_nnum_keystrokes(''.join(p) + 'A', 24), min_keystrokes)\n",
        "    curr = coords\n",
        "    total += min_keystrokes\n",
        "  return total"
      ],
      "metadata": {
        "id": "s2peQzmgo6Y_"
      },
      "execution_count": 6,
      "outputs": []
    },
    {
      "cell_type": "code",
      "source": [
        "sum(get_n25um_keystrokes(line) * int(line[:-1]) for line in lines)"
      ],
      "metadata": {
        "colab": {
          "base_uri": "https://localhost:8080/"
        },
        "id": "4p5FEHjuo8Vs",
        "outputId": "5df32e34-3732-4626-8e86-1ac328c7798c"
      },
      "execution_count": 7,
      "outputs": [
        {
          "output_type": "execute_result",
          "data": {
            "text/plain": [
              "271631192020464"
            ]
          },
          "metadata": {},
          "execution_count": 7
        }
      ]
    }
  ],
  "metadata": {
    "colab": {
      "provenance": [],
      "include_colab_link": true
    },
    "kernelspec": {
      "display_name": "Python 3",
      "name": "python3"
    },
    "language_info": {
      "name": "python"
    }
  },
  "nbformat": 4,
  "nbformat_minor": 0
}