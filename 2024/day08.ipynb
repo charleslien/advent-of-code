{
  "cells": [
    {
      "cell_type": "markdown",
      "metadata": {
        "id": "view-in-github",
        "colab_type": "text"
      },
      "source": [
        "<a href=\"https://colab.research.google.com/github/charleslien/advent-of-code/blob/main/2024/day08.ipynb\" target=\"_parent\"><img src=\"https://colab.research.google.com/assets/colab-badge.svg\" alt=\"Open In Colab\"/></a>"
      ]
    },
    {
      "cell_type": "code",
      "source": [
        "!git clone https://github.com/charleslien/advent-of-code aoc\n",
        "from aoc.lib import *"
      ],
      "metadata": {
        "id": "Sx5R3ybxCdii",
        "colab": {
          "base_uri": "https://localhost:8080/"
        },
        "outputId": "06ce72d9-fa79-487a-d396-ddd959344e35"
      },
      "execution_count": 1,
      "outputs": [
        {
          "output_type": "stream",
          "name": "stdout",
          "text": [
            "Cloning into 'aoc'...\n",
            "remote: Enumerating objects: 404, done.\u001b[K\n",
            "remote: Counting objects: 100% (208/208), done.\u001b[K\n",
            "remote: Compressing objects: 100% (109/109), done.\u001b[K\n",
            "remote: Total 404 (delta 107), reused 187 (delta 97), pack-reused 196 (from 1)\u001b[K\n",
            "Receiving objects: 100% (404/404), 508.42 KiB | 3.71 MiB/s, done.\n",
            "Resolving deltas: 100% (152/152), done.\n"
          ]
        }
      ]
    },
    {
      "cell_type": "code",
      "source": [
        "raw = '''.E..........m..0N.........f.......................\n",
        "........N........P0...............................\n",
        ".......j..................................F.......\n",
        "........1j............P........................C..\n",
        "...........................3..K......f..........E.\n",
        "...........V...y...0.....................F........\n",
        "1.......j.....P....y.N.......................F....\n",
        "....................m...................C.........\n",
        "..L......P....p..................w.m..............\n",
        "............E......p..AU........8......f..........\n",
        "..............C...............w....d..............\n",
        "j1...............E..........3.........f........w..\n",
        ".................p...A..........3.................\n",
        ".................3..p........KU...w..r..F.........\n",
        "7.........y........8.......................r......\n",
        "........y..u......K...............................\n",
        "...1..................8....C...K..................\n",
        "...........h.......................6..............\n",
        "......................U.........A.r..t........6...\n",
        "...........5.........8..c.........................\n",
        ".................U................t...............\n",
        ".....L...O...................t.............d......\n",
        ".........7........................................\n",
        "......L..H...c.....9....t.................6.......\n",
        "...........................c.M..................4.\n",
        ".....R..7...O.....................................\n",
        ".......................9......................d...\n",
        "..................................................\n",
        ".........L..9...R..........................6c.....\n",
        "..M.....T.5.................................d.....\n",
        ".......5OR...................T....................\n",
        ".......D......o.........v...................r.....\n",
        "...u....o.........5...............................\n",
        ".......WR.....Y...........................e...4...\n",
        "T............O......M..................4..a.......\n",
        ".Y...................M............................\n",
        "........W..D...............oh............e........\n",
        ".......7......Do...................A...e.......4..\n",
        ".W...Y..D........................h...v..........e.\n",
        "..........V.....9.l.......h.......a.........n..v..\n",
        ".......................H.....a2...................\n",
        "..................................................\n",
        "...V............Y....J..H2................vn......\n",
        "..............................H2.................n\n",
        "................V..........l...........k..........\n",
        ".T..u........................J...ak...............\n",
        "..................J.....l.........................\n",
        ".................l................................\n",
        "......u.........................................n.\n",
        "......................J..k............2...........'''"
      ],
      "metadata": {
        "id": "kI7OtmmSQIC5"
      },
      "execution_count": 2,
      "outputs": []
    },
    {
      "cell_type": "code",
      "source": [
        "lines = process_raw(raw)"
      ],
      "metadata": {
        "colab": {
          "base_uri": "https://localhost:8080/"
        },
        "id": "geVKqquizmd1",
        "outputId": "2e084d55-0c64-4ed9-99d8-510011caea8f"
      },
      "execution_count": 3,
      "outputs": [
        {
          "output_type": "stream",
          "name": "stdout",
          "text": [
            "Splitting into lines...\n",
            "50 lines found.\n",
            "50 characters in each line.\n"
          ]
        }
      ]
    },
    {
      "cell_type": "code",
      "source": [
        "locs = {}\n",
        "for i, line in enumerate(lines):\n",
        "  for j, c in enumerate(line):\n",
        "    if c != '.':\n",
        "      if c not in locs:\n",
        "        locs[c] = set()\n",
        "      locs[c].add((i, j))\n",
        "antinodes = set()\n",
        "for coords in locs.values():\n",
        "  for c1 in coords:\n",
        "    for c2 in coords:\n",
        "      if c1 == c2:\n",
        "        continue\n",
        "      a1 = np.array(c1)\n",
        "      a2 = np.array(c2)\n",
        "      antinodes.add(tuple(2 * a1 - a2))\n",
        "      antinodes.add(tuple(2 * a2 - a1))\n",
        "len([a for a in antinodes if valid_index(lines, a)])"
      ],
      "metadata": {
        "colab": {
          "base_uri": "https://localhost:8080/"
        },
        "id": "m3KsR3I8o5Z6",
        "outputId": "67942c22-3b4d-4dfd-aa9e-abb68d89f1a2"
      },
      "execution_count": 4,
      "outputs": [
        {
          "output_type": "execute_result",
          "data": {
            "text/plain": [
              "323"
            ]
          },
          "metadata": {},
          "execution_count": 4
        }
      ]
    },
    {
      "cell_type": "code",
      "source": [
        "antinodes = set()\n",
        "for coords in locs.values():\n",
        "  for c1 in coords:\n",
        "    for c2 in coords:\n",
        "      if c1 == c2:\n",
        "        continue\n",
        "      a1 = np.array(c1)\n",
        "      a2 = np.array(c2)\n",
        "      d = a1 - a2\n",
        "      curr1 = np.array(a1)\n",
        "      curr2 = np.array(a1)\n",
        "      while valid_index(lines, curr1) or valid_index(lines, curr2):\n",
        "        antinodes.add(tuple(curr1))\n",
        "        antinodes.add(tuple(curr2))\n",
        "        curr1 += d\n",
        "        curr2 -= d\n",
        "len([a for a in antinodes if valid_index(lines, a)])"
      ],
      "metadata": {
        "colab": {
          "base_uri": "https://localhost:8080/"
        },
        "id": "RELMJ2i5pvHi",
        "outputId": "537c9f3c-1430-41ba-ba8d-2db2be39ac22"
      },
      "execution_count": 5,
      "outputs": [
        {
          "output_type": "execute_result",
          "data": {
            "text/plain": [
              "1077"
            ]
          },
          "metadata": {},
          "execution_count": 5
        }
      ]
    }
  ],
  "metadata": {
    "colab": {
      "provenance": [],
      "include_colab_link": true
    },
    "kernelspec": {
      "display_name": "Python 3",
      "name": "python3"
    },
    "language_info": {
      "name": "python"
    }
  },
  "nbformat": 4,
  "nbformat_minor": 0
}