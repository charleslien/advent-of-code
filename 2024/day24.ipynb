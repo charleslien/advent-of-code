{
  "cells": [
    {
      "cell_type": "markdown",
      "metadata": {
        "id": "view-in-github",
        "colab_type": "text"
      },
      "source": [
        "<a href=\"https://colab.research.google.com/github/charleslien/advent-of-code/blob/main/2024/day24.ipynb\" target=\"_parent\"><img src=\"https://colab.research.google.com/assets/colab-badge.svg\" alt=\"Open In Colab\"/></a>"
      ]
    },
    {
      "cell_type": "code",
      "source": [
        "!git clone https://github.com/charleslien/advent-of-code aoc\n",
        "from aoc.lib import *"
      ],
      "metadata": {
        "id": "Sx5R3ybxCdii",
        "colab": {
          "base_uri": "https://localhost:8080/"
        },
        "outputId": "023b1ef0-3b03-4f8c-82be-eacbab9a4a5e"
      },
      "execution_count": 1,
      "outputs": [
        {
          "output_type": "stream",
          "name": "stdout",
          "text": [
            "Cloning into 'aoc'...\n",
            "remote: Enumerating objects: 468, done.\u001b[K\n",
            "remote: Counting objects: 100% (86/86), done.\u001b[K\n",
            "remote: Compressing objects: 100% (83/83), done.\u001b[K\n",
            "remote: Total 468 (delta 46), reused 3 (delta 3), pack-reused 382 (from 2)\u001b[K\n",
            "Receiving objects: 100% (468/468), 624.95 KiB | 5.58 MiB/s, done.\n",
            "Resolving deltas: 100% (185/185), done.\n"
          ]
        }
      ]
    },
    {
      "cell_type": "code",
      "source": [
        "raw = '''x00: 1\n",
        "x01: 0\n",
        "x02: 1\n",
        "x03: 1\n",
        "x04: 0\n",
        "x05: 0\n",
        "x06: 1\n",
        "x07: 1\n",
        "x08: 0\n",
        "x09: 1\n",
        "x10: 1\n",
        "x11: 1\n",
        "x12: 1\n",
        "x13: 0\n",
        "x14: 1\n",
        "x15: 0\n",
        "x16: 0\n",
        "x17: 0\n",
        "x18: 0\n",
        "x19: 0\n",
        "x20: 1\n",
        "x21: 1\n",
        "x22: 0\n",
        "x23: 1\n",
        "x24: 0\n",
        "x25: 0\n",
        "x26: 1\n",
        "x27: 1\n",
        "x28: 1\n",
        "x29: 1\n",
        "x30: 1\n",
        "x31: 1\n",
        "x32: 1\n",
        "x33: 1\n",
        "x34: 0\n",
        "x35: 1\n",
        "x36: 1\n",
        "x37: 1\n",
        "x38: 0\n",
        "x39: 1\n",
        "x40: 1\n",
        "x41: 0\n",
        "x42: 0\n",
        "x43: 1\n",
        "x44: 1\n",
        "y00: 1\n",
        "y01: 0\n",
        "y02: 0\n",
        "y03: 1\n",
        "y04: 1\n",
        "y05: 0\n",
        "y06: 0\n",
        "y07: 0\n",
        "y08: 0\n",
        "y09: 0\n",
        "y10: 0\n",
        "y11: 1\n",
        "y12: 0\n",
        "y13: 1\n",
        "y14: 0\n",
        "y15: 0\n",
        "y16: 0\n",
        "y17: 1\n",
        "y18: 1\n",
        "y19: 1\n",
        "y20: 1\n",
        "y21: 0\n",
        "y22: 0\n",
        "y23: 0\n",
        "y24: 1\n",
        "y25: 1\n",
        "y26: 0\n",
        "y27: 0\n",
        "y28: 1\n",
        "y29: 1\n",
        "y30: 1\n",
        "y31: 1\n",
        "y32: 1\n",
        "y33: 1\n",
        "y34: 1\n",
        "y35: 1\n",
        "y36: 1\n",
        "y37: 0\n",
        "y38: 1\n",
        "y39: 1\n",
        "y40: 0\n",
        "y41: 0\n",
        "y42: 0\n",
        "y43: 1\n",
        "y44: 1\n",
        "\n",
        "ktr XOR cpc -> z27\n",
        "hbk XOR fbg -> z13\n",
        "rbm XOR tjp -> z36\n",
        "y44 XOR x44 -> njr\n",
        "x08 XOR y08 -> cfd\n",
        "gwg XOR ggg -> z04\n",
        "y09 XOR x09 -> dsc\n",
        "ctp OR rjr -> msw\n",
        "hwk AND jsw -> fnt\n",
        "x41 XOR y41 -> qvg\n",
        "bqj OR dqj -> tsk\n",
        "y37 XOR x37 -> stv\n",
        "njr XOR tkm -> z44\n",
        "x34 XOR y34 -> gjj\n",
        "x07 AND y07 -> sqm\n",
        "x20 XOR y20 -> ckr\n",
        "x05 XOR y05 -> skf\n",
        "hrn XOR bfj -> z32\n",
        "tkm AND njr -> rfc\n",
        "tgj OR fcp -> kkf\n",
        "tsk XOR mwp -> z38\n",
        "nfs XOR cfd -> z08\n",
        "y40 XOR x40 -> fts\n",
        "x27 AND y27 -> vvc\n",
        "x18 AND y18 -> ksj\n",
        "pwm XOR cwd -> z10\n",
        "bqd OR fns -> bwp\n",
        "kjh XOR kkc -> z01\n",
        "ncw XOR btr -> z07\n",
        "krw AND wnm -> njt\n",
        "x33 AND y33 -> ffv\n",
        "qsg XOR msw -> z29\n",
        "fvf OR crb -> bdk\n",
        "rsm OR npk -> std\n",
        "qnr AND mpn -> qth\n",
        "y14 AND x14 -> bvm\n",
        "y39 XOR x39 -> kjv\n",
        "qnr XOR mpn -> z06\n",
        "bgk OR fdc -> hrn\n",
        "x35 AND y35 -> pbr\n",
        "y11 XOR x11 -> hwk\n",
        "mwp AND tsk -> jhw\n",
        "hgw OR jjg -> qph\n",
        "hkn OR tmf -> vfn\n",
        "x32 AND y32 -> wsv\n",
        "fhv OR rrh -> nwf\n",
        "bjh AND stv -> dqj\n",
        "y12 XOR x12 -> wnm\n",
        "y27 XOR x27 -> cpc\n",
        "jsw XOR hwk -> z11\n",
        "mts OR bvm -> dks\n",
        "x17 AND y17 -> tfc\n",
        "hmc AND gjj -> tmf\n",
        "rdg OR dqs -> nmr\n",
        "x03 XOR y03 -> dnk\n",
        "x06 AND y06 -> wgj\n",
        "fts AND qrk -> fgm\n",
        "vfw OR nqq -> bjh\n",
        "knp OR ffv -> hmc\n",
        "x19 AND y19 -> sgm\n",
        "y36 AND x36 -> vfw\n",
        "msh OR rfc -> z45\n",
        "qwg AND wvj -> qhq\n",
        "y15 XOR x15 -> qff\n",
        "wvj XOR qwg -> cmv\n",
        "x33 XOR y33 -> snw\n",
        "x42 XOR y42 -> qcn\n",
        "y15 AND x15 -> kbj\n",
        "x29 XOR y29 -> qsg\n",
        "x06 XOR y06 -> mpn\n",
        "qmm AND std -> mts\n",
        "y04 XOR x04 -> ggg\n",
        "qtk OR qwc -> jsw\n",
        "y05 AND x05 -> fqb\n",
        "kkf XOR pbw -> rmj\n",
        "y35 XOR x35 -> gmv\n",
        "dhk OR ntq -> knj\n",
        "y29 AND x29 -> dhk\n",
        "x43 AND y43 -> scr\n",
        "x23 AND y23 -> frg\n",
        "y24 AND x24 -> vjw\n",
        "y13 AND x13 -> rsm\n",
        "kfr OR wjq -> gwg\n",
        "rnk OR fgm -> mng\n",
        "hbk AND fbg -> npk\n",
        "qcn XOR msr -> z42\n",
        "fqb OR jrk -> qnr\n",
        "dnk AND wcj -> wjq\n",
        "kgr XOR kdt -> z28\n",
        "nmr AND kqt -> bgk\n",
        "wbk AND hdt -> nws\n",
        "bdk AND njp -> fcp\n",
        "kkf AND pbw -> z23\n",
        "y21 XOR x21 -> jkg\n",
        "qff XOR dks -> z15\n",
        "y17 XOR x17 -> wvj\n",
        "x44 AND y44 -> msh\n",
        "pkh AND hqn -> gtq\n",
        "qcn AND msr -> dnf\n",
        "drf XOR mtd -> z19\n",
        "y40 AND x40 -> rnk\n",
        "hdt XOR wbk -> z43\n",
        "bmw XOR dwn -> z26\n",
        "wgj OR qth -> ncw\n",
        "njt OR fjp -> fbg\n",
        "jvk AND jpt -> nnt\n",
        "y32 XOR x32 -> bfj\n",
        "y38 AND x38 -> mwp\n",
        "x08 AND y08 -> fhv\n",
        "kjv XOR dqg -> z39\n",
        "x10 AND y10 -> qwc\n",
        "gdv OR mnf -> dwn\n",
        "gtq OR vjw -> tcr\n",
        "nvs OR nnt -> wcj\n",
        "y14 XOR x14 -> qmm\n",
        "cfd AND nfs -> rrh\n",
        "qvg XOR mng -> z41\n",
        "dsc XOR nwf -> z09\n",
        "cmv AND fwm -> wbw\n",
        "gmv AND vfn -> dbr\n",
        "mng AND qvg -> wcp\n",
        "x31 AND y31 -> fdc\n",
        "cwd AND pwm -> qtk\n",
        "x41 AND y41 -> rpp\n",
        "y30 XOR x30 -> rvp\n",
        "x28 XOR y28 -> kdt\n",
        "y22 AND x22 -> tgj\n",
        "krw XOR wnm -> z12\n",
        "dbr OR pbr -> tjp\n",
        "kjh AND kkc -> jjv\n",
        "gwk OR rwb -> qrk\n",
        "bdk XOR njp -> z22\n",
        "wcp OR rpp -> msr\n",
        "y00 XOR x00 -> z00\n",
        "kdt AND kgr -> ctp\n",
        "dmf XOR ckr -> z20\n",
        "wsv OR wqs -> kpd\n",
        "x21 AND y21 -> fvf\n",
        "kpd AND snw -> knp\n",
        "y38 XOR x38 -> btb\n",
        "mhj OR sgm -> dmf\n",
        "y20 AND x20 -> bqd\n",
        "wcj XOR dnk -> z03\n",
        "y12 AND x12 -> fjp\n",
        "ktr AND cpc -> hvq\n",
        "ckr AND dmf -> fns\n",
        "y02 XOR x02 -> jvk\n",
        "dnf OR hqj -> hdt\n",
        "x13 XOR y13 -> hbk\n",
        "x02 AND y02 -> nvs\n",
        "x00 AND y00 -> kkc\n",
        "skf AND qph -> jrk\n",
        "nws OR scr -> tkm\n",
        "tfc OR qhq -> z17\n",
        "x30 AND y30 -> z30\n",
        "npn OR jjv -> jpt\n",
        "kjv AND dqg -> gwk\n",
        "y03 AND x03 -> kfr\n",
        "jkg AND bwp -> crb\n",
        "y18 XOR x18 -> fwm\n",
        "bmw AND dwn -> gjh\n",
        "sqm OR qnk -> nfs\n",
        "x10 XOR y10 -> pwm\n",
        "y37 AND x37 -> bqj\n",
        "ksj OR wbw -> mtd\n",
        "std XOR qmm -> z14\n",
        "kbw XOR wnf -> z16\n",
        "x28 AND y28 -> rjr\n",
        "y07 XOR x07 -> btr\n",
        "fts XOR qrk -> z40\n",
        "y16 XOR x16 -> wnf\n",
        "dsc AND nwf -> ctj\n",
        "mtd AND drf -> mhj\n",
        "hrn AND bfj -> wqs\n",
        "cmv XOR fwm -> z18\n",
        "qff AND dks -> ttr\n",
        "y01 XOR x01 -> kjh\n",
        "bjh XOR stv -> z37\n",
        "qwd OR swm -> qwg\n",
        "kbj OR ttr -> kbw\n",
        "y26 XOR x26 -> bmw\n",
        "x16 AND y16 -> qwd\n",
        "x42 AND y42 -> hqj\n",
        "kpd XOR snw -> z33\n",
        "knj XOR rvp -> rdg\n",
        "x24 XOR y24 -> hqn\n",
        "nhb XOR tcr -> z25\n",
        "ncw AND btr -> qnk\n",
        "tpp OR ctj -> cwd\n",
        "y39 AND x39 -> rwb\n",
        "x31 XOR y31 -> kqt\n",
        "msw AND qsg -> ntq\n",
        "frg OR rmj -> pkh\n",
        "qph XOR skf -> z05\n",
        "y09 AND x09 -> tpp\n",
        "y01 AND x01 -> npn\n",
        "x19 XOR y19 -> drf\n",
        "y36 XOR x36 -> rbm\n",
        "jpd OR gjh -> ktr\n",
        "nmr XOR kqt -> z31\n",
        "x26 AND y26 -> jpd\n",
        "jpt XOR jvk -> z02\n",
        "y43 XOR x43 -> wbk\n",
        "tjp AND rbm -> nqq\n",
        "x11 AND y11 -> gfg\n",
        "nhb AND tcr -> gdv\n",
        "y34 AND x34 -> hkn\n",
        "hvq OR vvc -> kgr\n",
        "y25 AND x25 -> mnf\n",
        "gwg AND ggg -> hgw\n",
        "pkh XOR hqn -> z24\n",
        "fnt OR gfg -> krw\n",
        "x23 XOR y23 -> pbw\n",
        "wnf AND kbw -> swm\n",
        "gmv XOR vfn -> z35\n",
        "x22 XOR y22 -> njp\n",
        "x25 XOR y25 -> nhb\n",
        "knj AND rvp -> dqs\n",
        "gjj XOR hmc -> z34\n",
        "btb OR jhw -> dqg\n",
        "x04 AND y04 -> jjg\n",
        "jkg XOR bwp -> z21'''"
      ],
      "metadata": {
        "id": "M54myFwwfHEO"
      },
      "execution_count": 2,
      "outputs": []
    },
    {
      "cell_type": "code",
      "source": [
        "blocks = process_raw(raw)"
      ],
      "metadata": {
        "colab": {
          "base_uri": "https://localhost:8080/"
        },
        "id": "bIoxV4B1-ILn",
        "outputId": "5b3bb329-c442-49af-9975-e1140d91073b"
      },
      "execution_count": 3,
      "outputs": [
        {
          "output_type": "stream",
          "name": "stdout",
          "text": [
            "Splitting into blocks...\n",
            "2 blocks found.\n",
            "The blocks have the following number of lines:\n",
            "  90\n",
            "  222\n"
          ]
        }
      ]
    },
    {
      "cell_type": "code",
      "source": [
        "vals = {}\n",
        "for line in blocks[0]:\n",
        "  vals[line[:3]] = int(line[-1])"
      ],
      "metadata": {
        "id": "AW4T8iTnCWOi"
      },
      "execution_count": 4,
      "outputs": []
    },
    {
      "cell_type": "code",
      "source": [
        "exprs = {}\n",
        "for line in blocks[1]:\n",
        "  l, r = line.split(' -> ')\n",
        "  exprs[r] = l.split()"
      ],
      "metadata": {
        "id": "3z8mZr-xCqjh"
      },
      "execution_count": 5,
      "outputs": []
    },
    {
      "cell_type": "code",
      "source": [
        "def set_val(var):\n",
        "  if var in vals:\n",
        "    return\n",
        "  expr = exprs[var]\n",
        "  set_val(expr[0])\n",
        "  set_val(expr[2])\n",
        "  if expr[1] == 'AND':\n",
        "    vals[var] = vals[expr[0]] & vals[expr[2]]\n",
        "  elif expr[1] == 'OR':\n",
        "    vals[var] = vals[expr[0]] | vals[expr[2]]\n",
        "  elif expr[1] == 'XOR':\n",
        "    vals[var] = vals[expr[0]] ^ vals[expr[2]]"
      ],
      "metadata": {
        "id": "plTdjAYyDABJ"
      },
      "execution_count": 6,
      "outputs": []
    },
    {
      "cell_type": "code",
      "source": [
        "for var in exprs:\n",
        "  set_val(var)\n",
        "b = ''.join(str(vals[x]) for x in sorted(x for x in vals if x.startswith('z')))\n",
        "int(b[::-1], 2)"
      ],
      "metadata": {
        "colab": {
          "base_uri": "https://localhost:8080/"
        },
        "id": "-bJQroSNDAVj",
        "outputId": "4389f489-d3f0-4d7f-f75b-e87f267b63fc"
      },
      "execution_count": 7,
      "outputs": [
        {
          "output_type": "execute_result",
          "data": {
            "text/plain": [
              "55920211035878"
            ]
          },
          "metadata": {},
          "execution_count": 7
        }
      ]
    },
    {
      "cell_type": "code",
      "source": [
        "swap = [('cmv', 'z17'), ('rmj', 'z23'), ('rdg', 'z30'), ('btb', 'mwp')]\n",
        "swap_dict = dict(swap)\n",
        "swap_dict.update(dict((y, x) for x, y in swap))\n",
        "\n",
        "solved = {}\n",
        "i = 0\n",
        "while i < 45:\n",
        "  found = False\n",
        "  for x, e in exprs.items():\n",
        "    if x in swap_dict:\n",
        "      x = swap_dict[x]\n",
        "    if e[0] in solved and e[2] in solved:\n",
        "      if x in solved:\n",
        "        continue\n",
        "      if e[1] == 'AND' and 'x' in ''.join(e) and 'y' in ''.join(e):\n",
        "        alias = 'c1_'\n",
        "      elif e[1] == 'XOR' and 'x' in ''.join(e) and 'y' in ''.join(e):\n",
        "        alias = 's1_'\n",
        "      elif e[1] == 'AND' and (solved[e[0]][1].startswith('s1_') or solved[e[2]][1].startswith('s1_')):\n",
        "        alias = 'c2_'\n",
        "      elif e[1] == 'XOR' and (solved[e[0]][1].startswith('s1_') or solved[e[2]][1].startswith('s1_')):\n",
        "        alias = 's_'\n",
        "      elif e[1] == 'OR' and (solved[e[0]][1].startswith('c1_') or solved[e[2]][1].startswith('c1_')):\n",
        "        alias = 'c_'\n",
        "      else:\n",
        "        alias = 'BROKEN_'\n",
        "      solved[x] = (e, alias + si)\n",
        "      found = True\n",
        "  if not found:\n",
        "    si = str(i)\n",
        "    if len(si) == 1:\n",
        "      si = '0' + si\n",
        "    solved['x' + si] = None, 'x' + si\n",
        "    solved['y' + si] = None, 'y' + si\n",
        "    i += 1"
      ],
      "metadata": {
        "id": "9xRYuZHoRksc"
      },
      "execution_count": 8,
      "outputs": []
    },
    {
      "cell_type": "code",
      "source": [
        "for x, (e, alias) in solved.items():\n",
        "  if alias.startswith('s_') and not x.startswith('z'):\n",
        "    print(x, alias)"
      ],
      "metadata": {
        "id": "DPK2vsDfXDED"
      },
      "execution_count": 9,
      "outputs": []
    },
    {
      "cell_type": "code",
      "source": [
        "','.join(sorted([x for p in swap for x in p]))"
      ],
      "metadata": {
        "colab": {
          "base_uri": "https://localhost:8080/",
          "height": 35
        },
        "id": "YSU-tNrpUgfD",
        "outputId": "3072165e-5b07-46a7-fd23-641b8c98512a"
      },
      "execution_count": 10,
      "outputs": [
        {
          "output_type": "execute_result",
          "data": {
            "text/plain": [
              "'btb,cmv,mwp,rdg,rmj,z17,z23,z30'"
            ],
            "application/vnd.google.colaboratory.intrinsic+json": {
              "type": "string"
            }
          },
          "metadata": {},
          "execution_count": 10
        }
      ]
    }
  ],
  "metadata": {
    "colab": {
      "provenance": [],
      "include_colab_link": true
    },
    "kernelspec": {
      "display_name": "Python 3",
      "name": "python3"
    },
    "language_info": {
      "name": "python"
    }
  },
  "nbformat": 4,
  "nbformat_minor": 0
}