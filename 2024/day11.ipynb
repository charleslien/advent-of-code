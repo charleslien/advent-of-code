{
  "cells": [
    {
      "cell_type": "markdown",
      "metadata": {
        "id": "view-in-github",
        "colab_type": "text"
      },
      "source": [
        "<a href=\"https://colab.research.google.com/github/charleslien/advent-of-code/blob/main/2024/day11.ipynb\" target=\"_parent\"><img src=\"https://colab.research.google.com/assets/colab-badge.svg\" alt=\"Open In Colab\"/></a>"
      ]
    },
    {
      "cell_type": "code",
      "source": [
        "!git clone https://github.com/charleslien/advent-of-code aoc\n",
        "from aoc.lib import *"
      ],
      "metadata": {
        "id": "Sx5R3ybxCdii",
        "colab": {
          "base_uri": "https://localhost:8080/"
        },
        "outputId": "e2f2ffcc-2f68-46db-ee3f-17d7bc399661"
      },
      "execution_count": 1,
      "outputs": [
        {
          "output_type": "stream",
          "name": "stdout",
          "text": [
            "Cloning into 'aoc'...\n",
            "remote: Enumerating objects: 416, done.\u001b[K\n",
            "remote: Counting objects: 100% (220/220), done.\u001b[K\n",
            "remote: Compressing objects: 100% (121/121), done.\u001b[K\n",
            "remote: Total 416 (delta 113), reused 187 (delta 97), pack-reused 196 (from 1)\u001b[K\n",
            "Receiving objects: 100% (416/416), 525.33 KiB | 4.41 MiB/s, done.\n",
            "Resolving deltas: 100% (158/158), done.\n"
          ]
        }
      ]
    },
    {
      "cell_type": "code",
      "source": [
        "raw = '''9694820 93 54276 1304 314 664481 0 4'''"
      ],
      "metadata": {
        "id": "M54myFwwfHEO"
      },
      "execution_count": 2,
      "outputs": []
    },
    {
      "cell_type": "code",
      "source": [
        "@cache\n",
        "def process_num(num):\n",
        "  if num == 0:\n",
        "    return [1]\n",
        "  s = str(num)\n",
        "  if len(s) % 2 == 0:\n",
        "    hl = len(s) // 2\n",
        "    return [int(s[:hl]), int(s[hl:])]\n",
        "  return [num * 2024]\n",
        "nums = [int(x) for x in raw.split()]\n",
        "for _ in range(25):\n",
        "  nnums = []\n",
        "  for num in nums:\n",
        "    nnums.extend(process_num(num))\n",
        "  nums = nnums\n",
        "len(nums)"
      ],
      "metadata": {
        "colab": {
          "base_uri": "https://localhost:8080/"
        },
        "id": "oB-3qmckFrCo",
        "outputId": "459743cf-b6c3-4d20-c57b-f50b62e172a5"
      },
      "execution_count": 3,
      "outputs": [
        {
          "output_type": "execute_result",
          "data": {
            "text/plain": [
              "185894"
            ]
          },
          "metadata": {},
          "execution_count": 3
        }
      ]
    },
    {
      "cell_type": "code",
      "source": [
        "@cache\n",
        "def process_num_times(num, times):\n",
        "  if times == 0:\n",
        "    return 1\n",
        "  if num == 0:\n",
        "    return process_num_times(1, times-1)\n",
        "  s = str(num)\n",
        "  if len(s) % 2 == 0:\n",
        "    hl = len(s) // 2\n",
        "    return process_num_times(int(s[:hl]), times-1) + process_num_times(int(s[hl:]), times-1)\n",
        "  return process_num_times(num * 2024, times-1)\n",
        "nums = [int(x) for x in raw.split()]\n",
        "sum(process_num_times(num, 75) for num in nums)"
      ],
      "metadata": {
        "colab": {
          "base_uri": "https://localhost:8080/"
        },
        "id": "bTl6BifXGvE1",
        "outputId": "637f6f50-9eb6-452d-f6d9-d304e6028fc6"
      },
      "execution_count": 4,
      "outputs": [
        {
          "output_type": "execute_result",
          "data": {
            "text/plain": [
              "221632504974231"
            ]
          },
          "metadata": {},
          "execution_count": 4
        }
      ]
    }
  ],
  "metadata": {
    "colab": {
      "provenance": [],
      "include_colab_link": true
    },
    "kernelspec": {
      "display_name": "Python 3",
      "name": "python3"
    },
    "language_info": {
      "name": "python"
    }
  },
  "nbformat": 4,
  "nbformat_minor": 0
}