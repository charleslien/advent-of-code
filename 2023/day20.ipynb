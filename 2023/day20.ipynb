{
  "cells": [
    {
      "cell_type": "code",
      "execution_count": 1,
      "metadata": {
        "id": "s2Q8lcDqZGHh"
      },
      "outputs": [],
      "source": [
        "raw = '''%nr -> hq\n",
        "%xk -> sn\n",
        "%cl -> xk\n",
        "%mj -> dq, qr\n",
        "%gm -> lk, cl\n",
        "%mv -> lz, rr\n",
        "&qr -> cz, sp, lb, xt, fx\n",
        "%xt -> vl\n",
        "&dd -> rx\n",
        "%rv -> qr\n",
        "%ts -> lz, nk\n",
        "%vl -> zj, qr\n",
        "%qm -> db, lk\n",
        "%sn -> lp\n",
        "%xc -> lz\n",
        "%jn -> sz, ft\n",
        "%vg -> lk, ks\n",
        "%hq -> ft, lh\n",
        "&lz -> gx, xn, jq, fb, ts, rr\n",
        "%nk -> mv, lz\n",
        "&nx -> dd\n",
        "&sp -> dd\n",
        "%jj -> qr, mj\n",
        "%sz -> nr, ft\n",
        "%rn -> qm\n",
        "%cz -> xt, qr\n",
        "%fr -> ft\n",
        "%vb -> lz, xn\n",
        "broadcaster -> cz, gm, jn, ts\n",
        "%fb -> vb\n",
        "%hd -> lz, xc\n",
        "%gx -> fb\n",
        "%db -> mh, lk\n",
        "&ft -> jx, nx, lh, pc, nr, jn, kr\n",
        "%qc -> pl, ft\n",
        "%fx -> bz\n",
        "%jx -> kr\n",
        "%pl -> ft, fr\n",
        "%lh -> jx\n",
        "%rr -> gx\n",
        "&cc -> dd\n",
        "%xn -> xl\n",
        "%kr -> pc\n",
        "%xl -> dv, lz\n",
        "%dq -> qr, rv\n",
        "%mh -> lk, vg\n",
        "%sb -> lk, rn\n",
        "%bz -> lb, qr\n",
        "%ks -> lk\n",
        "%qh -> ft, qc\n",
        "%pc -> qh\n",
        "%lb -> mb\n",
        "%dv -> lz, hd\n",
        "%mb -> qr, jj\n",
        "%zj -> fx, qr\n",
        "%lp -> sb\n",
        "&jq -> dd\n",
        "&lk -> sn, cc, xk, rn, gm, cl, lp'''"
      ]
    },
    {
      "cell_type": "code",
      "source": [
        "lines = raw.splitlines()"
      ],
      "metadata": {
        "id": "--Tz8yks_5wy"
      },
      "execution_count": 2,
      "outputs": []
    },
    {
      "cell_type": "code",
      "source": [
        "sigs = {}\n",
        "ffs = {}\n",
        "cjs = {}\n",
        "for line in lines:\n",
        "  a, b = line.split(' -> ')\n",
        "  if a == 'broadcaster':\n",
        "    sigs[a] = '', b.split(', ')\n",
        "    continue\n",
        "  if a[0] == '%':\n",
        "    ffs[a[1:]] = -1\n",
        "  else:\n",
        "    cjs[a[1:]] = {}\n",
        "  sigs[a[1:]] = a[0], b.split(', ')"
      ],
      "metadata": {
        "id": "U8b8YTERnGyv"
      },
      "execution_count": 3,
      "outputs": []
    },
    {
      "cell_type": "code",
      "source": [
        "for ink, (_, inv) in sigs.items():\n",
        "  for invn in inv:\n",
        "    if invn in cjs:\n",
        "      cjs[invn][ink] = -1"
      ],
      "metadata": {
        "id": "kpup4WrIpcB3"
      },
      "execution_count": 4,
      "outputs": []
    },
    {
      "cell_type": "code",
      "source": [
        "from collections import deque\n",
        "\n",
        "counts = {-1: 0, 1: 0}\n",
        "\n",
        "for _ in range(1000):\n",
        "  q = deque([(-1, 'broadcaster', None)])\n",
        "  while q:\n",
        "    t, s, source = q.popleft()\n",
        "    counts[t] += 1\n",
        "    if s not in sigs:\n",
        "      continue\n",
        "    inv, ns = sigs[s]\n",
        "    if inv == '':\n",
        "      for n in ns:\n",
        "        q.append((t, n, s))\n",
        "    if inv == '%':\n",
        "      if t == 1:\n",
        "        continue\n",
        "      ffs[s] = -ffs[s]\n",
        "      for n in ns:\n",
        "        q.append((ffs[s], n, s))\n",
        "    if inv == '&':\n",
        "      cjs[s][source] = t\n",
        "      send = -1 if all(x == 1 for x in cjs[s].values()) else 1\n",
        "      for n in ns:\n",
        "        q.append((send, n, s))\n",
        "counts[-1] * counts[1]"
      ],
      "metadata": {
        "colab": {
          "base_uri": "https://localhost:8080/"
        },
        "id": "RgOwEXe8mJim",
        "outputId": "a6a57625-571f-4f44-89fc-7c2446505135"
      },
      "execution_count": 5,
      "outputs": [
        {
          "output_type": "execute_result",
          "data": {
            "text/plain": [
              "873301506"
            ]
          },
          "metadata": {},
          "execution_count": 5
        }
      ]
    },
    {
      "cell_type": "code",
      "source": [
        "sigs = {}\n",
        "ffs = {}\n",
        "cjs = {}\n",
        "for line in lines:\n",
        "  a, b = line.split(' -> ')\n",
        "  if a == 'broadcaster':\n",
        "    sigs[a] = '', b.split(', ')\n",
        "    continue\n",
        "  if a[0] == '%':\n",
        "    ffs[a[1:]] = -1\n",
        "  else:\n",
        "    cjs[a[1:]] = {}\n",
        "  sigs[a[1:]] = a[0], b.split(', ')\n",
        "for ink, (_, inv) in sigs.items():\n",
        "  for invn in inv:\n",
        "    if invn in cjs:\n",
        "      cjs[invn][ink] = -1"
      ],
      "metadata": {
        "id": "vmmhy7nflsjl"
      },
      "execution_count": 6,
      "outputs": []
    },
    {
      "cell_type": "code",
      "source": [
        "# Assumptions:\n",
        "# - dd needs to have all inputs of 1 within a single press\n",
        "# - all of the inputs to dd are periodic with phase 0\n",
        "highs = {k: [] for k in ('nx', 'sp', 'cc', 'jq')}\n",
        "presses = 0\n",
        "\n",
        "while any(len(v) < 1 for v in highs.values()):\n",
        "  presses += 1\n",
        "  q = deque([(-1, 'broadcaster', None)])\n",
        "  while q:\n",
        "    t, s, source = q.popleft()\n",
        "    if (source in highs) and (t == 1): #nx, sp, cc, jq\n",
        "      highs[source].append(presses)\n",
        "    if s == 'rx':\n",
        "      if t == 1:\n",
        "        continue\n",
        "      print(presses)\n",
        "    inv, ns = sigs[s]\n",
        "    if inv == '':\n",
        "      for n in ns:\n",
        "        q.append((t, n, s))\n",
        "    if inv == '%':\n",
        "      if t == 1:\n",
        "        continue\n",
        "      ffs[s] = -ffs[s]\n",
        "      for n in ns:\n",
        "        q.append((ffs[s], n, s))\n",
        "    if inv == '&':\n",
        "      cjs[s][source] = t\n",
        "      send = -1 if all(x == 1 for x in cjs[s].values()) else 1\n",
        "      for n in ns:\n",
        "        q.append((send, n, s))"
      ],
      "metadata": {
        "id": "Roii0a4BmJL4"
      },
      "execution_count": 7,
      "outputs": []
    },
    {
      "cell_type": "code",
      "source": [
        "import math\n",
        "total = 1\n",
        "for v in highs.values():\n",
        "  total = total * v[0] // math.gcd(total, v[0])\n",
        "total"
      ],
      "metadata": {
        "colab": {
          "base_uri": "https://localhost:8080/"
        },
        "id": "gHtSm2TCrgzp",
        "outputId": "b0cb0b61-047c-4675-8f29-973d318f86f1"
      },
      "execution_count": 8,
      "outputs": [
        {
          "output_type": "execute_result",
          "data": {
            "text/plain": [
              "241823802412393"
            ]
          },
          "metadata": {},
          "execution_count": 8
        }
      ]
    }
  ],
  "metadata": {
    "colab": {
      "provenance": []
    },
    "kernelspec": {
      "display_name": "Python 3",
      "name": "python3"
    },
    "language_info": {
      "name": "python"
    }
  },
  "nbformat": 4,
  "nbformat_minor": 0
}