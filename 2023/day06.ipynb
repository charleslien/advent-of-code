{
  "nbformat": 4,
  "nbformat_minor": 0,
  "metadata": {
    "colab": {
      "provenance": []
    },
    "kernelspec": {
      "name": "python3",
      "display_name": "Python 3"
    },
    "language_info": {
      "name": "python"
    }
  },
  "cells": [
    {
      "cell_type": "code",
      "source": [
        "raw = '''Time:        49     87     78     95\n",
        "Distance:   356   1378   1502   1882'''"
      ],
      "metadata": {
        "id": "mkV9tfzJUQL5"
      },
      "execution_count": 1,
      "outputs": []
    },
    {
      "cell_type": "code",
      "source": [
        "lines = raw.splitlines()"
      ],
      "metadata": {
        "id": "y25ywDeKfrYB"
      },
      "execution_count": 2,
      "outputs": []
    },
    {
      "cell_type": "code",
      "source": [
        "times = [int(x) for x in lines[0].split()[1:] if x]\n",
        "dists = [int(x) for x in lines[1].split()[1:] if x]"
      ],
      "metadata": {
        "id": "luCzFZpMgUdz"
      },
      "execution_count": 3,
      "outputs": []
    },
    {
      "cell_type": "code",
      "source": [
        "total = 1\n",
        "for t, d in zip(times, dists):\n",
        "\n",
        "  c = 0\n",
        "  for x in range(t):\n",
        "    tr = (t-x) * x\n",
        "    if tr > d:\n",
        "      c += 1\n",
        "\n",
        "  total *= c\n",
        "total"
      ],
      "metadata": {
        "colab": {
          "base_uri": "https://localhost:8080/"
        },
        "id": "rY8Q_1D2gfBm",
        "outputId": "b5965474-5c76-42c1-a499-29be4499f383"
      },
      "execution_count": 4,
      "outputs": [
        {
          "output_type": "execute_result",
          "data": {
            "text/plain": [
              "503424"
            ]
          },
          "metadata": {},
          "execution_count": 4
        }
      ]
    },
    {
      "cell_type": "code",
      "source": [
        "time = int(''.join(str(t) for t in times))\n",
        "dist = int(''.join(str(d) for d in dists))"
      ],
      "metadata": {
        "id": "4rhKu6olg7Fz"
      },
      "execution_count": 5,
      "outputs": []
    },
    {
      "cell_type": "code",
      "source": [
        "for x in range(time):\n",
        "  if (time-x) * x > dist:\n",
        "    lo = x\n",
        "    break\n",
        "\n",
        "hi = time - lo\n",
        "hi - lo + 1"
      ],
      "metadata": {
        "colab": {
          "base_uri": "https://localhost:8080/"
        },
        "id": "sVuSJ186hJ7M",
        "outputId": "9045073d-baee-45b6-d412-e122f51050f7"
      },
      "execution_count": 6,
      "outputs": [
        {
          "output_type": "execute_result",
          "data": {
            "text/plain": [
              "32607562"
            ]
          },
          "metadata": {},
          "execution_count": 6
        }
      ]
    }
  ]
}