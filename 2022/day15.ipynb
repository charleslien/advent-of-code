{
  "nbformat": 4,
  "nbformat_minor": 0,
  "metadata": {
    "colab": {
      "provenance": []
    },
    "kernelspec": {
      "name": "python3",
      "display_name": "Python 3"
    },
    "language_info": {
      "name": "python"
    }
  },
  "cells": [
    {
      "cell_type": "code",
      "source": [
        "raw = '''Sensor at x=3556832, y=3209801: closest beacon is at x=3520475, y=3164417\n",
        "Sensor at x=3068970, y=3071952: closest beacon is at x=3520475, y=3164417\n",
        "Sensor at x=636397, y=1899889: closest beacon is at x=338784, y=1935796\n",
        "Sensor at x=3856769, y=3377079: closest beacon is at x=3520475, y=3164417\n",
        "Sensor at x=2876227, y=2633203: closest beacon is at x=2595700, y=2684432\n",
        "Sensor at x=1435445, y=1194830: closest beacon is at x=925348, y=2000000\n",
        "Sensor at x=3764673, y=3881970: closest beacon is at x=3520475, y=3164417\n",
        "Sensor at x=3171272, y=1098717: closest beacon is at x=3778277, y=740547\n",
        "Sensor at x=3646837, y=966534: closest beacon is at x=3778277, y=740547\n",
        "Sensor at x=1736390, y=3309102: closest beacon is at x=1623417, y=4114070\n",
        "Sensor at x=1086601, y=2272573: closest beacon is at x=925348, y=2000000\n",
        "Sensor at x=3793954, y=2346914: closest beacon is at x=3520475, y=3164417\n",
        "Sensor at x=1896054, y=2706210: closest beacon is at x=2595700, y=2684432\n",
        "Sensor at x=2298950, y=3449308: closest beacon is at x=2205069, y=3958831\n",
        "Sensor at x=1911518, y=3848874: closest beacon is at x=2205069, y=3958831\n",
        "Sensor at x=2566355, y=1516144: closest beacon is at x=2595700, y=2684432\n",
        "Sensor at x=246553, y=343125: closest beacon is at x=338784, y=1935796\n",
        "Sensor at x=2197183, y=3975039: closest beacon is at x=2205069, y=3958831\n",
        "Sensor at x=552775, y=3494740: closest beacon is at x=-138318, y=2857049\n",
        "Sensor at x=128870, y=1935711: closest beacon is at x=338784, y=1935796\n",
        "Sensor at x=2197078, y=3999879: closest beacon is at x=2205069, y=3958831\n",
        "Sensor at x=2502533, y=3911039: closest beacon is at x=2205069, y=3958831\n",
        "Sensor at x=2289309, y=3024440: closest beacon is at x=2595700, y=2684432\n",
        "Sensor at x=3999523, y=551710: closest beacon is at x=3778277, y=740547\n",
        "Sensor at x=2246061, y=3999936: closest beacon is at x=2205069, y=3958831\n",
        "Sensor at x=3982782, y=1306639: closest beacon is at x=3778277, y=740547\n",
        "Sensor at x=1166660, y=2766482: closest beacon is at x=925348, y=2000000\n",
        "Sensor at x=3744391, y=440575: closest beacon is at x=3778277, y=740547\n",
        "Sensor at x=1480453, y=3997346: closest beacon is at x=1623417, y=4114070\n",
        "Sensor at x=9770, y=1844797: closest beacon is at x=338784, y=1935796\n",
        "Sensor at x=202829, y=2427690: closest beacon is at x=338784, y=1935796\n",
        "Sensor at x=3051096, y=3631595: closest beacon is at x=3147080, y=4258152\n",
        "Sensor at x=2111052, y=297293: closest beacon is at x=1552534, y=-431081\n",
        "Sensor at x=864326, y=2053355: closest beacon is at x=925348, y=2000000\n",
        "Sensor at x=2422495, y=2130146: closest beacon is at x=2595700, y=2684432\n",
        "Sensor at x=3655670, y=100751: closest beacon is at x=3778277, y=740547\n",
        "Sensor at x=535656, y=2133259: closest beacon is at x=338784, y=1935796\n",
        "Sensor at x=263229, y=2101270: closest beacon is at x=338784, y=1935796'''"
      ],
      "metadata": {
        "id": "ajtALmaWbYPu"
      },
      "execution_count": 1,
      "outputs": []
    },
    {
      "cell_type": "code",
      "source": [
        "lines = raw.splitlines()"
      ],
      "metadata": {
        "id": "PHXUTyIdvME7"
      },
      "execution_count": 2,
      "outputs": []
    },
    {
      "cell_type": "code",
      "source": [
        "import re\n",
        "p = re.compile(r'Sensor at x=(.*), y=(.*): closest beacon is at x=(.*), y=(.*)')"
      ],
      "metadata": {
        "id": "1Hgg4NV-vOQN"
      },
      "execution_count": 3,
      "outputs": []
    },
    {
      "cell_type": "code",
      "source": [
        "nb_pos = set()\n",
        "row = 2000000\n",
        "for line in lines:\n",
        "  sx, sy, bx, by = (int(x) for x in p.fullmatch(line).groups())\n",
        "  d = abs(sx - bx) + abs(sy - by)\n",
        "  dx = d - abs(sy - row)\n",
        "  if dx >= 0:\n",
        "    for x in range(sx - dx, sx + dx + 1):\n",
        "      nb_pos.add(x)"
      ],
      "metadata": {
        "id": "UIJvldQlt5lg"
      },
      "execution_count": 4,
      "outputs": []
    },
    {
      "cell_type": "code",
      "source": [
        "for line in lines:\n",
        "  sx, sy, bx, by = (int(x) for x in p.fullmatch(line).groups())\n",
        "  if by == row and bx in nb_pos:\n",
        "    nb_pos.remove(bx)\n",
        "len(nb_pos)"
      ],
      "metadata": {
        "colab": {
          "base_uri": "https://localhost:8080/"
        },
        "id": "uB8ZVXA3wzD9",
        "outputId": "0ff20926-f22c-4cb1-ed96-c57fe923eae5"
      },
      "execution_count": 5,
      "outputs": [
        {
          "output_type": "execute_result",
          "data": {
            "text/plain": [
              "4793062"
            ]
          },
          "metadata": {},
          "execution_count": 5
        }
      ]
    },
    {
      "cell_type": "code",
      "source": [
        "coords = [[int(x) for x in p.fullmatch(line).groups()] for line in lines]\n",
        "for row in range(4000001):\n",
        "  intervals = []\n",
        "  for sx, sy, bx, by in coords:\n",
        "    d = abs(sx - bx) + abs(sy - by)\n",
        "    dx = d - abs(sy - row)\n",
        "    if dx >= 0:\n",
        "      intervals.append((sx - dx, sx + dx))\n",
        "  intervals.sort(key=lambda i: i[0])\n",
        "  m = -1\n",
        "  for i in intervals:\n",
        "    if i[0] > m + 1:\n",
        "      print(row + (m + 1) * 4000000)\n",
        "      break\n",
        "    m = max(i[1], m)\n",
        "  if m < 4000000:\n",
        "    break"
      ],
      "metadata": {
        "colab": {
          "base_uri": "https://localhost:8080/"
        },
        "id": "ASTB3fsMw0bV",
        "outputId": "da05fe75-b60f-4c61-fea6-56621698d720"
      },
      "execution_count": 6,
      "outputs": [
        {
          "output_type": "stream",
          "name": "stdout",
          "text": [
            "10826395253551\n"
          ]
        }
      ]
    }
  ]
}