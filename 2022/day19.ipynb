{
  "nbformat": 4,
  "nbformat_minor": 0,
  "metadata": {
    "colab": {
      "provenance": [],
      "authorship_tag": "ABX9TyPlq1dx3y9qXR89TEOagDZP"
    },
    "kernelspec": {
      "name": "python3",
      "display_name": "Python 3"
    },
    "language_info": {
      "name": "python"
    }
  },
  "cells": [
    {
      "cell_type": "code",
      "source": [
        "raw = '''Blueprint 1: Each ore robot costs 3 ore. Each clay robot costs 3 ore. Each obsidian robot costs 2 ore and 15 clay. Each geode robot costs 3 ore and 9 obsidian.\n",
        "Blueprint 2: Each ore robot costs 4 ore. Each clay robot costs 4 ore. Each obsidian robot costs 4 ore and 12 clay. Each geode robot costs 4 ore and 19 obsidian.\n",
        "Blueprint 3: Each ore robot costs 4 ore. Each clay robot costs 4 ore. Each obsidian robot costs 4 ore and 14 clay. Each geode robot costs 3 ore and 16 obsidian.\n",
        "Blueprint 4: Each ore robot costs 2 ore. Each clay robot costs 3 ore. Each obsidian robot costs 2 ore and 17 clay. Each geode robot costs 3 ore and 19 obsidian.\n",
        "Blueprint 5: Each ore robot costs 4 ore. Each clay robot costs 3 ore. Each obsidian robot costs 3 ore and 10 clay. Each geode robot costs 2 ore and 10 obsidian.\n",
        "Blueprint 6: Each ore robot costs 3 ore. Each clay robot costs 3 ore. Each obsidian robot costs 3 ore and 16 clay. Each geode robot costs 3 ore and 9 obsidian.\n",
        "Blueprint 7: Each ore robot costs 4 ore. Each clay robot costs 3 ore. Each obsidian robot costs 3 ore and 7 clay. Each geode robot costs 3 ore and 9 obsidian.\n",
        "Blueprint 8: Each ore robot costs 3 ore. Each clay robot costs 3 ore. Each obsidian robot costs 2 ore and 19 clay. Each geode robot costs 2 ore and 12 obsidian.\n",
        "Blueprint 9: Each ore robot costs 3 ore. Each clay robot costs 3 ore. Each obsidian robot costs 3 ore and 16 clay. Each geode robot costs 3 ore and 20 obsidian.\n",
        "Blueprint 10: Each ore robot costs 2 ore. Each clay robot costs 2 ore. Each obsidian robot costs 2 ore and 7 clay. Each geode robot costs 2 ore and 14 obsidian.\n",
        "Blueprint 11: Each ore robot costs 2 ore. Each clay robot costs 4 ore. Each obsidian robot costs 2 ore and 16 clay. Each geode robot costs 4 ore and 12 obsidian.\n",
        "Blueprint 12: Each ore robot costs 2 ore. Each clay robot costs 4 ore. Each obsidian robot costs 4 ore and 15 clay. Each geode robot costs 2 ore and 15 obsidian.\n",
        "Blueprint 13: Each ore robot costs 4 ore. Each clay robot costs 4 ore. Each obsidian robot costs 4 ore and 5 clay. Each geode robot costs 2 ore and 10 obsidian.\n",
        "Blueprint 14: Each ore robot costs 4 ore. Each clay robot costs 4 ore. Each obsidian robot costs 2 ore and 15 clay. Each geode robot costs 3 ore and 16 obsidian.\n",
        "Blueprint 15: Each ore robot costs 3 ore. Each clay robot costs 3 ore. Each obsidian robot costs 3 ore and 19 clay. Each geode robot costs 2 ore and 9 obsidian.\n",
        "Blueprint 16: Each ore robot costs 4 ore. Each clay robot costs 3 ore. Each obsidian robot costs 4 ore and 15 clay. Each geode robot costs 4 ore and 9 obsidian.\n",
        "Blueprint 17: Each ore robot costs 4 ore. Each clay robot costs 3 ore. Each obsidian robot costs 2 ore and 17 clay. Each geode robot costs 3 ore and 16 obsidian.\n",
        "Blueprint 18: Each ore robot costs 3 ore. Each clay robot costs 3 ore. Each obsidian robot costs 2 ore and 13 clay. Each geode robot costs 3 ore and 12 obsidian.\n",
        "Blueprint 19: Each ore robot costs 4 ore. Each clay robot costs 3 ore. Each obsidian robot costs 2 ore and 10 clay. Each geode robot costs 4 ore and 10 obsidian.\n",
        "Blueprint 20: Each ore robot costs 2 ore. Each clay robot costs 3 ore. Each obsidian robot costs 3 ore and 17 clay. Each geode robot costs 3 ore and 10 obsidian.\n",
        "Blueprint 21: Each ore robot costs 4 ore. Each clay robot costs 3 ore. Each obsidian robot costs 2 ore and 14 clay. Each geode robot costs 2 ore and 7 obsidian.\n",
        "Blueprint 22: Each ore robot costs 3 ore. Each clay robot costs 4 ore. Each obsidian robot costs 3 ore and 20 clay. Each geode robot costs 3 ore and 14 obsidian.\n",
        "Blueprint 23: Each ore robot costs 2 ore. Each clay robot costs 2 ore. Each obsidian robot costs 2 ore and 17 clay. Each geode robot costs 2 ore and 10 obsidian.\n",
        "Blueprint 24: Each ore robot costs 3 ore. Each clay robot costs 3 ore. Each obsidian robot costs 3 ore and 19 clay. Each geode robot costs 3 ore and 19 obsidian.\n",
        "Blueprint 25: Each ore robot costs 3 ore. Each clay robot costs 4 ore. Each obsidian robot costs 2 ore and 14 clay. Each geode robot costs 3 ore and 14 obsidian.\n",
        "Blueprint 26: Each ore robot costs 3 ore. Each clay robot costs 4 ore. Each obsidian robot costs 3 ore and 13 clay. Each geode robot costs 3 ore and 19 obsidian.\n",
        "Blueprint 27: Each ore robot costs 4 ore. Each clay robot costs 3 ore. Each obsidian robot costs 3 ore and 7 clay. Each geode robot costs 2 ore and 7 obsidian.\n",
        "Blueprint 28: Each ore robot costs 4 ore. Each clay robot costs 3 ore. Each obsidian robot costs 3 ore and 20 clay. Each geode robot costs 2 ore and 19 obsidian.\n",
        "Blueprint 29: Each ore robot costs 4 ore. Each clay robot costs 4 ore. Each obsidian robot costs 4 ore and 16 clay. Each geode robot costs 2 ore and 15 obsidian.\n",
        "Blueprint 30: Each ore robot costs 2 ore. Each clay robot costs 4 ore. Each obsidian robot costs 4 ore and 19 clay. Each geode robot costs 2 ore and 18 obsidian.'''"
      ],
      "metadata": {
        "id": "8inG3rmmEFBx"
      },
      "execution_count": 1,
      "outputs": []
    },
    {
      "cell_type": "code",
      "source": [
        "blocks = raw.splitlines()"
      ],
      "metadata": {
        "id": "JLhz1brHLp2s"
      },
      "execution_count": 2,
      "outputs": []
    },
    {
      "cell_type": "code",
      "source": [
        "import re\n",
        "p = re.compile(r'Blueprint (\\d+): Each ore robot costs (\\d+) ore. Each clay robot costs (\\d+) ore. Each obsidian robot costs (\\d+) ore and (\\d+) clay. Each geode robot costs (\\d+) ore and (\\d+) obsidian.')"
      ],
      "metadata": {
        "id": "3sQqFFRmIpei"
      },
      "execution_count": 3,
      "outputs": []
    },
    {
      "cell_type": "code",
      "source": [
        "bs = [[int(x) for x in p.match(b).groups()] for b in blocks]"
      ],
      "metadata": {
        "id": "fAyNuOl4IkrX"
      },
      "execution_count": 4,
      "outputs": []
    },
    {
      "cell_type": "code",
      "source": [
        "import math\n",
        "def calculate_time(amounts, robots, recipe):\n",
        "  max_time = 0\n",
        "  for i, (a, rate, r) in enumerate(zip(amounts, robots, recipe)):\n",
        "    if rate == 0:\n",
        "      if a < r:\n",
        "        return float('inf')\n",
        "      continue\n",
        "    max_time = max(max_time, math.ceil((r - a) / rate))\n",
        "  return max_time"
      ],
      "metadata": {
        "id": "sq1fNLDASbPm"
      },
      "execution_count": 5,
      "outputs": []
    },
    {
      "cell_type": "code",
      "source": [
        "def upper_bound_1(time_remaining, recipes, amounts, robots):\n",
        "  return amounts[-1] + time_remaining * robots[-1] + time_remaining * (time_remaining - 1) / 2"
      ],
      "metadata": {
        "id": "Sr-nIwWvqLgn"
      },
      "execution_count": 6,
      "outputs": []
    },
    {
      "cell_type": "code",
      "source": [
        "def upper_bound_2(time_remaining, recipes, amounts, robots):\n",
        "  r1 = robots[-1]\n",
        "  r2 = robots[-2]\n",
        "  r3 = robots[-3]\n",
        "  a1 = amounts[-1]\n",
        "  a2 = amounts[-2]\n",
        "  a3 = amounts[-3]\n",
        "  for _ in range(time_remaining):\n",
        "    a1 += r1\n",
        "    a2 += r2\n",
        "    a3 += r3\n",
        "    r3 += 1\n",
        "    if a3 >= recipes[2][1]:\n",
        "      r2 += 1\n",
        "      a3 -= recipes[2][1]\n",
        "    if a2 >= recipes[3][2]:\n",
        "      r1 += 1\n",
        "      a2 -= recipes[3][2]\n",
        "  return a1"
      ],
      "metadata": {
        "id": "EUkijIBcrZWw"
      },
      "execution_count": 7,
      "outputs": []
    },
    {
      "cell_type": "code",
      "source": [
        "def geodes(b):\n",
        "  recipes = [\n",
        "      (b[1], 0, 0, 0),\n",
        "      (b[2], 0, 0, 0),\n",
        "      (b[3], b[4], 0, 0),\n",
        "      (b[5], 0, b[6], 0)]\n",
        "  rev_recipes = list(reversed(list(enumerate(recipes))))\n",
        "  max_score = 0\n",
        "  stack = [((0, 0, 0, 0), (1, 0, 0, 0), 0)]\n",
        "  while stack:\n",
        "    base_amounts, robots, base_time = stack.pop()\n",
        "    for n, recipe in rev_recipes:\n",
        "      dt = calculate_time(base_amounts, robots, recipe)\n",
        "      time = base_time + dt + 1\n",
        "      if time > 24:\n",
        "        max_score = max(max_score, base_amounts[-1] + robots[-1] * (24 - base_time))\n",
        "        continue\n",
        "      amounts = tuple(a + r * (dt + 1) - rec for i, (a, r, rec) in enumerate(zip(base_amounts, robots, recipe)))\n",
        "      new_robots = tuple(r if i != n else r+1 for i, r in enumerate(robots))\n",
        "      if upper_bound_1(24 - time, recipes, amounts, new_robots) <= max_score:\n",
        "        continue\n",
        "      if upper_bound_2(24 - time, recipes, amounts, new_robots) <= max_score:\n",
        "        continue\n",
        "      stack.append((amounts, new_robots, time))\n",
        "  return max_score"
      ],
      "metadata": {
        "id": "ZhyINyyMI5WR"
      },
      "execution_count": 8,
      "outputs": []
    },
    {
      "cell_type": "code",
      "source": [
        "all_geodes = [geodes(b) for b in bs]"
      ],
      "metadata": {
        "id": "7ex74bGzhc06"
      },
      "execution_count": 9,
      "outputs": []
    },
    {
      "cell_type": "code",
      "source": [
        "sum(g*b[0] for g, b in zip(all_geodes, bs))"
      ],
      "metadata": {
        "colab": {
          "base_uri": "https://localhost:8080/"
        },
        "id": "W_5jgL6bI5qg",
        "outputId": "6edd353d-7aae-4f05-9160-c1b83a2a7184"
      },
      "execution_count": 10,
      "outputs": [
        {
          "output_type": "execute_result",
          "data": {
            "text/plain": [
              "1427"
            ]
          },
          "metadata": {},
          "execution_count": 10
        }
      ]
    },
    {
      "cell_type": "code",
      "source": [
        "import heapq\n",
        "def geodes(b):\n",
        "  recipes = [\n",
        "      (b[1], 0, 0, 0),\n",
        "      (b[2], 0, 0, 0),\n",
        "      (b[3], b[4], 0, 0),\n",
        "      (b[5], 0, b[6], 0)]\n",
        "  rev_recipes = list(reversed(list(enumerate(recipes))))\n",
        "  max_score = 0\n",
        "  pq = [(-float('inf'), (0, 0, 0, 0), (1, 0, 0, 0), 0)]\n",
        "  while pq:\n",
        "    _, base_amounts, robots, base_time = heapq.heappop(pq)\n",
        "    for n, recipe in rev_recipes:\n",
        "      dt = calculate_time(base_amounts, robots, recipe)\n",
        "      time = base_time + dt + 1\n",
        "      if time > 32:\n",
        "        max_score = max(max_score, base_amounts[-1] + robots[-1] * (32 - base_time))\n",
        "        continue\n",
        "      amounts = tuple(a + r * (dt + 1) - rec for i, (a, r, rec) in enumerate(zip(base_amounts, robots, recipe)))\n",
        "      new_robots = tuple(r if i != n else r+1 for i, r in enumerate(robots))\n",
        "      if upper_bound_1(32 - time, recipes, amounts, new_robots) <= max_score:\n",
        "        continue\n",
        "      ub = upper_bound_2(32 - time, recipes, amounts, new_robots)\n",
        "      if ub <= max_score:\n",
        "        continue\n",
        "      heapq.heappush(pq, (-ub, amounts, new_robots, time))\n",
        "  return max_score"
      ],
      "metadata": {
        "id": "OYJLAfV-uEnr"
      },
      "execution_count": 11,
      "outputs": []
    },
    {
      "cell_type": "code",
      "source": [
        "all_geodes = [geodes(b) for b in bs[:3]]"
      ],
      "metadata": {
        "id": "brANoBzEhUYF"
      },
      "execution_count": 12,
      "outputs": []
    },
    {
      "cell_type": "code",
      "source": [
        "total = 1\n",
        "for g in all_geodes:\n",
        "  total *= g\n",
        "total"
      ],
      "metadata": {
        "colab": {
          "base_uri": "https://localhost:8080/"
        },
        "id": "Cy0z-Zrktkom",
        "outputId": "af73d835-f848-4ae2-d1b9-796922483d9f"
      },
      "execution_count": 13,
      "outputs": [
        {
          "output_type": "execute_result",
          "data": {
            "text/plain": [
              "4400"
            ]
          },
          "metadata": {},
          "execution_count": 13
        }
      ]
    }
  ]
}