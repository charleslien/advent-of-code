{
  "nbformat": 4,
  "nbformat_minor": 0,
  "metadata": {
    "colab": {
      "provenance": [],
      "authorship_tag": "ABX9TyPqMJIfPmMVHddfI+9cPZcu"
    },
    "kernelspec": {
      "name": "python3",
      "display_name": "Python 3"
    },
    "language_info": {
      "name": "python"
    }
  },
  "cells": [
    {
      "cell_type": "code",
      "source": [
        "raw = '''Valve DR has flow rate=22; tunnels lead to valves DC, YA\n",
        "Valve IO has flow rate=14; tunnels lead to valves GE, CK, HY, XB\n",
        "Valve XY has flow rate=0; tunnels lead to valves IP, AR\n",
        "Valve UQ has flow rate=0; tunnels lead to valves XU, PD\n",
        "Valve FO has flow rate=0; tunnels lead to valves DL, NC\n",
        "Valve PU has flow rate=0; tunnels lead to valves ZJ, AN\n",
        "Valve MK has flow rate=0; tunnels lead to valves ZS, SB\n",
        "Valve HN has flow rate=0; tunnels lead to valves AA, DV\n",
        "Valve XF has flow rate=0; tunnels lead to valves XB, AA\n",
        "Valve OD has flow rate=13; tunnels lead to valves ZS, AF, SY, QQ, AR\n",
        "Valve GE has flow rate=0; tunnels lead to valves KR, IO\n",
        "Valve UF has flow rate=18; tunnels lead to valves QQ, AN, YE, GY\n",
        "Valve WK has flow rate=19; tunnel leads to valve PQ\n",
        "Valve PQ has flow rate=0; tunnels lead to valves WK, CW\n",
        "Valve XU has flow rate=0; tunnels lead to valves DV, UQ\n",
        "Valve SH has flow rate=0; tunnels lead to valves IP, AA\n",
        "Valve SY has flow rate=0; tunnels lead to valves ZJ, OD\n",
        "Valve OU has flow rate=0; tunnels lead to valves CK, DL\n",
        "Valve IP has flow rate=8; tunnels lead to valves CY, ML, YI, XY, SH\n",
        "Valve XZ has flow rate=0; tunnels lead to valves AM, PD\n",
        "Valve ZU has flow rate=0; tunnels lead to valves CW, SB\n",
        "Valve DC has flow rate=0; tunnels lead to valves CF, DR\n",
        "Valve QY has flow rate=0; tunnels lead to valves CW, MQ\n",
        "Valve XB has flow rate=0; tunnels lead to valves IO, XF\n",
        "Valve AF has flow rate=0; tunnels lead to valves PD, OD\n",
        "Valve GY has flow rate=0; tunnels lead to valves UF, ZC\n",
        "Valve ZC has flow rate=0; tunnels lead to valves GY, CW\n",
        "Valve ZJ has flow rate=25; tunnels lead to valves SY, PU\n",
        "Valve NC has flow rate=6; tunnels lead to valves HY, ML, NJ, AT, FO\n",
        "Valve DS has flow rate=0; tunnels lead to valves AT, DV\n",
        "Valve DV has flow rate=7; tunnels lead to valves FD, KR, HN, DS, XU\n",
        "Valve HY has flow rate=0; tunnels lead to valves NC, IO\n",
        "Valve WF has flow rate=0; tunnels lead to valves NJ, AA\n",
        "Valve CK has flow rate=0; tunnels lead to valves IO, OU\n",
        "Valve YE has flow rate=0; tunnels lead to valves CY, UF\n",
        "Valve LA has flow rate=0; tunnels lead to valves DL, ZM\n",
        "Valve QQ has flow rate=0; tunnels lead to valves OD, UF\n",
        "Valve AM has flow rate=0; tunnels lead to valves XZ, SB\n",
        "Valve AN has flow rate=0; tunnels lead to valves UF, PU\n",
        "Valve CL has flow rate=16; tunnels lead to valves YA, LD\n",
        "Valve CF has flow rate=12; tunnel leads to valve DC\n",
        "Valve FD has flow rate=0; tunnels lead to valves DV, DL\n",
        "Valve QU has flow rate=0; tunnels lead to valves LD, PD\n",
        "Valve AT has flow rate=0; tunnels lead to valves DS, NC\n",
        "Valve SB has flow rate=24; tunnels lead to valves MK, AM, ZU\n",
        "Valve YI has flow rate=0; tunnels lead to valves DL, IP\n",
        "Valve ZM has flow rate=0; tunnels lead to valves AA, LA\n",
        "Valve LD has flow rate=0; tunnels lead to valves CL, QU\n",
        "Valve AR has flow rate=0; tunnels lead to valves OD, XY\n",
        "Valve DL has flow rate=5; tunnels lead to valves FO, LA, YI, OU, FD\n",
        "Valve MQ has flow rate=0; tunnels lead to valves QY, PD\n",
        "Valve PD has flow rate=9; tunnels lead to valves MQ, QU, XZ, AF, UQ\n",
        "Valve KR has flow rate=0; tunnels lead to valves GE, DV\n",
        "Valve CY has flow rate=0; tunnels lead to valves YE, IP\n",
        "Valve AA has flow rate=0; tunnels lead to valves SH, XF, ZM, HN, WF\n",
        "Valve NJ has flow rate=0; tunnels lead to valves NC, WF\n",
        "Valve YA has flow rate=0; tunnels lead to valves CL, DR\n",
        "Valve ML has flow rate=0; tunnels lead to valves NC, IP\n",
        "Valve CW has flow rate=15; tunnels lead to valves QY, PQ, ZC, ZU\n",
        "Valve ZS has flow rate=0; tunnels lead to valves MK, OD'''"
      ],
      "metadata": {
        "id": "8inG3rmmEFBx"
      },
      "execution_count": 1,
      "outputs": []
    },
    {
      "cell_type": "code",
      "source": [
        "lines = raw.splitlines()"
      ],
      "metadata": {
        "id": "JLhz1brHLp2s"
      },
      "execution_count": 2,
      "outputs": []
    },
    {
      "cell_type": "code",
      "source": [
        "import re\n",
        "p = re.compile(r'Valve (.*) has flow rate=(\\d+); tunnels? leads? to valves? (.*)')"
      ],
      "metadata": {
        "id": "c5RyY8j9LrLi"
      },
      "execution_count": 3,
      "outputs": []
    },
    {
      "cell_type": "code",
      "source": [
        "vs = {}\n",
        "for line in lines:\n",
        "  v, flow, neighbors= p.match(line).groups()\n",
        "  vs[v] = (int(flow), neighbors.split(', '))"
      ],
      "metadata": {
        "id": "v31q-oPxL0vj"
      },
      "execution_count": 4,
      "outputs": []
    },
    {
      "cell_type": "code",
      "source": [
        "nz_vs = {v for v, (f, n) in vs.items() if f > 0}"
      ],
      "metadata": {
        "id": "zffd40R5MIJh"
      },
      "execution_count": 5,
      "outputs": []
    },
    {
      "cell_type": "code",
      "source": [
        "import collections\n",
        "s = nz_vs | {'AA'}\n",
        "dists = {(v, v): 0 for v in s}\n",
        "for v in s:\n",
        "  visited = set()\n",
        "  q = collections.deque([v])\n",
        "  while q:\n",
        "    c = q.popleft()\n",
        "    for n in vs[c][1]:\n",
        "      if n in visited:\n",
        "        continue\n",
        "      visited.add(n)\n",
        "      dists[v, n] = dists[v, c] + 1\n",
        "      q.append(n)"
      ],
      "metadata": {
        "id": "dUOFTV4PMyL_"
      },
      "execution_count": 6,
      "outputs": []
    },
    {
      "cell_type": "code",
      "source": [
        "stack = [('AA', [], 30, 0)]\n",
        "max_score = 0\n",
        "while stack:\n",
        "  curr, visited, remaining, score = stack.pop()\n",
        "  for v in nz_vs - set(visited):\n",
        "    new_remaining = remaining - dists[curr, v] - 1\n",
        "    if new_remaining <= 0:\n",
        "      continue\n",
        "    new_score = score + new_remaining * vs[v][0]\n",
        "\n",
        "    max_score = max(max_score, new_score)\n",
        "    stack.append((v, visited + [v], new_remaining, new_score))\n",
        "max_score"
      ],
      "metadata": {
        "colab": {
          "base_uri": "https://localhost:8080/"
        },
        "id": "jnsnqq00MIaQ",
        "outputId": "9b245072-6319-42d3-cfa3-c843537f1189"
      },
      "execution_count": 7,
      "outputs": [
        {
          "output_type": "execute_result",
          "data": {
            "text/plain": [
              "1850"
            ]
          },
          "metadata": {},
          "execution_count": 7
        }
      ]
    },
    {
      "cell_type": "code",
      "source": [
        "stack = [('AA', [], 26, 0)]\n",
        "max_scores = {(): 0}\n",
        "while stack:\n",
        "  curr, visited, remaining, score = stack.pop()\n",
        "  visited = list(visited)\n",
        "  for v in nz_vs - set(visited):\n",
        "    new_remaining = remaining - dists[curr, v] - 1\n",
        "    if new_remaining <= 0:\n",
        "      continue\n",
        "    new_visited = tuple(sorted(visited + [v]))\n",
        "    new_score = score + new_remaining * vs[v][0]\n",
        "\n",
        "    max_scores[new_visited] = max(max_scores.get(new_visited, 0), new_score)\n",
        "    stack.append((v, new_visited, new_remaining, new_score))"
      ],
      "metadata": {
        "id": "1O1mCYqRMXEn"
      },
      "execution_count": 8,
      "outputs": []
    },
    {
      "cell_type": "code",
      "source": [
        "from itertools import chain, combinations\n",
        "def powerset(iterable):\n",
        "    \"powerset([1,2,3]) --> () (1,) (2,) (3,) (1,2) (1,3) (2,3) (1,2,3)\"\n",
        "    s = list(iterable)\n",
        "    return chain.from_iterable(combinations(s, r) for r in range(len(s)+1))"
      ],
      "metadata": {
        "id": "ZSJkT3IVEPA-"
      },
      "execution_count": 9,
      "outputs": []
    },
    {
      "cell_type": "code",
      "source": [
        "s_nz_vs = list(sorted(nz_vs))"
      ],
      "metadata": {
        "id": "7A2sFVLuHA8U"
      },
      "execution_count": 10,
      "outputs": []
    },
    {
      "cell_type": "code",
      "source": [
        "ordered_scores = sorted(max_scores.items(), key=lambda kv: kv[1], reverse=True)\n",
        "for s in powerset(s_nz_vs):\n",
        "  if s in max_scores:\n",
        "    continue\n",
        "  max_scores[s] = max(max_scores[tuple(x for x in s if x != v)] for v in s)"
      ],
      "metadata": {
        "id": "ixg_32P5oKfN"
      },
      "execution_count": 11,
      "outputs": []
    },
    {
      "cell_type": "code",
      "source": [
        "m_score = 0\n",
        "for s in powerset(s_nz_vs):\n",
        "  m_score = max(m_score, max_scores[s] + max_scores[tuple(v for v in s_nz_vs if v not in s)])\n",
        "m_score"
      ],
      "metadata": {
        "colab": {
          "base_uri": "https://localhost:8080/"
        },
        "id": "JX1gRRQXEA7I",
        "outputId": "44d6e2ea-521c-45b4-a385-161bd71cc78c"
      },
      "execution_count": 12,
      "outputs": [
        {
          "output_type": "execute_result",
          "data": {
            "text/plain": [
              "2306"
            ]
          },
          "metadata": {},
          "execution_count": 12
        }
      ]
    }
  ]
}