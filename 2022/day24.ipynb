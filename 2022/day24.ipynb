{
  "cells": [
    {
      "cell_type": "code",
      "source": [
        "raw = '''#.########################################################################################################################\n",
        "#<<<^<^^>v<<^<^><><v<^<<.v^><<<v>><^v<vv>v<vv>^>>^^^^.>>^vv<^<<>^.vv.<>>v>v^>^<><.vv^v.^<^v>^vv<^vv<<>v<<>><<<v^^>v><<<^>#\n",
        "#>^^v><.<>>v.v.^>v^..>^<vv>v^><v^<<>v>>.^v^vv^^>.^><^>>^>vv>>v^>vvvv^v^vv<<^<^>^>^v<v^>><><v^^^<v.^v<>^.>v><vv.^<^^^^<>>>#\n",
        "#<<.><>v<>.v^<^^v<^^>.^.>>v.^^^v>^^^.<><.^.<>>^<>.v><^^^>^>^^^^><vv^.v^<<^v>v^^^<<<^<..^vv><.^v<vv^>>vv>v.><v^>>^<v^>>vv>#\n",
        "#.><^v.>^v>>vv><^>.>>>>>^.>>.>^v>v^>v^^>v^^..>^.^<^.v<>v<<<^^^.vvv>>.<>^vvv>>.^<^v^>^<^<vv>^>^.<>^<<>v.<<<.^<>^>.<v.vvv^>#\n",
        "#>><v<>.v><<^^vvv<<<^>^v^v><^>^<>>v.<.<>^<>vv>vv>^.v><<<^<v^vvv.<<<><^<^<^.^^vv>^v^^v<>>vv^<^.^v^v<v^>^.>.v>v^^<v<^<>^>v>#\n",
        "#>>><v<.>>v^<.^vvvv<v<^<<v>>v>vv.^><v^.>>vv><<.<^.^v>^^><>^<^v<vvvvv<<<<^^>..>>>v^^>.vv<>.^^^.<v>v^>>^>^^>v^v^^<.>>^^<.<>#\n",
        "#<<v>>v<>^><^v<>^>vvv..v.^.<^.v.vv^.<.v<>v>^<^v^<^>><.<>v^v>^<<^<v^^<v^<v^.<v><<<>^^<><>.v><^^^<<^<v>><vv<^<^.^<<^.^<<v>>#\n",
        "#>>>^^>v^>^>>v><<>^<v><>>^>.<v<<>v<>^<>^v.<<^.^^^^>^.v>v><v^>vv^^^.>v^<v^^v<<^.vv^>vvv>^>>v<.^^vv<<v.v..^v.^vvv.<.>^<^v>>#\n",
        "#><^vv^>>v.<^<v^^><v^>^><<<v^>v><v^^>><vv^><.>>^vv>><vv<^v^v^>^>>.vvvvvv<>>>.>^<vv^<vv<<<^^v^>.v><^.<<^<>^^>.^v><^^vv.^>>#\n",
        "#>..<<v<<>>.<^v<<.>v^<..^<^^v^>.><.<v>>v><<>^>>v<vvv>>v<v>.vvvv<.<<<^<^v>^<v^>>v.^v^<^v..^..<^<><>^<<>^>^<<^^.>^^<v<>v<><#\n",
        "#<v^v>v<^^<v>>vv^v<..^>v>>>.>^^<>>>^..>>>^<<^<^<>^<v>>^>>><^v^v^<.^<<<^v^.^^^<v>>><^^<>>><..vv.^.^<<v^v.>>^v^^><>><.v^>v>#\n",
        "#.<^^<v>v.<v<^.^v^<.v^vvv^vv^<..v<.>>>v<<>>vv>>^.>^.v>vv>.v^<<v^>>v.<^^<^<<>^^.^^>^>>^<^<<^^vv^^.<.><^.>^^<>v<.^v<>v><v<.#\n",
        "#>^.v^^><^<.>^v>v><>>>..>.v>vvv<<vv^.>v>.>v.<^vv.^>^vvv>.>v^v>>.>^^<<>>.^.>>>^>v<>v>v^^<>^<^.^><.vv^^<<.^v>>.>>>.^>^^^^^<#\n",
        "#..^>vv><^^.>>^^.<<<v..<<>^.<.<^^.v<<<^<<>><>v>v<^^^.<><^<<>v^^<^v^>^v>v<<^<<v<><<>.><..<^vv^<.><>^^><<.>>^.^v><>v^<^v>^>#\n",
        "#><<>v>.>^<<v>>>>>^>v..<vv<^<v>>^<<^v<v<<<<.v^>v.v<^>>>v.^><^><>.<>.^v><><<v>^^^^.<<.>^>><>.<<.<^<.^>..^>^.^>^v^v.<.^v>><#\n",
        "#><><^v.<<<<>>v<<<<^v<<^^<><<.>^^.^.^.<>vv<<<v>^<><^^<^>^>^^.v<^>>vv^v.>^.<<><vv>>.>.<><^<.<<>.v>.^>>>^<<>.<v>^^v^v^<>.<<#\n",
        "#<^>^v^>v^v.<^^>.^>^<<>.<.<<vvv>v>v^v^vvv>v^v^v<^^^<^>>v.^v.^>v><.^^^<>^>^^vv.v>>>^v<<>>^<^.v^>>>><v>v><^<.^v^v^^.<<>><^<#\n",
        "#>^>v.><v<^<><>><v<^^<^><<<<^v>^<v^>v<<>^>>.><v<v<^^>^<><><^<.<.<><v^^.^>>v^v^.>><vvvv^v^vv><<^<<^>.v>>>vv>v^v^^<v^^>^>><#\n",
        "#<<v^^>vv^^v.<<v<v<^><^v.>.<^v^>^^>^<^^v>>v<^^vv<>^v^.^v<>.<^^>^^v><>^^v.><.v^^>.<<.v^<v<^<>^<^><v^>.>^v>v<v<.>v<.<v.>.<<#\n",
        "#>^<<v^vv..vv^v><>>>^>v.>v^..^>^vv>^^>v^v<>.><v<<<<^><>v^.v^>.>^vv>vv>.>^<<.v<^^v^<<>^^^>^.<.v>^><.<^<^>>><.<<^^^>^<^<v<>#\n",
        "#<^><v<v><<<>v>>vv.>^<v>><>v>^.v^<v><<^<>>^<^^.<v<<vv>^v.v.<vv<^<<^>v>v.<<<v^><^^>.>>v>.<^vv.^v>^^^<><<^<>>><v^v>>>v<^>v>#\n",
        "#>>>^.v><<<>^v<.<.^><v>><>.<.<>v^v>>>^<^^vvv.vv<v<^^^>><^v>>>v>v<>v<v<vv^.^>v<>^>>>^<<v<vv^>><.v<^v<v^<.<>v>^>^><.>v<>.><#\n",
        "#<^<v>v.vv>vv^v<.>>.v.^..>^v<.v><>^<.^^<v><^.v^<v^vv^^v^<>>^<^><v.vvv^>.^v>><<>><<<>.<v^<^.<vv^.v<><v^v^>^v^>v<<v^>vv>^v>#\n",
        "#<><.v.^v>>><^.<.^<<v>^^><<^>>.^^.v>vv^^.v>^<<^^<<<^>>^>^>v..^v><>v<vv<<v^v<>>><v>^v<><.>v>v>v^^.^>>vv^v.vv<>v^<><^^><vv<#\n",
        "#<<v<v>^><^v^<^<v>><.v<.>^vv^>^<v^v>v<.vvv<v<^^>^^^^v^<<v^>v<v^vv>.^vv>v^.>>.^<.>>v<..^v.>^<<v<vvv^<..^<<>^^>v<<><^^><>>>#\n",
        "########################################################################################################################.#'''"
      ],
      "metadata": {
        "id": "s2Q8lcDqZGHh"
      },
      "execution_count": 1,
      "outputs": []
    },
    {
      "cell_type": "code",
      "source": [
        "lines = raw.splitlines()"
      ],
      "metadata": {
        "id": "v006Ay74ZOGs"
      },
      "execution_count": 2,
      "outputs": []
    },
    {
      "cell_type": "code",
      "source": [
        "dirs = {\n",
        "    '^': (-1, 0),\n",
        "    'v': (1, 0),\n",
        "    '<': (0, -1),\n",
        "    '>': (0, 1),\n",
        "}"
      ],
      "metadata": {
        "id": "nulRe7VABLhD"
      },
      "execution_count": 3,
      "outputs": []
    },
    {
      "cell_type": "code",
      "source": [
        "n = len(lines)\n",
        "m = len(lines[0])\n",
        "bs = {}\n",
        "for i, line in enumerate(lines):\n",
        "  for j, c in enumerate(line):\n",
        "    if c in '.#':\n",
        "      continue\n",
        "    if c not in bs:\n",
        "      bs[c] = set()\n",
        "    bs[c].add((i, j))"
      ],
      "metadata": {
        "id": "RgAns5t0BTWx"
      },
      "execution_count": 4,
      "outputs": []
    },
    {
      "cell_type": "code",
      "source": [
        "def get_next(b, d):\n",
        "  i, j = b[0] + d[0], b[1] + d[1]\n",
        "  if i == 0:\n",
        "    i = n - 2\n",
        "  if i == n - 1:\n",
        "    i = 1\n",
        "  if j == 0:\n",
        "    j = m - 2\n",
        "  if j == m - 1:\n",
        "    j = 1\n",
        "  return i, j"
      ],
      "metadata": {
        "id": "Z_-vnBF_DFTc"
      },
      "execution_count": 5,
      "outputs": []
    },
    {
      "cell_type": "code",
      "source": [
        "def in_bounds(p):\n",
        "  if p == (0, 1):\n",
        "    return True\n",
        "  if p == (n-1, m-2):\n",
        "    return True\n",
        "  i, j = p\n",
        "  if i <= 0:\n",
        "    return False\n",
        "  if j <= 0:\n",
        "    return False\n",
        "  if i >= n-1:\n",
        "    return False\n",
        "  if j >= m-1:\n",
        "    return False\n",
        "  return True"
      ],
      "metadata": {
        "id": "g7IB5ArtEU7o"
      },
      "execution_count": 6,
      "outputs": []
    },
    {
      "cell_type": "code",
      "source": [
        "time = 0\n",
        "ps = {(0, 1)}\n",
        "while (n-1, m-2) not in ps:\n",
        "  time += 1\n",
        "  new_ps = set()\n",
        "  blocked = set()\n",
        "  for c, d in dirs.items():\n",
        "    bs[c] = {get_next(b, d) for b in bs[c]}\n",
        "    blocked |= bs[c]\n",
        "  for p in ps:\n",
        "    if p not in blocked and in_bounds(p):\n",
        "      new_ps.add(p)\n",
        "    for d in dirs.values():\n",
        "      i, j = p[0] + d[0], p[1] + d[1]\n",
        "      if (i, j) in blocked or not in_bounds((i, j)):\n",
        "        continue\n",
        "      new_ps.add((i, j))\n",
        "  ps = new_ps\n",
        "  continue\n",
        "\n",
        "  for i in range(n):\n",
        "    row = []\n",
        "    for j in range(m):\n",
        "      if not in_bounds((i, j)):\n",
        "        row.append('#')\n",
        "        continue\n",
        "      if (i, j) in ps:\n",
        "        row.append('E')\n",
        "        continue\n",
        "      count = 0\n",
        "      lc = '?'\n",
        "      for c, b in bs.items():\n",
        "        if (i, j) in b:\n",
        "          lc = c\n",
        "          count += 1\n",
        "      if count == 0:\n",
        "        row.append('.')\n",
        "        continue\n",
        "      if count == 1:\n",
        "        row.append(lc)\n",
        "        continue\n",
        "      row.append(str(count))\n",
        "    print(''.join(row))\n",
        "  print(ps)\n",
        "time"
      ],
      "metadata": {
        "colab": {
          "base_uri": "https://localhost:8080/"
        },
        "id": "R1ac1q3YBwiv",
        "outputId": "5c5b1109-e074-4318-e837-dc579fb46d5c"
      },
      "execution_count": 7,
      "outputs": [
        {
          "output_type": "execute_result",
          "data": {
            "text/plain": [
              "277"
            ]
          },
          "metadata": {},
          "execution_count": 7
        }
      ]
    },
    {
      "cell_type": "code",
      "source": [
        "ps = {(n-1, m-2)}\n",
        "while (0, 1) not in ps:\n",
        "  time += 1\n",
        "  new_ps = set()\n",
        "  blocked = set()\n",
        "  for c, d in dirs.items():\n",
        "    bs[c] = {get_next(b, d) for b in bs[c]}\n",
        "    blocked |= bs[c]\n",
        "  for p in ps:\n",
        "    if p not in blocked and in_bounds(p):\n",
        "      new_ps.add(p)\n",
        "    for d in dirs.values():\n",
        "      i, j = p[0] + d[0], p[1] + d[1]\n",
        "      if (i, j) in blocked or not in_bounds((i, j)):\n",
        "        continue\n",
        "      new_ps.add((i, j))\n",
        "  ps = new_ps\n",
        "  continue"
      ],
      "metadata": {
        "id": "P4qeFQ8JEBoI"
      },
      "execution_count": 8,
      "outputs": []
    },
    {
      "cell_type": "code",
      "source": [
        "ps = {(0, 1)}\n",
        "while (n-1, m-2) not in ps:\n",
        "  time += 1\n",
        "  new_ps = set()\n",
        "  blocked = set()\n",
        "  for c, d in dirs.items():\n",
        "    bs[c] = {get_next(b, d) for b in bs[c]}\n",
        "    blocked |= bs[c]\n",
        "  for p in ps:\n",
        "    if p not in blocked and in_bounds(p):\n",
        "      new_ps.add(p)\n",
        "    for d in dirs.values():\n",
        "      i, j = p[0] + d[0], p[1] + d[1]\n",
        "      if (i, j) in blocked or not in_bounds((i, j)):\n",
        "        continue\n",
        "      new_ps.add((i, j))\n",
        "  ps = new_ps\n",
        "  continue"
      ],
      "metadata": {
        "id": "VGoxIgmdHj_8"
      },
      "execution_count": 9,
      "outputs": []
    },
    {
      "cell_type": "code",
      "source": [
        "time"
      ],
      "metadata": {
        "colab": {
          "base_uri": "https://localhost:8080/"
        },
        "id": "cFVpFDb8Hrta",
        "outputId": "d434db99-1ee4-411a-c685-d3f5de484b8a"
      },
      "execution_count": 10,
      "outputs": [
        {
          "output_type": "execute_result",
          "data": {
            "text/plain": [
              "877"
            ]
          },
          "metadata": {},
          "execution_count": 10
        }
      ]
    }
  ],
  "metadata": {
    "colab": {
      "provenance": []
    },
    "kernelspec": {
      "display_name": "Python 3",
      "name": "python3"
    },
    "language_info": {
      "name": "python"
    }
  },
  "nbformat": 4,
  "nbformat_minor": 0
}