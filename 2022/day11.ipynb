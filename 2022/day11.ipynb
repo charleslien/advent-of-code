{
  "nbformat": 4,
  "nbformat_minor": 0,
  "metadata": {
    "colab": {
      "provenance": []
    },
    "kernelspec": {
      "name": "python3",
      "display_name": "Python 3"
    },
    "language_info": {
      "name": "python"
    }
  },
  "cells": [
    {
      "cell_type": "code",
      "source": [
        "raw = '''Monkey 0:\n",
        "  Starting items: 54, 82, 90, 88, 86, 54\n",
        "  Operation: new = old * 7\n",
        "  Test: divisible by 11\n",
        "    If true: throw to monkey 2\n",
        "    If false: throw to monkey 6\n",
        "\n",
        "Monkey 1:\n",
        "  Starting items: 91, 65\n",
        "  Operation: new = old * 13\n",
        "  Test: divisible by 5\n",
        "    If true: throw to monkey 7\n",
        "    If false: throw to monkey 4\n",
        "\n",
        "Monkey 2:\n",
        "  Starting items: 62, 54, 57, 92, 83, 63, 63\n",
        "  Operation: new = old + 1\n",
        "  Test: divisible by 7\n",
        "    If true: throw to monkey 1\n",
        "    If false: throw to monkey 7\n",
        "\n",
        "Monkey 3:\n",
        "  Starting items: 67, 72, 68\n",
        "  Operation: new = old * old\n",
        "  Test: divisible by 2\n",
        "    If true: throw to monkey 0\n",
        "    If false: throw to monkey 6\n",
        "\n",
        "Monkey 4:\n",
        "  Starting items: 68, 89, 90, 86, 84, 57, 72, 84\n",
        "  Operation: new = old + 7\n",
        "  Test: divisible by 17\n",
        "    If true: throw to monkey 3\n",
        "    If false: throw to monkey 5\n",
        "\n",
        "Monkey 5:\n",
        "  Starting items: 79, 83, 64, 58\n",
        "  Operation: new = old + 6\n",
        "  Test: divisible by 13\n",
        "    If true: throw to monkey 3\n",
        "    If false: throw to monkey 0\n",
        "\n",
        "Monkey 6:\n",
        "  Starting items: 96, 72, 89, 70, 88\n",
        "  Operation: new = old + 4\n",
        "  Test: divisible by 3\n",
        "    If true: throw to monkey 1\n",
        "    If false: throw to monkey 2\n",
        "\n",
        "Monkey 7:\n",
        "  Starting items: 79\n",
        "  Operation: new = old + 8\n",
        "  Test: divisible by 19\n",
        "    If true: throw to monkey 4\n",
        "    If false: throw to monkey 5'''"
      ],
      "metadata": {
        "id": "ajtALmaWbYPu"
      },
      "execution_count": 1,
      "outputs": []
    },
    {
      "cell_type": "code",
      "source": [
        "blocks = raw.split('\\n\\n')"
      ],
      "metadata": {
        "id": "dUkR7j4wn2n8"
      },
      "execution_count": 2,
      "outputs": []
    },
    {
      "cell_type": "code",
      "source": [
        "class Monkey:\n",
        "  def __init__(self, block):\n",
        "    lines = block.splitlines()\n",
        "    self.items = [int(x) for x in lines[1][len('  Starting items: '):].split(', ')]\n",
        "    def op(old):\n",
        "      return eval(self.raw_op)\n",
        "    self.op = op\n",
        "    self.raw_op = lines[2][len('  Operation: new = '):]\n",
        "    self.modulus = int(lines[3][len('  Test: divisible by '):])\n",
        "    self.target_true = int(lines[4][len('    If true: throw to monkey '):])\n",
        "    self.target_false = int(lines[5][len('    If false: throw to monkey '):])"
      ],
      "metadata": {
        "id": "pdPUuu27oDTz"
      },
      "execution_count": 3,
      "outputs": []
    },
    {
      "cell_type": "code",
      "source": [
        "monkeys = [Monkey(b) for b in blocks]"
      ],
      "metadata": {
        "id": "x75NW9JepMw7"
      },
      "execution_count": 4,
      "outputs": []
    },
    {
      "cell_type": "code",
      "source": [
        "counts = [0] * len(monkeys)\n",
        "for _ in range(20):\n",
        "  for i, m in enumerate(monkeys):\n",
        "    for item in m.items:\n",
        "      v = m.op(item) // 3\n",
        "      if v % m.modulus == 0:\n",
        "        monkeys[m.target_true].items.append(v)\n",
        "      else:\n",
        "        monkeys[m.target_false].items.append(v)\n",
        "      counts[i] += 1\n",
        "    m.items = []\n",
        "s = sorted(counts)\n",
        "s[-1] * s[-2]"
      ],
      "metadata": {
        "colab": {
          "base_uri": "https://localhost:8080/"
        },
        "id": "psSFHDmmtUip",
        "outputId": "afbd5f34-baee-4353-bde3-61c97d405dc5"
      },
      "execution_count": 5,
      "outputs": [
        {
          "output_type": "execute_result",
          "data": {
            "text/plain": [
              "78960"
            ]
          },
          "metadata": {},
          "execution_count": 5
        }
      ]
    },
    {
      "cell_type": "code",
      "source": [
        "monkeys = [Monkey(b) for b in blocks]\n",
        "all_mods = [m.modulus for m in monkeys]\n",
        "for m in monkeys:\n",
        "  m.items = [[item % mod for mod in all_mods] for item in m.items]\n",
        "counts = [0] * len(monkeys)\n",
        "for _ in range(10000):\n",
        "  for i, m in enumerate(monkeys):\n",
        "    for item in m.items:\n",
        "      vs = [m.op(x) % all_mods[j] for (j, x) in enumerate(item)]\n",
        "      if vs[i] == 0:\n",
        "        monkeys[m.target_true].items.append(vs)\n",
        "      else:\n",
        "        monkeys[m.target_false].items.append(vs)\n",
        "      counts[i] += 1\n",
        "    m.items = []\n",
        "s = sorted(counts)\n",
        "s[-1] * s[-2]"
      ],
      "metadata": {
        "colab": {
          "base_uri": "https://localhost:8080/"
        },
        "id": "JAA9OvZEtWFB",
        "outputId": "2fb82f7e-25cd-4178-89cc-4cf02e13fd35"
      },
      "execution_count": 6,
      "outputs": [
        {
          "output_type": "execute_result",
          "data": {
            "text/plain": [
              "14561971968"
            ]
          },
          "metadata": {},
          "execution_count": 6
        }
      ]
    }
  ]
}