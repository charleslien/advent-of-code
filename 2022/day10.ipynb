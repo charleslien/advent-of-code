{
  "nbformat": 4,
  "nbformat_minor": 0,
  "metadata": {
    "colab": {
      "provenance": []
    },
    "kernelspec": {
      "name": "python3",
      "display_name": "Python 3"
    },
    "language_info": {
      "name": "python"
    }
  },
  "cells": [
    {
      "cell_type": "code",
      "source": [
        "raw = '''addx 1\n",
        "addx 4\n",
        "noop\n",
        "noop\n",
        "noop\n",
        "addx 5\n",
        "addx 3\n",
        "noop\n",
        "addx 2\n",
        "noop\n",
        "noop\n",
        "noop\n",
        "noop\n",
        "addx 3\n",
        "addx 5\n",
        "addx 2\n",
        "addx 1\n",
        "noop\n",
        "addx 5\n",
        "addx -1\n",
        "addx 5\n",
        "noop\n",
        "addx 3\n",
        "noop\n",
        "addx -40\n",
        "noop\n",
        "addx 38\n",
        "addx -31\n",
        "addx 3\n",
        "noop\n",
        "addx 2\n",
        "addx -7\n",
        "addx 8\n",
        "addx 2\n",
        "addx 5\n",
        "addx 2\n",
        "addx 3\n",
        "addx -2\n",
        "noop\n",
        "noop\n",
        "noop\n",
        "addx 5\n",
        "addx 2\n",
        "noop\n",
        "addx 3\n",
        "addx 2\n",
        "noop\n",
        "addx 3\n",
        "addx -36\n",
        "noop\n",
        "noop\n",
        "addx 5\n",
        "noop\n",
        "noop\n",
        "addx 8\n",
        "addx -5\n",
        "addx 5\n",
        "addx 2\n",
        "addx -15\n",
        "addx 16\n",
        "addx 4\n",
        "noop\n",
        "addx 1\n",
        "noop\n",
        "noop\n",
        "addx 4\n",
        "addx 5\n",
        "addx -30\n",
        "addx 35\n",
        "addx -1\n",
        "addx 2\n",
        "addx -36\n",
        "addx 5\n",
        "noop\n",
        "noop\n",
        "addx -2\n",
        "addx 5\n",
        "addx 2\n",
        "addx 3\n",
        "noop\n",
        "addx 2\n",
        "noop\n",
        "noop\n",
        "addx 5\n",
        "noop\n",
        "addx 14\n",
        "addx -13\n",
        "addx 5\n",
        "addx -14\n",
        "addx 18\n",
        "addx 3\n",
        "addx 2\n",
        "addx -2\n",
        "addx 5\n",
        "addx -40\n",
        "noop\n",
        "addx 32\n",
        "addx -25\n",
        "addx 3\n",
        "noop\n",
        "addx 2\n",
        "addx 3\n",
        "addx -2\n",
        "addx 2\n",
        "addx 2\n",
        "noop\n",
        "addx 3\n",
        "addx 5\n",
        "addx 2\n",
        "addx 9\n",
        "addx -36\n",
        "addx 30\n",
        "addx 5\n",
        "addx 2\n",
        "addx -25\n",
        "addx 26\n",
        "addx -38\n",
        "addx 10\n",
        "addx -3\n",
        "noop\n",
        "noop\n",
        "addx 22\n",
        "addx -16\n",
        "addx -1\n",
        "addx 5\n",
        "addx 3\n",
        "noop\n",
        "addx 2\n",
        "addx -20\n",
        "addx 21\n",
        "addx 3\n",
        "addx 2\n",
        "addx -24\n",
        "addx 28\n",
        "noop\n",
        "addx 5\n",
        "addx 3\n",
        "noop\n",
        "addx -24\n",
        "noop'''"
      ],
      "metadata": {
        "id": "ajtALmaWbYPu"
      },
      "execution_count": 1,
      "outputs": []
    },
    {
      "cell_type": "code",
      "source": [
        "lines = raw.splitlines()"
      ],
      "metadata": {
        "id": "dUkR7j4wn2n8"
      },
      "execution_count": 2,
      "outputs": []
    },
    {
      "cell_type": "code",
      "source": [
        "def val(lines, cycle):\n",
        "  total = 1\n",
        "  i = 0\n",
        "  for line in lines:\n",
        "    i += 1\n",
        "    if i >= cycle:\n",
        "      return total\n",
        "    if line == 'noop':\n",
        "      continue\n",
        "    i += 1\n",
        "    if i >= cycle:\n",
        "      return total\n",
        "    total += int(line[5:])\n",
        "  return total\n",
        "sum(c * val(lines, c) for c in (20, 60, 100, 140, 180, 220))"
      ],
      "metadata": {
        "id": "pdPUuu27oDTz",
        "colab": {
          "base_uri": "https://localhost:8080/"
        },
        "outputId": "e0fddeb3-26d3-43a7-8ca1-0fec96c0c541"
      },
      "execution_count": 3,
      "outputs": [
        {
          "output_type": "execute_result",
          "data": {
            "text/plain": [
              "13720"
            ]
          },
          "metadata": {},
          "execution_count": 3
        }
      ]
    },
    {
      "cell_type": "code",
      "source": [
        "sprite = 1\n",
        "pixels = [['.'] * 40 for _ in range(6)]\n",
        "x, y = 0,0\n",
        "def next_cycle():\n",
        "  global x, y, pixels, sprite\n",
        "  if abs(sprite - x) <= 1:\n",
        "    pixels[y][x] = '#'\n",
        "  x += 1\n",
        "  if x >= 40:\n",
        "    x = 0\n",
        "    y += 1\n",
        "for line in lines:\n",
        "  if line == 'noop':\n",
        "    next_cycle()\n",
        "    continue\n",
        "  next_cycle()\n",
        "  next_cycle()\n",
        "  sprite += int(line[5:])\n",
        "for row in pixels:\n",
        "  print(''.join(row))"
      ],
      "metadata": {
        "colab": {
          "base_uri": "https://localhost:8080/"
        },
        "id": "x75NW9JepMw7",
        "outputId": "3011a8a7-0dc8-4145-bb1d-473b774e857c"
      },
      "execution_count": 4,
      "outputs": [
        {
          "output_type": "stream",
          "name": "stdout",
          "text": [
            "####.###..#..#.###..#..#.####..##..#..#.\n",
            "#....#..#.#..#.#..#.#..#....#.#..#.#..#.\n",
            "###..###..#..#.#..#.####...#..#....####.\n",
            "#....#..#.#..#.###..#..#..#...#....#..#.\n",
            "#....#..#.#..#.#.#..#..#.#....#..#.#..#.\n",
            "#....###...##..#..#.#..#.####..##..#..#.\n"
          ]
        }
      ]
    }
  ]
}