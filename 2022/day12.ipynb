{
  "nbformat": 4,
  "nbformat_minor": 0,
  "metadata": {
    "colab": {
      "provenance": []
    },
    "kernelspec": {
      "name": "python3",
      "display_name": "Python 3"
    },
    "language_info": {
      "name": "python"
    }
  },
  "cells": [
    {
      "cell_type": "code",
      "source": [
        "raw = '''abccccccccccccccccccaaaaaaaaacccccccccccccccccccccccccccccccccccccaaaa\n",
        "abcccccccccccccccaaaaaaaaaaacccccccccccccccccccccccccccccccccccccaaaaa\n",
        "abcaaccaacccccccccaaaaaaaaaacccccccccccccccccccccaaacccccccccccccaaaaa\n",
        "abcaaaaaaccccccccaaaaaaaaaaaaacccccccccccccccccccaacccccccccccccaaaaaa\n",
        "abcaaaaaacccaaacccccaaaaaaaaaaaccccccccccccccccccaaaccccccccccccccccaa\n",
        "abaaaaaaacccaaaaccccaaaaaacaaaacccccccccccaaaacjjjacccccccccccccccccca\n",
        "abaaaaaaaaccaaaaccccaaaaaaccccccaccccccccccaajjjjjkkcccccccccccccccccc\n",
        "abaaaaaaaaccaaacccccccaaaccccccaaccccccccccajjjjjjkkkaaacccaaaccaccccc\n",
        "abccaaacccccccccccccccaaccccaaaaaaaacccccccjjjjoookkkkaacccaaaaaaccccc\n",
        "abcccaacccccccccccccccccccccaaaaaaaaccccccjjjjoooookkkkcccccaaaaaccccc\n",
        "abcccccccaacccccccccccccccccccaaaacccccccijjjoooooookkkkccaaaaaaaccccc\n",
        "abccaaccaaaccccccccccccccccccaaaaacccccciijjooouuuoppkkkkkaaaaaaaacccc\n",
        "abccaaaaaaaccccccccccaaaaacccaacaaaccciiiiiooouuuuupppkkklllaaaaaacccc\n",
        "abccaaaaaacccccccccccaaaaacccacccaaciiiiiiqooouuuuuupppkllllllacaccccc\n",
        "abcccaaaaaaaacccccccaaaaaaccccaacaiiiiiqqqqoouuuxuuupppppplllllccccccc\n",
        "abccaaaaaaaaaccaaaccaaaaaaccccaaaaiiiiqqqqqqttuxxxuuuppppppplllccccccc\n",
        "abccaaaaaaaacccaaaaaaaaaaacccaaaahiiiqqqttttttuxxxxuuuvvpppplllccccccc\n",
        "abcaaaaaaacccaaaaaaaaaaacccccaaaahhhqqqqtttttttxxxxuuvvvvvqqlllccccccc\n",
        "abcccccaaaccaaaaaaaaaccccccccacaahhhqqqttttxxxxxxxyyyyyvvvqqlllccccccc\n",
        "abcccccaaaccaaaaaaaacccccccccccaahhhqqqtttxxxxxxxyyyyyyvvqqqlllccccccc\n",
        "SbcccccccccccaaaaaaaaaccccccccccchhhqqqtttxxxxEzzzyyyyvvvqqqmmlccccccc\n",
        "abcccccccccccaaaaaaaacccaacccccccchhhppptttxxxxyyyyyvvvvqqqmmmcccccccc\n",
        "abccccccccccaaaaaaaaaaccaacccccccchhhpppptttsxxyyyyyvvvqqqmmmccccccccc\n",
        "abcaacccccccaaaaaaacaaaaaaccccccccchhhppppsswwyyyyyyyvvqqmmmmccccccccc\n",
        "abaaaacccccccaccaaaccaaaaaaacccccccchhhpppsswwyywwyyyvvqqmmmddcccccccc\n",
        "abaaaaccccccccccaaaccaaaaaaacccccccchhhpppsswwwwwwwwwvvqqqmmdddccccccc\n",
        "abaaaacccccccccaaaccaaaaaaccccccccccgggpppsswwwwrrwwwwvrqqmmdddccccccc\n",
        "abccccccaaaaaccaaaacaaaaaaccccccaacccggpppssswwsrrrwwwvrrqmmdddacccccc\n",
        "abccccccaaaaaccaaaacccccaaccccaaaaaacggpppssssssrrrrrrrrrnmmdddaaccccc\n",
        "abcccccaaaaaaccaaaccccccccccccaaaaaacggppossssssoorrrrrrrnnmdddacccccc\n",
        "abcccccaaaaaaccccccccaaaaccccccaaaaacgggoooossoooonnnrrnnnnmddaaaacccc\n",
        "abccccccaaaaaccccccccaaaacccccaaaaaccgggoooooooooonnnnnnnnndddaaaacccc\n",
        "abccccccaaaccccccccccaaaacccccaaaaacccgggoooooooffennnnnnnedddaaaacccc\n",
        "abcccccccccccccccccccaaacccccccaacccccggggffffffffeeeeeeeeeedaaacccccc\n",
        "abccccccccccccccccccaaacccccaccaaccccccggfffffffffeeeeeeeeeecaaacccccc\n",
        "abccccccccccccccccccaaaacccaaaaaaaaaccccfffffffaaaaaeeeeeecccccccccccc\n",
        "abccccccccaacaaccccaaaaaacaaaaaaaaaaccccccccccaaaccaaaaccccccccccccccc\n",
        "abccccccccaaaaacccaaaaaaaaaaacaaaaccccccccccccaaaccccaaccccccccccaaaca\n",
        "abcccccccaaaaaccccaaaaaaaaaaacaaaaacccccccccccaaaccccccccccccccccaaaaa\n",
        "abcccccccaaaaaacccaaaaaaaaaacaaaaaacccccccccccaaccccccccccccccccccaaaa\n",
        "abcccccccccaaaaccaaaaaaaaaaaaaaccaaccccccccccccccccccccccccccccccaaaaa'''"
      ],
      "metadata": {
        "id": "ajtALmaWbYPu"
      },
      "execution_count": 1,
      "outputs": []
    },
    {
      "cell_type": "code",
      "source": [
        "lines = raw.splitlines()"
      ],
      "metadata": {
        "id": "UIJvldQlt5lg"
      },
      "execution_count": 2,
      "outputs": []
    },
    {
      "cell_type": "code",
      "source": [
        "import collections\n",
        "import numpy as np\n",
        "a = np.array([[ord(x) for x in line] for line in lines])\n",
        "s = np.shape(a)\n",
        "sloc = None\n",
        "eloc = None\n",
        "for i in range(s[0]):\n",
        "  for j in range(s[1]):\n",
        "    if a[i, j] == ord('S'):\n",
        "      sloc = i, j\n",
        "    if a[i, j] == ord('E'):\n",
        "      eloc = i, j\n",
        "    if eloc and sloc:\n",
        "      break\n",
        "  if sloc and eloc:\n",
        "    break"
      ],
      "metadata": {
        "id": "dUkR7j4wn2n8"
      },
      "execution_count": 3,
      "outputs": []
    },
    {
      "cell_type": "code",
      "source": [
        "a[sloc] = ord('a')\n",
        "a[eloc] = ord('z')\n",
        "q = collections.deque([(sloc, 0)])\n",
        "v = set()\n",
        "while q:\n",
        "  (x, y), steps = q.popleft()\n",
        "  if (x, y) in v:\n",
        "    continue\n",
        "  v.add((x, y))\n",
        "  elv = a[x, y]\n",
        "\n",
        "  if (x, y) == eloc:\n",
        "    print(steps)\n",
        "    break\n",
        "\n",
        "  if x > 0:\n",
        "    if a[x-1, y] <= elv + 1:\n",
        "      q.append(((x-1, y), steps+1))\n",
        "  if x < s[0]-1:\n",
        "    if a[x+1, y] <= elv + 1:\n",
        "      q.append(((x+1, y), steps+1))\n",
        "  if y > 0:\n",
        "    if a[x, y-1] <= elv + 1:\n",
        "      q.append(((x, y-1), steps+1))\n",
        "  if y < s[1]-1:\n",
        "    if a[x, y+1] <= elv + 1:\n",
        "      q.append(((x, y+1), steps+1))"
      ],
      "metadata": {
        "colab": {
          "base_uri": "https://localhost:8080/"
        },
        "id": "IqFHKELDuDBO",
        "outputId": "a3f4a173-3741-47a2-e1e7-c9bf724de73c"
      },
      "execution_count": 4,
      "outputs": [
        {
          "output_type": "stream",
          "name": "stdout",
          "text": [
            "352\n"
          ]
        }
      ]
    },
    {
      "cell_type": "code",
      "source": [
        "slocs = []\n",
        "for i in range(s[0]):\n",
        "  for j in range(s[1]):\n",
        "    if a[i, j] == ord('a'):\n",
        "      slocs.append(((i, j), 0))\n",
        "q = collections.deque(slocs)\n",
        "v = set()\n",
        "while q:\n",
        "  (x, y), steps = q.popleft()\n",
        "  if (x, y) in v:\n",
        "    continue\n",
        "  v.add((x, y))\n",
        "  elv = a[x, y]\n",
        "\n",
        "  if (x, y) == eloc:\n",
        "    print(steps)\n",
        "    break\n",
        "\n",
        "  if x > 0:\n",
        "    if a[x-1, y] <= elv + 1:\n",
        "      q.append(((x-1, y), steps+1))\n",
        "  if x < s[0]-1:\n",
        "    if a[x+1, y] <= elv + 1:\n",
        "      q.append(((x+1, y), steps+1))\n",
        "  if y > 0:\n",
        "    if a[x, y-1] <= elv + 1:\n",
        "      q.append(((x, y-1), steps+1))\n",
        "  if y < s[1]-1:\n",
        "    if a[x, y+1] <= elv + 1:\n",
        "      q.append(((x, y+1), steps+1))"
      ],
      "metadata": {
        "colab": {
          "base_uri": "https://localhost:8080/"
        },
        "id": "8aEJ7tjDuE8-",
        "outputId": "46e916bb-d779-421a-c046-cd4dc4b01065"
      },
      "execution_count": 5,
      "outputs": [
        {
          "output_type": "stream",
          "name": "stdout",
          "text": [
            "345\n"
          ]
        }
      ]
    }
  ]
}